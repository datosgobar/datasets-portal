{
 "cells": [
  {
   "cell_type": "code",
   "execution_count": 1,
   "metadata": {
    "collapsed": true
   },
   "outputs": [],
   "source": [
    "from data_cleaner import DataCleaner\n",
    "import pandas as pd"
   ]
  },
  {
   "cell_type": "code",
   "execution_count": 2,
   "metadata": {
    "collapsed": true
   },
   "outputs": [],
   "source": [
    "#input_path = \"contratos_vigentes_2015.csv\"\n",
    "#output_path = \"clear_contratos_vigentes_2015.csv\"\n",
    "\n",
    "input_path = \"contratos-hasta-2015-raw.csv\"\n",
    "output_path = \"contratos-hasta-2015-clean.csv\""
   ]
  },
  {
   "cell_type": "code",
   "execution_count": 3,
   "metadata": {
    "collapsed": true
   },
   "outputs": [
    {
     "name": "stderr",
     "output_type": "stream",
     "text": [
      "/home/mec/MEGAsync/repo/data-cleaner/data_cleaner/data_cleaner.py:124: UserWarning: \n",
      "\n",
      "El campo \"Cuit\" no sigue las convenciones para escribir\n",
      "campos (sólo se admiten caracteres alfanuméricos ASCII en\n",
      "minúsculas, con palabras separadas por \"_\"). DataCleaner\n",
      "normaliza automáticamente los campos en estos casos, lo\n",
      "que puede llevar a resultados inesperados.\n",
      "\n",
      "El nuevo nombre del campo normalizado es: \"cuit\".\n",
      "Método que llamó al normalizador de campos: __init__\n",
      "\n",
      "  warnings.warn(msg)\n",
      "/home/mec/MEGAsync/repo/data-cleaner/data_cleaner/data_cleaner.py:124: UserWarning: \n",
      "\n",
      "El campo \"Estudios\" no sigue las convenciones para escribir\n",
      "campos (sólo se admiten caracteres alfanuméricos ASCII en\n",
      "minúsculas, con palabras separadas por \"_\"). DataCleaner\n",
      "normaliza automáticamente los campos en estos casos, lo\n",
      "que puede llevar a resultados inesperados.\n",
      "\n",
      "El nuevo nombre del campo normalizado es: \"estudios\".\n",
      "Método que llamó al normalizador de campos: __init__\n",
      "\n",
      "  warnings.warn(msg)\n",
      "/home/mec/MEGAsync/repo/data-cleaner/data_cleaner/data_cleaner.py:124: UserWarning: \n",
      "\n",
      "El campo \"Titulo\" no sigue las convenciones para escribir\n",
      "campos (sólo se admiten caracteres alfanuméricos ASCII en\n",
      "minúsculas, con palabras separadas por \"_\"). DataCleaner\n",
      "normaliza automáticamente los campos en estos casos, lo\n",
      "que puede llevar a resultados inesperados.\n",
      "\n",
      "El nuevo nombre del campo normalizado es: \"titulo\".\n",
      "Método que llamó al normalizador de campos: __init__\n",
      "\n",
      "  warnings.warn(msg)\n",
      "/home/mec/MEGAsync/repo/data-cleaner/data_cleaner/data_cleaner.py:124: UserWarning: \n",
      "\n",
      "El campo \"Dedicacion\" no sigue las convenciones para escribir\n",
      "campos (sólo se admiten caracteres alfanuméricos ASCII en\n",
      "minúsculas, con palabras separadas por \"_\"). DataCleaner\n",
      "normaliza automáticamente los campos en estos casos, lo\n",
      "que puede llevar a resultados inesperados.\n",
      "\n",
      "El nuevo nombre del campo normalizado es: \"dedicacion\".\n",
      "Método que llamó al normalizador de campos: __init__\n",
      "\n",
      "  warnings.warn(msg)\n",
      "/home/mec/MEGAsync/repo/data-cleaner/data_cleaner/data_cleaner.py:124: UserWarning: \n",
      "\n",
      "El campo \"Desde\" no sigue las convenciones para escribir\n",
      "campos (sólo se admiten caracteres alfanuméricos ASCII en\n",
      "minúsculas, con palabras separadas por \"_\"). DataCleaner\n",
      "normaliza automáticamente los campos en estos casos, lo\n",
      "que puede llevar a resultados inesperados.\n",
      "\n",
      "El nuevo nombre del campo normalizado es: \"desde\".\n",
      "Método que llamó al normalizador de campos: __init__\n",
      "\n",
      "  warnings.warn(msg)\n",
      "/home/mec/MEGAsync/repo/data-cleaner/data_cleaner/data_cleaner.py:124: UserWarning: \n",
      "\n",
      "El campo \"Hasta\" no sigue las convenciones para escribir\n",
      "campos (sólo se admiten caracteres alfanuméricos ASCII en\n",
      "minúsculas, con palabras separadas por \"_\"). DataCleaner\n",
      "normaliza automáticamente los campos en estos casos, lo\n",
      "que puede llevar a resultados inesperados.\n",
      "\n",
      "El nuevo nombre del campo normalizado es: \"hasta\".\n",
      "Método que llamó al normalizador de campos: __init__\n",
      "\n",
      "  warnings.warn(msg)\n",
      "/home/mec/MEGAsync/repo/data-cleaner/data_cleaner/data_cleaner.py:124: UserWarning: \n",
      "\n",
      "El campo \"Financiacion\" no sigue las convenciones para escribir\n",
      "campos (sólo se admiten caracteres alfanuméricos ASCII en\n",
      "minúsculas, con palabras separadas por \"_\"). DataCleaner\n",
      "normaliza automáticamente los campos en estos casos, lo\n",
      "que puede llevar a resultados inesperados.\n",
      "\n",
      "El nuevo nombre del campo normalizado es: \"financiacion\".\n",
      "Método que llamó al normalizador de campos: __init__\n",
      "\n",
      "  warnings.warn(msg)\n",
      "/home/mec/MEGAsync/repo/data-cleaner/data_cleaner/data_cleaner.py:124: UserWarning: \n",
      "\n",
      "El campo \"Nivel_Grado\" no sigue las convenciones para escribir\n",
      "campos (sólo se admiten caracteres alfanuméricos ASCII en\n",
      "minúsculas, con palabras separadas por \"_\"). DataCleaner\n",
      "normaliza automáticamente los campos en estos casos, lo\n",
      "que puede llevar a resultados inesperados.\n",
      "\n",
      "El nuevo nombre del campo normalizado es: \"nivel_grado\".\n",
      "Método que llamó al normalizador de campos: __init__\n",
      "\n",
      "  warnings.warn(msg)\n",
      "/home/mec/MEGAsync/repo/data-cleaner/data_cleaner/data_cleaner.py:124: UserWarning: \n",
      "\n",
      "El campo \"Locacion\" no sigue las convenciones para escribir\n",
      "campos (sólo se admiten caracteres alfanuméricos ASCII en\n",
      "minúsculas, con palabras separadas por \"_\"). DataCleaner\n",
      "normaliza automáticamente los campos en estos casos, lo\n",
      "que puede llevar a resultados inesperados.\n",
      "\n",
      "El nuevo nombre del campo normalizado es: \"locacion\".\n",
      "Método que llamó al normalizador de campos: __init__\n",
      "\n",
      "  warnings.warn(msg)\n",
      "/home/mec/MEGAsync/repo/data-cleaner/data_cleaner/data_cleaner.py:124: UserWarning: \n",
      "\n",
      "El campo \"Alta_Fecha\" no sigue las convenciones para escribir\n",
      "campos (sólo se admiten caracteres alfanuméricos ASCII en\n",
      "minúsculas, con palabras separadas por \"_\"). DataCleaner\n",
      "normaliza automáticamente los campos en estos casos, lo\n",
      "que puede llevar a resultados inesperados.\n",
      "\n",
      "El nuevo nombre del campo normalizado es: \"alta_fecha\".\n",
      "Método que llamó al normalizador de campos: __init__\n",
      "\n",
      "  warnings.warn(msg)\n",
      "/home/mec/MEGAsync/repo/data-cleaner/data_cleaner/data_cleaner.py:124: UserWarning: \n",
      "\n",
      "El campo \"Mod_Fecha\" no sigue las convenciones para escribir\n",
      "campos (sólo se admiten caracteres alfanuméricos ASCII en\n",
      "minúsculas, con palabras separadas por \"_\"). DataCleaner\n",
      "normaliza automáticamente los campos en estos casos, lo\n",
      "que puede llevar a resultados inesperados.\n",
      "\n",
      "El nuevo nombre del campo normalizado es: \"mod_fecha\".\n",
      "Método que llamó al normalizador de campos: __init__\n",
      "\n",
      "  warnings.warn(msg)\n",
      "/home/mec/MEGAsync/repo/data-cleaner/data_cleaner/data_cleaner.py:124: UserWarning: \n",
      "\n",
      "El campo \"Nombre_Organismo\" no sigue las convenciones para escribir\n",
      "campos (sólo se admiten caracteres alfanuméricos ASCII en\n",
      "minúsculas, con palabras separadas por \"_\"). DataCleaner\n",
      "normaliza automáticamente los campos en estos casos, lo\n",
      "que puede llevar a resultados inesperados.\n",
      "\n",
      "El nuevo nombre del campo normalizado es: \"nombre_organismo\".\n",
      "Método que llamó al normalizador de campos: __init__\n",
      "\n",
      "  warnings.warn(msg)\n",
      "/home/mec/MEGAsync/repo/data-cleaner/data_cleaner/data_cleaner.py:124: UserWarning: \n",
      "\n",
      "El campo \"Apellido\" no sigue las convenciones para escribir\n",
      "campos (sólo se admiten caracteres alfanuméricos ASCII en\n",
      "minúsculas, con palabras separadas por \"_\"). DataCleaner\n",
      "normaliza automáticamente los campos en estos casos, lo\n",
      "que puede llevar a resultados inesperados.\n",
      "\n",
      "El nuevo nombre del campo normalizado es: \"apellido\".\n",
      "Método que llamó al normalizador de campos: __init__\n",
      "\n",
      "  warnings.warn(msg)\n",
      "/home/mec/MEGAsync/repo/data-cleaner/data_cleaner/data_cleaner.py:124: UserWarning: \n",
      "\n",
      "El campo \"Nombre\" no sigue las convenciones para escribir\n",
      "campos (sólo se admiten caracteres alfanuméricos ASCII en\n",
      "minúsculas, con palabras separadas por \"_\"). DataCleaner\n",
      "normaliza automáticamente los campos en estos casos, lo\n",
      "que puede llevar a resultados inesperados.\n",
      "\n",
      "El nuevo nombre del campo normalizado es: \"nombre\".\n",
      "Método que llamó al normalizador de campos: __init__\n",
      "\n",
      "  warnings.warn(msg)\n",
      "/home/mec/MEGAsync/repo/data-cleaner/data_cleaner/data_cleaner.py:124: UserWarning: \n",
      "\n",
      "El campo \"ID_Unico\" no sigue las convenciones para escribir\n",
      "campos (sólo se admiten caracteres alfanuméricos ASCII en\n",
      "minúsculas, con palabras separadas por \"_\"). DataCleaner\n",
      "normaliza automáticamente los campos en estos casos, lo\n",
      "que puede llevar a resultados inesperados.\n",
      "\n",
      "El nuevo nombre del campo normalizado es: \"id_unico\".\n",
      "Método que llamó al normalizador de campos: __init__\n",
      "\n",
      "  warnings.warn(msg)\n",
      "/home/mec/MEGAsync/repo/data-cleaner/data_cleaner/data_cleaner.py:124: UserWarning: \n",
      "\n",
      "El campo \"Nacimiento\" no sigue las convenciones para escribir\n",
      "campos (sólo se admiten caracteres alfanuméricos ASCII en\n",
      "minúsculas, con palabras separadas por \"_\"). DataCleaner\n",
      "normaliza automáticamente los campos en estos casos, lo\n",
      "que puede llevar a resultados inesperados.\n",
      "\n",
      "El nuevo nombre del campo normalizado es: \"nacimiento\".\n",
      "Método que llamó al normalizador de campos: __init__\n",
      "\n",
      "  warnings.warn(msg)\n",
      "/home/mec/MEGAsync/repo/data-cleaner/data_cleaner/data_cleaner.py:124: UserWarning: \n",
      "\n",
      "El campo \"Sexo\" no sigue las convenciones para escribir\n",
      "campos (sólo se admiten caracteres alfanuméricos ASCII en\n",
      "minúsculas, con palabras separadas por \"_\"). DataCleaner\n",
      "normaliza automáticamente los campos en estos casos, lo\n",
      "que puede llevar a resultados inesperados.\n",
      "\n",
      "El nuevo nombre del campo normalizado es: \"sexo\".\n",
      "Método que llamó al normalizador de campos: __init__\n",
      "\n",
      "  warnings.warn(msg)\n"
     ]
    }
   ],
   "source": [
    "dc = DataCleaner(input_path, encoding=\"Latin1\")"
   ]
  },
  {
   "cell_type": "code",
   "execution_count": 9,
   "metadata": {
    "collapsed": false
   },
   "outputs": [
    {
     "data": {
      "text/plain": [
       "Index([u'cuit', u'estudios', u'titulo', u'dedicacion', u'desde', u'hasta',\n",
       "       u'financiacion', u'nivel_grado', u'locacion', u'alta_fecha',\n",
       "       u'mod_fecha', u'nombre_organismo', u'apellido', u'nombre', u'id_unico',\n",
       "       u'nacimiento', u'sexo'],\n",
       "      dtype='object')"
      ]
     },
     "execution_count": 9,
     "metadata": {},
     "output_type": "execute_result"
    }
   ],
   "source": [
    "dc.df.columns"
   ]
  },
  {
   "cell_type": "code",
   "execution_count": 4,
   "metadata": {
    "collapsed": false
   },
   "outputs": [],
   "source": [
    "rules = [\n",
    "    \n",
    "    {\n",
    "        \"nombre_propio\": [\n",
    "            {\"field\": \"financiacion\"},\n",
    "            {\"field\": \"nombre_organismo\"},\n",
    "            {\"field\": \"apellido\"},\n",
    "            {\"field\": \"nombre\"},\n",
    "        ]\n",
    "    },\n",
    "    {\n",
    "        \"fecha_simple\": [\n",
    "            {\"field\": \"desde\", \"time_format\": \"YYYY/MM/DD\"},\n",
    "            {\"field\": \"hasta\", \"time_format\": \"YYYY/MM/DD\"},\n",
    "            {\"field\": \"alta_fecha\", \"time_format\": \"YYYY/MM/DD\"},\n",
    "            {\"field\": \"mod_fecha\", \"time_format\": \"YYYY/MM/DD\"},\n",
    "        ]\n",
    "    },\n",
    "    \n",
    "        {\"reemplazar\": [\n",
    "            {\n",
    "            \"field\": \"locacion\",\n",
    "            \"replacements\": {\"Servicios\": [\"Serv\"]}\n",
    "            }\n",
    "        ]\n",
    "    },\n",
    "    \n",
    "     {\"renombrar_columnas\": [\n",
    "        {\"field\": \"alta_fecha\", \"new_field\": \"fecha_alta_registro_rcpc\"},\n",
    "        {\"field\": \"mod_fecha\", \"new_field\": \"fecha_modificacion_registro_rcpc\"}\n",
    "    ]},\n",
    "    \n",
    "    {\"remover_columnas\": [\n",
    "        {\"field\": \"estudios\"},\n",
    "        {\"field\": \"titulo\"},\n",
    "        {\"field\": \"nivel_grado\"},\n",
    "        {\"field\": \"id_unico\"},\n",
    "        {\"field\": \"nacimiento\"}\n",
    "    ]}\n",
    "]"
   ]
  },
  {
   "cell_type": "code",
   "execution_count": 5,
   "metadata": {
    "collapsed": false
   },
   "outputs": [
    {
     "name": "stderr",
     "output_type": "stream",
     "text": [
      "/usr/local/lib/python2.7/dist-packages/unidecode/__init__.py:46: RuntimeWarning: Argument <type 'str'> is not an unicode object. Passing an encoded string will likely have unexpected results.\n",
      "  _warn_if_not_unicode(string)\n"
     ]
    }
   ],
   "source": [
    "dc.clean(rules)"
   ]
  },
  {
   "cell_type": "code",
   "execution_count": 10,
   "metadata": {
    "collapsed": false
   },
   "outputs": [
    {
     "ename": "NameError",
     "evalue": "name 'DEFAULT_OUTPUT_PATH_VIGENTE' is not defined",
     "output_type": "error",
     "traceback": [
      "\u001b[1;31m---------------------------------------------------------------------------\u001b[0m",
      "\u001b[1;31mNameError\u001b[0m                                 Traceback (most recent call last)",
      "\u001b[1;32m<ipython-input-10-c3a93b7ccce3>\u001b[0m in \u001b[0;36m<module>\u001b[1;34m()\u001b[0m\n\u001b[0;32m     10\u001b[0m \u001b[0mdf2\u001b[0m \u001b[1;33m=\u001b[0m \u001b[0mdc\u001b[0m\u001b[1;33m.\u001b[0m\u001b[0mdf\u001b[0m\u001b[1;33m[\u001b[0m\u001b[1;33m~\u001b[0m\u001b[0mgin2016\u001b[0m\u001b[1;33m]\u001b[0m\u001b[1;33m\u001b[0m\u001b[0m\n\u001b[0;32m     11\u001b[0m df1.set_index(df1.columns[0]).to_csv(\n\u001b[1;32m---> 12\u001b[1;33m     \u001b[0mDEFAULT_OUTPUT_PATH_VIGENTE\u001b[0m\u001b[1;33m,\u001b[0m \u001b[0mencoding\u001b[0m\u001b[1;33m=\u001b[0m\u001b[0mself\u001b[0m\u001b[1;33m.\u001b[0m\u001b[0mOUTPUT_ENCODING\u001b[0m\u001b[1;33m,\u001b[0m\u001b[1;33m\u001b[0m\u001b[0m\n\u001b[0m\u001b[0;32m     13\u001b[0m     \u001b[0mseparator\u001b[0m\u001b[1;33m=\u001b[0m\u001b[0mself\u001b[0m\u001b[1;33m.\u001b[0m\u001b[0mOUTPUT_SEPARATOR\u001b[0m\u001b[1;33m,\u001b[0m\u001b[1;33m\u001b[0m\u001b[0m\n\u001b[0;32m     14\u001b[0m     quotechar=self.OUTPUT_QUOTECHAR)\n",
      "\u001b[1;31mNameError\u001b[0m: name 'DEFAULT_OUTPUT_PATH_VIGENTE' is not defined"
     ]
    }
   ],
   "source": [
    "y = 2015\n",
    "dc.df.hasta = pd.to_datetime(dc.df.hasta,yearfirst=True)\n",
    "dc.df.desde = pd.to_datetime(dc.df.desde,yearfirst=True)\n",
    "gii = dc.df.desde.dt.year == y\n",
    "gif = dc.df.hasta.dt.year == y\n",
    "gis = (dc.df.desde.dt.year < y) & (dc.df.hasta.dt.year > y)\n",
    "givig = gii | gif | gis\n",
    "df1 = dc.df[givig]\n",
    "gin2016 = dc.df.desde.dt.year == 2016\n",
    "df2 = dc.df[~gin2016]\n",
    "df1.set_index(df1.columns[0]).to_csv(\n",
    "    DEFAULT_OUTPUT_PATH_VIGENTE, encoding=self.OUTPUT_ENCODING,\n",
    "    separator=self.OUTPUT_SEPARATOR,\n",
    "    quotechar=self.OUTPUT_QUOTECHAR)\n",
    "df2.set_index(df2.columns[0]).to_csv(\n",
    "    DEFAULT_OUTPUT_PATH1_HISTORICO, encoding=self.OUTPUT_ENCODING,\n",
    "    separator=self.OUTPUT_SEPARATOR,\n",
    "    quotechar=self.OUTPUT_QUOTECHAR)"
   ]
  },
  {
   "cell_type": "code",
   "execution_count": null,
   "metadata": {
    "collapsed": true
   },
   "outputs": [],
   "source": []
  }
 ],
 "metadata": {
  "kernelspec": {
   "display_name": "Python 2",
   "language": "python",
   "name": "python2"
  },
  "language_info": {
   "codemirror_mode": {
    "name": "ipython",
    "version": 2
   },
   "file_extension": ".py",
   "mimetype": "text/x-python",
   "name": "python",
   "nbconvert_exporter": "python",
   "pygments_lexer": "ipython2",
   "version": "2.7.6"
  },
  "toc": {
   "toc_cell": false,
   "toc_number_sections": true,
   "toc_threshold": 4,
   "toc_window_display": false
  }
 },
 "nbformat": 4,
 "nbformat_minor": 0
}
