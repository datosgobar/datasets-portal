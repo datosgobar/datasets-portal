{
 "cells": [
  {
   "cell_type": "markdown",
   "metadata": {},
   "source": [
    "# Trámites TAD | Rutina de limpieza para publicación"
   ]
  },
  {
   "cell_type": "code",
   "execution_count": 215,
   "metadata": {},
   "outputs": [],
   "source": [
    "import pandas as pd\n",
    "import requests\n",
    "import arrow"
   ]
  },
  {
   "cell_type": "code",
   "execution_count": 216,
   "metadata": {},
   "outputs": [],
   "source": [
    "FILENAME_INPUT = \"input/TramitesTAD_Historico.csv\"\n",
    "FILENAME_OUTPUT = \"output/tramites-tad-historico.csv\"\n",
    "FILENAME_OUTPUT_SERIES_NACION = \"output/tramites-tad-series-nacion.csv\"\n",
    "FILENAME_OUTPUT_SERIES_PROVINCIAS = \"output/tramites-tad-series-provincias.csv\"\n",
    "FILENAME_OUTPUT_SERIES_NACION_METADATOS = \"output/tramites-tad-series-nacion-metadatos.csv\"\n",
    "FILENAME_OUTPUT_SERIES_PROVINCIAS_METADATOS = \"output/tramites-tad-series-provincias-metadatos.csv\""
   ]
  },
  {
   "cell_type": "code",
   "execution_count": 217,
   "metadata": {},
   "outputs": [],
   "source": [
    "df = pd.read_csv(FILENAME_INPUT, encoding=\"utf8\", sep=\",\")"
   ]
  },
  {
   "cell_type": "markdown",
   "metadata": {},
   "source": [
    "## Produce CSV procesado de la base completa"
   ]
  },
  {
   "cell_type": "markdown",
   "metadata": {},
   "source": [
    "### Chequeos / exploración"
   ]
  },
  {
   "cell_type": "markdown",
   "metadata": {},
   "source": [
    "Última fecha de finalización"
   ]
  },
  {
   "cell_type": "code",
   "execution_count": 218,
   "metadata": {},
   "outputs": [
    {
     "data": {
      "text/plain": [
       "Timestamp('2019-10-01 00:00:00')"
      ]
     },
     "execution_count": 218,
     "metadata": {},
     "output_type": "execute_result"
    }
   ],
   "source": [
    "max(pd.to_datetime(df.FECHA_FINALIZACION))"
   ]
  },
  {
   "cell_type": "markdown",
   "metadata": {},
   "source": [
    "Primera fecha de inicio"
   ]
  },
  {
   "cell_type": "code",
   "execution_count": 219,
   "metadata": {},
   "outputs": [
    {
     "data": {
      "text/plain": [
       "Timestamp('2016-07-01 00:00:00')"
      ]
     },
     "execution_count": 219,
     "metadata": {},
     "output_type": "execute_result"
    }
   ],
   "source": [
    "min(pd.to_datetime(df.FECHA_INICIO))"
   ]
  },
  {
   "cell_type": "markdown",
   "metadata": {},
   "source": [
    "Cantidad de registros"
   ]
  },
  {
   "cell_type": "code",
   "execution_count": 220,
   "metadata": {},
   "outputs": [
    {
     "data": {
      "text/plain": [
       "3262521"
      ]
     },
     "execution_count": 220,
     "metadata": {},
     "output_type": "execute_result"
    }
   ],
   "source": [
    "len(df)"
   ]
  },
  {
   "cell_type": "markdown",
   "metadata": {},
   "source": [
    "### Elimina columnas"
   ]
  },
  {
   "cell_type": "code",
   "execution_count": 221,
   "metadata": {},
   "outputs": [],
   "source": [
    "df = df.drop(\"Unnamed: 0\", axis=1, errors=\"ignore\")\n",
    "df = df.drop(\"FLAG_APODERADO\", axis=1, errors=\"ignore\")"
   ]
  },
  {
   "cell_type": "markdown",
   "metadata": {},
   "source": [
    "### Agrega ids de provincias"
   ]
  },
  {
   "cell_type": "code",
   "execution_count": 222,
   "metadata": {},
   "outputs": [
    {
     "data": {
      "text/plain": [
       "['BUENOS AIRES',\n",
       " 'CATAMARCA',\n",
       " 'CHACO',\n",
       " 'CHUBUT',\n",
       " 'CIUDAD DE BUENOS AIRES',\n",
       " 'CORDOBA',\n",
       " 'CORRIENTES',\n",
       " 'ENTRE RIOS',\n",
       " 'FORMOSA',\n",
       " 'JUJUY',\n",
       " 'LA PAMPA',\n",
       " 'LA RIOJA',\n",
       " 'MENDOZA',\n",
       " 'MISIONES',\n",
       " 'NEUQUEN',\n",
       " 'Otros',\n",
       " 'RIO NEGRO',\n",
       " 'SALTA',\n",
       " 'SAN JUAN',\n",
       " 'SAN LUIS',\n",
       " 'SANTA CRUZ',\n",
       " 'SANTA FE',\n",
       " 'SANTIAGO DEL ESTERO',\n",
       " 'Sin informar',\n",
       " 'TIERRA DEL FUEGO',\n",
       " 'TUCUMAN']"
      ]
     },
     "execution_count": 222,
     "metadata": {},
     "output_type": "execute_result"
    }
   ],
   "source": [
    "sorted(df.PROVINCIA.unique())"
   ]
  },
  {
   "cell_type": "code",
   "execution_count": 223,
   "metadata": {},
   "outputs": [
    {
     "data": {
      "text/html": [
       "<div>\n",
       "<style scoped>\n",
       "    .dataframe tbody tr th:only-of-type {\n",
       "        vertical-align: middle;\n",
       "    }\n",
       "\n",
       "    .dataframe tbody tr th {\n",
       "        vertical-align: top;\n",
       "    }\n",
       "\n",
       "    .dataframe thead th {\n",
       "        text-align: right;\n",
       "    }\n",
       "</style>\n",
       "<table border=\"1\" class=\"dataframe\">\n",
       "  <thead>\n",
       "    <tr style=\"text-align: right;\">\n",
       "      <th></th>\n",
       "      <th>provincia_id</th>\n",
       "      <th>provincia_nombre</th>\n",
       "    </tr>\n",
       "  </thead>\n",
       "  <tbody>\n",
       "    <tr>\n",
       "      <td>0</td>\n",
       "      <td>06</td>\n",
       "      <td>Buenos Aires</td>\n",
       "    </tr>\n",
       "    <tr>\n",
       "      <td>1</td>\n",
       "      <td>10</td>\n",
       "      <td>Catamarca</td>\n",
       "    </tr>\n",
       "    <tr>\n",
       "      <td>2</td>\n",
       "      <td>22</td>\n",
       "      <td>Chaco</td>\n",
       "    </tr>\n",
       "    <tr>\n",
       "      <td>3</td>\n",
       "      <td>26</td>\n",
       "      <td>Chubut</td>\n",
       "    </tr>\n",
       "    <tr>\n",
       "      <td>4</td>\n",
       "      <td>02</td>\n",
       "      <td>Ciudad Autónoma de Buenos Aires</td>\n",
       "    </tr>\n",
       "    <tr>\n",
       "      <td>5</td>\n",
       "      <td>14</td>\n",
       "      <td>Córdoba</td>\n",
       "    </tr>\n",
       "    <tr>\n",
       "      <td>6</td>\n",
       "      <td>18</td>\n",
       "      <td>Corrientes</td>\n",
       "    </tr>\n",
       "    <tr>\n",
       "      <td>7</td>\n",
       "      <td>30</td>\n",
       "      <td>Entre Ríos</td>\n",
       "    </tr>\n",
       "    <tr>\n",
       "      <td>8</td>\n",
       "      <td>34</td>\n",
       "      <td>Formosa</td>\n",
       "    </tr>\n",
       "    <tr>\n",
       "      <td>9</td>\n",
       "      <td>38</td>\n",
       "      <td>Jujuy</td>\n",
       "    </tr>\n",
       "    <tr>\n",
       "      <td>10</td>\n",
       "      <td>42</td>\n",
       "      <td>La Pampa</td>\n",
       "    </tr>\n",
       "    <tr>\n",
       "      <td>11</td>\n",
       "      <td>46</td>\n",
       "      <td>La Rioja</td>\n",
       "    </tr>\n",
       "    <tr>\n",
       "      <td>12</td>\n",
       "      <td>50</td>\n",
       "      <td>Mendoza</td>\n",
       "    </tr>\n",
       "    <tr>\n",
       "      <td>13</td>\n",
       "      <td>54</td>\n",
       "      <td>Misiones</td>\n",
       "    </tr>\n",
       "    <tr>\n",
       "      <td>14</td>\n",
       "      <td>58</td>\n",
       "      <td>Neuquén</td>\n",
       "    </tr>\n",
       "    <tr>\n",
       "      <td>15</td>\n",
       "      <td>62</td>\n",
       "      <td>Río Negro</td>\n",
       "    </tr>\n",
       "    <tr>\n",
       "      <td>16</td>\n",
       "      <td>66</td>\n",
       "      <td>Salta</td>\n",
       "    </tr>\n",
       "    <tr>\n",
       "      <td>17</td>\n",
       "      <td>70</td>\n",
       "      <td>San Juan</td>\n",
       "    </tr>\n",
       "    <tr>\n",
       "      <td>18</td>\n",
       "      <td>74</td>\n",
       "      <td>San Luis</td>\n",
       "    </tr>\n",
       "    <tr>\n",
       "      <td>19</td>\n",
       "      <td>78</td>\n",
       "      <td>Santa Cruz</td>\n",
       "    </tr>\n",
       "    <tr>\n",
       "      <td>20</td>\n",
       "      <td>82</td>\n",
       "      <td>Santa Fe</td>\n",
       "    </tr>\n",
       "    <tr>\n",
       "      <td>21</td>\n",
       "      <td>86</td>\n",
       "      <td>Santiago del Estero</td>\n",
       "    </tr>\n",
       "    <tr>\n",
       "      <td>22</td>\n",
       "      <td>94</td>\n",
       "      <td>Tierra del Fuego, Antártida e Islas del Atlánt...</td>\n",
       "    </tr>\n",
       "    <tr>\n",
       "      <td>23</td>\n",
       "      <td>90</td>\n",
       "      <td>Tucumán</td>\n",
       "    </tr>\n",
       "  </tbody>\n",
       "</table>\n",
       "</div>"
      ],
      "text/plain": [
       "   provincia_id                                   provincia_nombre\n",
       "0            06                                       Buenos Aires\n",
       "1            10                                          Catamarca\n",
       "2            22                                              Chaco\n",
       "3            26                                             Chubut\n",
       "4            02                    Ciudad Autónoma de Buenos Aires\n",
       "5            14                                            Córdoba\n",
       "6            18                                         Corrientes\n",
       "7            30                                         Entre Ríos\n",
       "8            34                                            Formosa\n",
       "9            38                                              Jujuy\n",
       "10           42                                           La Pampa\n",
       "11           46                                           La Rioja\n",
       "12           50                                            Mendoza\n",
       "13           54                                           Misiones\n",
       "14           58                                            Neuquén\n",
       "15           62                                          Río Negro\n",
       "16           66                                              Salta\n",
       "17           70                                           San Juan\n",
       "18           74                                           San Luis\n",
       "19           78                                         Santa Cruz\n",
       "20           82                                           Santa Fe\n",
       "21           86                                Santiago del Estero\n",
       "22           94  Tierra del Fuego, Antártida e Islas del Atlánt...\n",
       "23           90                                            Tucumán"
      ]
     },
     "execution_count": 223,
     "metadata": {},
     "output_type": "execute_result"
    }
   ],
   "source": [
    "provincias_georef = pd.read_csv(\n",
    "    \"https://apis.datos.gob.ar/georef/api/provincias?aplanar&campos=id,nombre&orden=nombre&formato=csv\", \n",
    "    dtype={\"provincia_id\": str}\n",
    ")\n",
    "provincias_georef"
   ]
  },
  {
   "cell_type": "code",
   "execution_count": 224,
   "metadata": {},
   "outputs": [],
   "source": [
    "PROVINCIAS_TAD_MAP = {\n",
    "    'BUENOS AIRES': '06',\n",
    "    'CATAMARCA': '10',\n",
    "    'CHACO': '22',\n",
    "    'CHUBUT': '26',\n",
    "    'CIUDAD DE BUENOS AIRES': '02',\n",
    "    'CORDOBA': '14',\n",
    "    'CORRIENTES': '18',\n",
    "    'ENTRE RIOS': '30',\n",
    "    'FORMOSA': '34',\n",
    "    'JUJUY': '38',\n",
    "    'LA PAMPA': '42',\n",
    "    'LA RIOJA': '46',\n",
    "    'MENDOZA': '50',\n",
    "    'MISIONES': '54',\n",
    "    'NEUQUEN': '58',\n",
    "    'RIO NEGRO': '62',\n",
    "    'SALTA': '66',\n",
    "    'SAN JUAN': '70',\n",
    "    'SAN LUIS': '74',\n",
    "    'SANTA CRUZ': '78',\n",
    "    'SANTA FE': '82',\n",
    "    'SANTIAGO DEL ESTERO': '86',\n",
    "    'TIERRA DEL FUEGO': '94',\n",
    "    'TUCUMAN': '90',\n",
    "}"
   ]
  },
  {
   "cell_type": "code",
   "execution_count": 225,
   "metadata": {},
   "outputs": [],
   "source": [
    "df[\"ID_PROVINCIA\"] = df.PROVINCIA.map(PROVINCIAS_TAD_MAP)"
   ]
  },
  {
   "cell_type": "markdown",
   "metadata": {},
   "source": [
    "### Agrega ids de localidades"
   ]
  },
  {
   "cell_type": "code",
   "execution_count": 226,
   "metadata": {},
   "outputs": [],
   "source": [
    "API_BASE_URL = \"https://apis.datos.gob.ar/georef/api/\""
   ]
  },
  {
   "cell_type": "code",
   "execution_count": 227,
   "metadata": {},
   "outputs": [],
   "source": [
    "def get_similar_bulk(endpoint, nombres, **kwargs):\n",
    "    \"\"\"Normaliza una lista de nombres de alguna de las entidades geográficas.\"\"\"\n",
    "\n",
    "    assert len(nombres) <= 1000, \"No se puede consultar más de 1000 a la vez\"\n",
    "    \n",
    "    # construye lista de consultas\n",
    "    data = {\n",
    "        endpoint: [\n",
    "            {**{\"nombre\": nombre, \"max\": 1}, **kwargs}\n",
    "             for nombre in nombres\n",
    "    ]}\n",
    "\n",
    "    # realiza consulta bulk\n",
    "    url = API_BASE_URL + endpoint\n",
    "    results = requests.post(\n",
    "        url, json=data, headers={\"Content-Type\": \"application/json\"}\n",
    "    ).json()\n",
    "\n",
    "    # convierte a una lista de \"resultado más probable\" o \"vacío\" cuando no hay\n",
    "    parsed_results = [\n",
    "        single_result[endpoint][0] if single_result[endpoint] else {}\n",
    "        for single_result in results[\"resultados\"]\n",
    "    ]\n",
    "\n",
    "    return parsed_results"
   ]
  },
  {
   "cell_type": "code",
   "execution_count": 228,
   "metadata": {},
   "outputs": [],
   "source": [
    "pares_loc_prov = df[[\"LOCALIDAD\", \"ID_PROVINCIA\"]].drop_duplicates()"
   ]
  },
  {
   "cell_type": "code",
   "execution_count": 229,
   "metadata": {},
   "outputs": [
    {
     "data": {
      "text/plain": [
       "06    884\n",
       "14    445\n",
       "82    323\n",
       "50    194\n",
       "30    178\n",
       "90    153\n",
       "54    119\n",
       "66    111\n",
       "18    105\n",
       "70     97\n",
       "22     94\n",
       "86     93\n",
       "62     89\n",
       "26     78\n",
       "58     73\n",
       "38     72\n",
       "42     68\n",
       "74     68\n",
       "10     64\n",
       "34     54\n",
       "46     54\n",
       "02     49\n",
       "78     26\n",
       "94      8\n",
       "Name: ID_PROVINCIA, dtype: int64"
      ]
     },
     "execution_count": 229,
     "metadata": {},
     "output_type": "execute_result"
    }
   ],
   "source": [
    "pares_loc_prov.ID_PROVINCIA.value_counts()"
   ]
  },
  {
   "cell_type": "code",
   "execution_count": 230,
   "metadata": {},
   "outputs": [
    {
     "name": "stdout",
     "output_type": "stream",
     "text": [
      "Buscando localidades de la provincia 02...\n",
      "Buscando localidades de la provincia 06...\n",
      "Buscando localidades de la provincia 14...\n",
      "Buscando localidades de la provincia 50...\n",
      "Buscando localidades de la provincia 82...\n",
      "Buscando localidades de la provincia 86...\n",
      "Buscando localidades de la provincia 90...\n",
      "Buscando localidades de la provincia 30...\n",
      "Buscando localidades de la provincia 70...\n",
      "Buscando localidades de la provincia 66...\n",
      "Buscando localidades de la provincia 26...\n",
      "Buscando localidades de la provincia 38...\n",
      "Buscando localidades de la provincia 58...\n",
      "Buscando localidades de la provincia 78...\n",
      "Buscando localidades de la provincia 74...\n",
      "Buscando localidades de la provincia 62...\n",
      "Buscando localidades de la provincia 94...\n",
      "Buscando localidades de la provincia 22...\n",
      "Buscando localidades de la provincia 46...\n",
      "Buscando localidades de la provincia 42...\n",
      "Buscando localidades de la provincia 18...\n",
      "Buscando localidades de la provincia 54...\n",
      "Buscando localidades de la provincia 10...\n",
      "Buscando localidades de la provincia 34...\n"
     ]
    }
   ],
   "source": [
    "msg_too_many_locs = \"ATENCION! La rutina siguiente hace llamadas POST, sólo aceptan hasta 1000 casos a la vez\"\n",
    "assert pares_loc_prov.ID_PROVINCIA.value_counts().max() < 1000, msg_too_many_locs\n",
    "\n",
    "# hace 1 llamada POST por provincia, para todas las localidades de esa provincia\n",
    "# si las localidades comienzan a ser más de 1000 en algún momento, hay que \n",
    "# REFACTORIZAR este código\n",
    "localidades_map = {}\n",
    "for provincia_id in pares_loc_prov.ID_PROVINCIA.unique():\n",
    "    localidades = list(pares_loc_prov[pares_loc_prov.ID_PROVINCIA == provincia_id].LOCALIDAD)\n",
    "    \n",
    "    if len(localidades) > 0:\n",
    "        print(\"Buscando localidades de la provincia {}...\".format(provincia_id))\n",
    "        \n",
    "        georef_results = get_similar_bulk(\"localidades\", localidades, provincia=provincia_id, campos=\"id,nombre\")\n",
    "        for localidad, georef_result in zip(localidades, georef_results):\n",
    "            localidades_map[(provincia_id, localidad)] = georef_result.get(\"id\")"
   ]
  },
  {
   "cell_type": "code",
   "execution_count": 231,
   "metadata": {},
   "outputs": [],
   "source": [
    "# crea la columna de ids de localidades\n",
    "df[\"ID_LOCALIDAD\"] = df.set_index(['ID_PROVINCIA', 'LOCALIDAD']).index.map(localidades_map)"
   ]
  },
  {
   "cell_type": "code",
   "execution_count": 232,
   "metadata": {},
   "outputs": [
    {
     "data": {
      "text/plain": [
       "True    3161058\n",
       "dtype: int64"
      ]
     },
     "execution_count": 232,
     "metadata": {},
     "output_type": "execute_result"
    }
   ],
   "source": [
    "# chequeo de consistencia (deben ser todos True)\n",
    "df_con_localidad_id = df[pd.notnull(df.ID_LOCALIDAD)]\n",
    "(df_con_localidad_id.ID_LOCALIDAD.str[:2] == df_con_localidad_id.ID_PROVINCIA).value_counts()"
   ]
  },
  {
   "cell_type": "code",
   "execution_count": 233,
   "metadata": {},
   "outputs": [],
   "source": [
    "msg_inconsistent_ids = \"Hay ids de localidades que no son consistentes con sus ids de provincias\"\n",
    "assert all((df_con_localidad_id.ID_LOCALIDAD.str[:2] == df_con_localidad_id.ID_PROVINCIA).value_counts()), msg_inconsistent_ids"
   ]
  },
  {
   "cell_type": "markdown",
   "metadata": {},
   "source": [
    "### Normaliza nombres de campos"
   ]
  },
  {
   "cell_type": "markdown",
   "metadata": {},
   "source": [
    "Adecuación de los nombres de campos a las práticas de datos abiertos."
   ]
  },
  {
   "cell_type": "code",
   "execution_count": 234,
   "metadata": {},
   "outputs": [
    {
     "data": {
      "text/plain": [
       "Index(['ID_TRAMITE', 'NOMBRE_TRAMITE', 'DESCRIPCION_CORTA', 'FECHA_INICIO',\n",
       "       'FECHA_FINALIZACION', 'REPARTICION', 'ORGANISMO', 'ID_USUARIO',\n",
       "       'TIPO_PERSONA', 'SEXO', 'LOGIN', 'LOCALIDAD', 'PROVINCIA',\n",
       "       'ID_PROVINCIA', 'ID_LOCALIDAD'],\n",
       "      dtype='object')"
      ]
     },
     "execution_count": 234,
     "metadata": {},
     "output_type": "execute_result"
    }
   ],
   "source": [
    "df.columns"
   ]
  },
  {
   "cell_type": "code",
   "execution_count": 235,
   "metadata": {},
   "outputs": [],
   "source": [
    "columns_new_names = {\n",
    "    'ID_TRAMITE': 'tramite_id',\n",
    "    'NOMBRE_TRAMITE': 'tramite_nombre',\n",
    "    'DESCRIPCION_CORTA': 'tramite_descripcion',\n",
    "    'FECHA_INICIO': 'fecha_inicio',\n",
    "    'FECHA_FINALIZACION': 'fecha_finalizacion',\n",
    "    'REPARTICION': 'reparticion_nombre',\n",
    "    'ORGANISMO': 'organismo_nombre',\n",
    "    'ID_USUARIO': 'usuario_id',\n",
    "    'TIPO_PERSONA': 'persona_tipo',\n",
    "    'SEXO': 'persona_sexo',\n",
    "    'LOGIN': 'persona_login',\n",
    "    'LOCALIDAD': 'localidad_nombre',\n",
    "    'PROVINCIA': 'provincia_nombre',\n",
    "    'ID_PROVINCIA': 'provincia_id',\n",
    "    'ID_LOCALIDAD': 'localidad_id'\n",
    "}"
   ]
  },
  {
   "cell_type": "markdown",
   "metadata": {},
   "source": [
    "### Guarda base cruda procesada"
   ]
  },
  {
   "cell_type": "code",
   "execution_count": 236,
   "metadata": {},
   "outputs": [],
   "source": [
    "df_renamed = df.rename(columns=columns_new_names)\n",
    "df_renamed.to_csv(FILENAME_OUTPUT, encoding=\"utf8\", sep=\",\", index=False)"
   ]
  },
  {
   "cell_type": "markdown",
   "metadata": {},
   "source": [
    "## Produce distribuciones derivadas de series de tiempo"
   ]
  },
  {
   "cell_type": "markdown",
   "metadata": {},
   "source": [
    "Restringe el dataset a meses completos, excluyendo el mes actual."
   ]
  },
  {
   "cell_type": "code",
   "execution_count": 237,
   "metadata": {},
   "outputs": [],
   "source": [
    "CURR_MONTH = arrow.now().format(\"YYYY-MM\")\n",
    "\n",
    "# la base está definida sobre los trámites \"iniciados y ya finalizados\" por lo\n",
    "# que el corte para evitar el mes actual incompleto, debe operar sobre los\n",
    "# trámites que tengan cualquiera de las dos fechas (inicio o fin) fuera del \n",
    "# período de tiempo que tiene meses completos\n",
    "df_ini = df_renamed[(df_renamed.fecha_inicio < CURR_MONTH) & (df_renamed.fecha_finalizacion < CURR_MONTH)]\n",
    "df_fin = df_renamed[(df_renamed.fecha_finalizacion < CURR_MONTH) & (df_renamed.fecha_inicio < CURR_MONTH)]"
   ]
  },
  {
   "cell_type": "markdown",
   "metadata": {},
   "source": [
    "### Agrega y calcula series a nivel nacional"
   ]
  },
  {
   "cell_type": "code",
   "execution_count": 238,
   "metadata": {},
   "outputs": [],
   "source": [
    "# genera un pd.Series por cada serie nacional\n",
    "\n",
    "# SERIES A NIVEL NACIONAL\n",
    "\n",
    "## SERIES POR TRAMITES\n",
    "## tramites-estado\n",
    "serie_tad_tramites_iniciados = df_ini.groupby(\"fecha_inicio\").count()[\"tramite_id\"]\n",
    "serie_tad_tramites_finalizados = df_fin.groupby(\"fecha_finalizacion\").count()[\"tramite_id\"]\n",
    "\n",
    "## tramites-estado-persona_tipo\n",
    "serie_tad_tramites_iniciados_pf = df_ini[df_ini.persona_tipo == \"PF\"].groupby(\"fecha_inicio\").count()[\"tramite_id\"]\n",
    "serie_tad_tramites_iniciados_pj = df_ini[df_ini.persona_tipo == \"PJ\"].groupby(\"fecha_inicio\").count()[\"tramite_id\"]\n",
    "serie_tad_tramites_finalizados_pf = df_fin[df_fin.persona_tipo == \"PF\"].groupby(\"fecha_finalizacion\").count()[\"tramite_id\"]\n",
    "serie_tad_tramites_finalizados_pj = df_fin[df_fin.persona_tipo == \"PJ\"].groupby(\"fecha_finalizacion\").count()[\"tramite_id\"]\n",
    "\n",
    "## tramites-estado-persona_sexo\n",
    "serie_tad_tramites_iniciados_sexo_masculino = df_ini[df_ini.persona_sexo == \"M\"].groupby(\"fecha_inicio\").count()[\"tramite_id\"]\n",
    "serie_tad_tramites_iniciados_sexo_femenino = df_ini[df_ini.persona_sexo == \"F\"].groupby(\"fecha_inicio\").count()[\"tramite_id\"]\n",
    "serie_tad_tramites_iniciados_sexo_no_declara = df_ini[df_ini.persona_sexo == \"No declara\"].groupby(\"fecha_inicio\").count()[\"tramite_id\"]\n",
    "serie_tad_tramites_iniciados_sexo_no_aplica = df_ini[df_ini.persona_sexo == \"No aplica\"].groupby(\"fecha_inicio\").count()[\"tramite_id\"]\n",
    "\n",
    "serie_tad_tramites_finalizados_sexo_masculino = df_fin[df_fin.persona_sexo == \"M\"].groupby(\"fecha_finalizacion\").count()[\"tramite_id\"]\n",
    "serie_tad_tramites_finalizados_sexo_femenino = df_fin[df_fin.persona_sexo == \"F\"].groupby(\"fecha_finalizacion\").count()[\"tramite_id\"]\n",
    "serie_tad_tramites_finalizados_sexo_no_declara = df_fin[df_fin.persona_sexo == \"No declara\"].groupby(\"fecha_finalizacion\").count()[\"tramite_id\"]\n",
    "serie_tad_tramites_finalizados_sexo_no_aplica = df_fin[df_fin.persona_sexo == \"No aplica\"].groupby(\"fecha_finalizacion\").count()[\"tramite_id\"]\n",
    "\n",
    "\n",
    "## SERIES POR USUARIOS\n",
    "## usuarios-estado\n",
    "serie_tad_usuarios_inician = df_ini.groupby(\"fecha_inicio\")[\"usuario_id\"].nunique()\n",
    "serie_tad_usuarios_finalizan = df_fin.groupby(\"fecha_finalizacion\")[\"usuario_id\"].nunique()\n",
    "\n",
    "## usuarios-estado-persona_tipo\n",
    "serie_tad_usuarios_inician_pf = df_ini[df_ini.persona_tipo == \"PF\"].groupby(\"fecha_inicio\")[\"usuario_id\"].nunique()\n",
    "serie_tad_usuarios_inician_pj = df_ini[df_ini.persona_tipo == \"PJ\"].groupby(\"fecha_inicio\")[\"usuario_id\"].nunique()\n",
    "serie_tad_usuarios_finalizan_pf = df_fin[df_fin.persona_tipo == \"PF\"].groupby(\"fecha_finalizacion\")[\"usuario_id\"].nunique()\n",
    "serie_tad_usuarios_finalizan_pj = df_fin[df_fin.persona_tipo == \"PJ\"].groupby(\"fecha_finalizacion\")[\"usuario_id\"].nunique()\n",
    "\n",
    "## usuarios-estado-persona_sexo\n",
    "serie_tad_usuarios_inician_sexo_masculino = df_ini[df_ini.persona_sexo == \"M\"].groupby(\"fecha_inicio\")[\"usuario_id\"].nunique()\n",
    "serie_tad_usuarios_inician_sexo_femenino = df_ini[df_ini.persona_sexo == \"F\"].groupby(\"fecha_inicio\")[\"usuario_id\"].nunique()\n",
    "serie_tad_usuarios_inician_sexo_no_declara = df_ini[df_ini.persona_sexo == \"No declara\"].groupby(\"fecha_inicio\")[\"usuario_id\"].nunique()\n",
    "serie_tad_usuarios_inician_sexo_no_aplica = df_ini[df_ini.persona_sexo == \"No aplica\"].groupby(\"fecha_inicio\")[\"usuario_id\"].nunique()\n",
    "\n",
    "serie_tad_usuarios_finalizan_sexo_masculino = df_fin[df_fin.persona_sexo == \"M\"].groupby(\"fecha_finalizacion\")[\"usuario_id\"].nunique()\n",
    "serie_tad_usuarios_finalizan_sexo_femenino = df_fin[df_fin.persona_sexo == \"F\"].groupby(\"fecha_finalizacion\")[\"usuario_id\"].nunique()\n",
    "serie_tad_usuarios_finalizan_sexo_no_declara = df_fin[df_fin.persona_sexo == \"No declara\"].groupby(\"fecha_finalizacion\")[\"usuario_id\"].nunique()\n",
    "serie_tad_usuarios_finalizan_sexo_no_aplica = df_fin[df_fin.persona_sexo == \"No aplica\"].groupby(\"fecha_finalizacion\")[\"usuario_id\"].nunique()"
   ]
  },
  {
   "cell_type": "markdown",
   "metadata": {},
   "source": [
    "### Genera y guarda tabla con series a nivel nacional"
   ]
  },
  {
   "cell_type": "code",
   "execution_count": 239,
   "metadata": {},
   "outputs": [],
   "source": [
    "# mapea el nombre que tendrá cada serie en la tabla, con su pd.Series generado\n",
    "SERIES_NACION = {\n",
    "    \"tad_tramites_iniciados\": serie_tad_tramites_iniciados,\n",
    "    \"tad_tramites_finalizados\": serie_tad_tramites_finalizados,\n",
    "    \"tad_tramites_iniciados_pf\": serie_tad_tramites_iniciados_pf,\n",
    "    \"tad_tramites_iniciados_pj\": serie_tad_tramites_iniciados_pj,\n",
    "    \"tad_tramites_finalizados_pf\": serie_tad_tramites_finalizados_pf,\n",
    "    \"tad_tramites_finalizados_pj\": serie_tad_tramites_finalizados_pj,\n",
    "    \"tad_tramites_iniciados_sexo_masculino\": serie_tad_tramites_iniciados_sexo_masculino,\n",
    "    \"tad_tramites_iniciados_sexo_femenino\": serie_tad_tramites_iniciados_sexo_femenino,\n",
    "    \"tad_tramites_iniciados_sexo_no_declara\": serie_tad_tramites_iniciados_sexo_no_declara,\n",
    "    \"tad_tramites_iniciados_sexo_no_aplica\": serie_tad_tramites_iniciados_sexo_no_aplica,\n",
    "    \"tad_tramites_finalizados_sexo_masculino\": serie_tad_tramites_finalizados_sexo_masculino,\n",
    "    \"tad_tramites_finalizados_sexo_femenino\": serie_tad_tramites_finalizados_sexo_femenino,\n",
    "    \"tad_tramites_finalizados_sexo_no_declara\": serie_tad_tramites_finalizados_sexo_no_declara,\n",
    "    \"tad_tramites_finalizados_sexo_no_aplica\": serie_tad_tramites_finalizados_sexo_no_aplica,\n",
    "    \"tad_usuarios_inician\": serie_tad_usuarios_inician,\n",
    "    \"tad_usuarios_finalizan\": serie_tad_usuarios_finalizan,\n",
    "    \"tad_usuarios_inician_pf\": serie_tad_usuarios_inician_pf,\n",
    "    \"tad_usuarios_inician_pj\": serie_tad_usuarios_inician_pj,\n",
    "    \"tad_usuarios_finalizan_pf\": serie_tad_usuarios_finalizan_pf,\n",
    "    \"tad_usuarios_finalizan_pj\": serie_tad_usuarios_finalizan_pj,\n",
    "    \"tad_usuarios_inician_sexo_masculino\": serie_tad_usuarios_inician_sexo_masculino,\n",
    "    \"tad_usuarios_inician_sexo_femenino\": serie_tad_usuarios_inician_sexo_femenino,\n",
    "    \"tad_usuarios_inician_sexo_no_declara\": serie_tad_usuarios_inician_sexo_no_declara,\n",
    "    \"tad_usuarios_inician_sexo_no_aplica\": serie_tad_usuarios_inician_sexo_no_aplica,\n",
    "    \"tad_usuarios_finalizan_sexo_masculino\": serie_tad_usuarios_finalizan_sexo_masculino,\n",
    "    \"tad_usuarios_finalizan_sexo_femenino\": serie_tad_usuarios_finalizan_sexo_femenino,\n",
    "    \"tad_usuarios_finalizan_sexo_no_declara\": serie_tad_usuarios_finalizan_sexo_no_declara,\n",
    "    \"tad_usuarios_finalizan_sexo_no_aplica\": serie_tad_usuarios_finalizan_sexo_no_aplica\n",
    "}"
   ]
  },
  {
   "cell_type": "code",
   "execution_count": 240,
   "metadata": {},
   "outputs": [],
   "source": [
    "df_nacion = pd.DataFrame(SERIES_NACION).reset_index().rename(columns={\"index\": \"indice_tiempo\"})"
   ]
  },
  {
   "cell_type": "code",
   "execution_count": 241,
   "metadata": {},
   "outputs": [],
   "source": [
    "df_nacion.to_csv(FILENAME_OUTPUT_SERIES_NACION, index=False, encoding=\"utf8\", sep=\",\")"
   ]
  },
  {
   "cell_type": "markdown",
   "metadata": {},
   "source": [
    "### Genera y guarda tabla de metadatos de series a nivel nacional"
   ]
  },
  {
   "cell_type": "code",
   "execution_count": 242,
   "metadata": {},
   "outputs": [],
   "source": [
    "# correspondencia de metadatos para el nombre de cada serie en la tabla\n",
    "TITLE_DOCS = {\n",
    "    \"tad_tramites_iniciados\": {\n",
    "        \"id\": \"tad_tramites_ini\",\n",
    "        \"description\": \"TAD. Trámites iniciados.\"\n",
    "    },\n",
    "    \"tad_tramites_finalizados\": {\n",
    "        \"id\": \"tad_tramites_fin\",\n",
    "        \"description\": \"TAD. Trámites finalizados.\"\n",
    "    },\n",
    "    \"tad_tramites_iniciados_pf\": {\n",
    "        \"id\": \"tad_tramites_ini_pf\",\n",
    "        \"description\": \"TAD. Trámites iniciados. Personas físicas.\"\n",
    "    },\n",
    "    \"tad_tramites_iniciados_pj\": {\n",
    "        \"id\": \"tad_tramites_ini_pj\",\n",
    "        \"description\": \"TAD. Trámites iniciados. Personas jurídicas.\"\n",
    "    },\n",
    "    \"tad_tramites_finalizados_pf\": {\n",
    "        \"id\": \"tad_tramites_fin_pf\",\n",
    "        \"description\": \"TAD. Trámites finalizados. Personas físicas.\"\n",
    "    },\n",
    "    \"tad_tramites_finalizados_pj\": {\n",
    "        \"id\": \"tad_tramites_fin_pj\",\n",
    "        \"description\": \"TAD. Trámites finalizados. Personas jurídicas.\"\n",
    "    },\n",
    "    \"tad_tramites_iniciados_sexo_masculino\": {\n",
    "        \"id\": \"tad_tramites_ini_m\",\n",
    "        \"description\": \"TAD. Trámites iniciados. Sexo masculino.\"\n",
    "    },\n",
    "    \"tad_tramites_iniciados_sexo_femenino\": {\n",
    "        \"id\": \"tad_tramites_ini_f\",\n",
    "        \"description\": \"TAD. Trámites iniciados. Sexo femenino.\"\n",
    "    },\n",
    "    \"tad_tramites_iniciados_sexo_no_declara\": {\n",
    "        \"id\": \"tad_tramites_ini_nd\",\n",
    "        \"description\": \"TAD. Trámites iniciados. Sexo no declarado.\"\n",
    "    },\n",
    "    \"tad_tramites_iniciados_sexo_no_aplica\": {\n",
    "        \"id\": \"tad_tramites_ini_na\",\n",
    "        \"description\": \"TAD. Trámites iniciados. Sexo no aplica.\"\n",
    "    },\n",
    "    \"tad_tramites_finalizados_sexo_masculino\": {\n",
    "        \"id\": \"tad_tramites_fin_m\",\n",
    "        \"description\": \"TAD. Trámites finalizados. Sexo masculino.\"\n",
    "    },\n",
    "    \"tad_tramites_finalizados_sexo_femenino\": {\n",
    "        \"id\": \"tad_tramites_fin_f\",\n",
    "        \"description\": \"TAD. Trámites finalizados. Sexo femenino.\"\n",
    "    },\n",
    "    \"tad_tramites_finalizados_sexo_no_declara\": {\n",
    "        \"id\": \"tad_tramites_fin_nd\",\n",
    "        \"description\": \"TAD. Trámites finalizados. Sexo no declarado.\"\n",
    "    },\n",
    "    \"tad_tramites_finalizados_sexo_no_aplica\": {\n",
    "        \"id\": \"tad_tramites_fin_na\",\n",
    "        \"description\": \"TAD. Trámites finalizados. Sexo no aplica.\"\n",
    "    },\n",
    "    \"tad_usuarios_inician\": {\n",
    "        \"id\": \"tad_usuarios_ini\",\n",
    "        \"description\": \"TAD. Usuarios iniciando trámites.\"\n",
    "    },\n",
    "    \"tad_usuarios_finalizan\": {\n",
    "        \"id\": \"tad_usuarios_fin\",\n",
    "        \"description\": \"TAD. Usuarios finalizando trámites.\"\n",
    "    },\n",
    "    \"tad_usuarios_inician_pf\": {\n",
    "        \"id\": \"tad_usuarios_ini_pf\",\n",
    "        \"description\": \"TAD. Usuarios iniciando trámites. Personas físicas.\"\n",
    "    },\n",
    "    \"tad_usuarios_inician_pj\": {\n",
    "        \"id\": \"tad_usuarios_ini_pj\",\n",
    "        \"description\": \"TAD. Usuarios iniciando trámites. Personas jurídicas.\"\n",
    "    },\n",
    "    \"tad_usuarios_finalizan_pf\": {\n",
    "        \"id\": \"tad_usuarios_fin_pf\",\n",
    "        \"description\": \"TAD. Usuarios finalizando trámites. Personas físicas.\"\n",
    "    },\n",
    "    \"tad_usuarios_finalizan_pj\": {\n",
    "        \"id\": \"tad_usuarios_fin_pj\",\n",
    "        \"description\": \"TAD. Usuarios finalizando trámites. Personas jurídicas.\"\n",
    "    },\n",
    "    \"tad_usuarios_inician_sexo_masculino\": {\n",
    "        \"id\": \"tad_usuarios_ini_m\",\n",
    "        \"description\": \"TAD. Usuarios iniciando trámites. Sexo masculino.\"\n",
    "    },\n",
    "    \"tad_usuarios_inician_sexo_femenino\": {\n",
    "        \"id\": \"tad_usuarios_ini_f\",\n",
    "        \"description\": \"TAD. Usuarios iniciando trámites. Sexo femenino.\"\n",
    "    },\n",
    "    \"tad_usuarios_inician_sexo_no_declara\": {\n",
    "        \"id\": \"tad_usuarios_ini_nd\",\n",
    "        \"description\": \"TAD. Usuarios iniciando trámites. Sexo no declarado.\"\n",
    "    },\n",
    "    \"tad_usuarios_inician_sexo_no_aplica\": {\n",
    "        \"id\": \"tad_usuarios_ini_na\",\n",
    "        \"description\": \"TAD. Usuarios iniciando trámites. Sexo no aplica.\"\n",
    "    },\n",
    "    \"tad_usuarios_finalizan_sexo_masculino\": {\n",
    "        \"id\": \"tad_usuarios_fin_m\",\n",
    "        \"description\": \"TAD. Usuarios finalizando trámites. Sexo masculino.\"\n",
    "    },\n",
    "    \"tad_usuarios_finalizan_sexo_femenino\": {\n",
    "        \"id\": \"tad_usuarios_fin_f\",\n",
    "        \"description\": \"TAD. Usuarios finalizando trámites. Sexo femenino.\"\n",
    "    },\n",
    "    \"tad_usuarios_finalizan_sexo_no_declara\": {\n",
    "        \"id\": \"tad_usuarios_fin_nd\",\n",
    "        \"description\": \"TAD. Usuarios finalizando trámites. Sexo no declarado.\"\n",
    "    },\n",
    "    \"tad_usuarios_finalizan_sexo_no_aplica\": {\n",
    "        \"id\": \"tad_usuarios_fin_na\",\n",
    "        \"description\": \"TAD. Usuarios finalizando trámites. Sexo no aplica.\"\n",
    "    }\n",
    "}"
   ]
  },
  {
   "cell_type": "code",
   "execution_count": 243,
   "metadata": {},
   "outputs": [
    {
     "data": {
      "text/html": [
       "<div>\n",
       "<style scoped>\n",
       "    .dataframe tbody tr th:only-of-type {\n",
       "        vertical-align: middle;\n",
       "    }\n",
       "\n",
       "    .dataframe tbody tr th {\n",
       "        vertical-align: top;\n",
       "    }\n",
       "\n",
       "    .dataframe thead th {\n",
       "        text-align: right;\n",
       "    }\n",
       "</style>\n",
       "<table border=\"1\" class=\"dataframe\">\n",
       "  <thead>\n",
       "    <tr style=\"text-align: right;\">\n",
       "      <th></th>\n",
       "      <th>field_title</th>\n",
       "      <th>field_id</th>\n",
       "      <th>field_description</th>\n",
       "    </tr>\n",
       "  </thead>\n",
       "  <tbody>\n",
       "    <tr>\n",
       "      <td>0</td>\n",
       "      <td>indice_tiempo</td>\n",
       "      <td>None</td>\n",
       "      <td>None</td>\n",
       "    </tr>\n",
       "    <tr>\n",
       "      <td>1</td>\n",
       "      <td>tad_tramites_iniciados</td>\n",
       "      <td>tad_tramites_ini</td>\n",
       "      <td>TAD. Trámites iniciados.</td>\n",
       "    </tr>\n",
       "    <tr>\n",
       "      <td>2</td>\n",
       "      <td>tad_tramites_finalizados</td>\n",
       "      <td>tad_tramites_fin</td>\n",
       "      <td>TAD. Trámites finalizados.</td>\n",
       "    </tr>\n",
       "    <tr>\n",
       "      <td>3</td>\n",
       "      <td>tad_tramites_iniciados_pf</td>\n",
       "      <td>tad_tramites_ini_pf</td>\n",
       "      <td>TAD. Trámites iniciados. Personas físicas.</td>\n",
       "    </tr>\n",
       "    <tr>\n",
       "      <td>4</td>\n",
       "      <td>tad_tramites_iniciados_pj</td>\n",
       "      <td>tad_tramites_ini_pj</td>\n",
       "      <td>TAD. Trámites iniciados. Personas jurídicas.</td>\n",
       "    </tr>\n",
       "    <tr>\n",
       "      <td>5</td>\n",
       "      <td>tad_tramites_finalizados_pf</td>\n",
       "      <td>tad_tramites_fin_pf</td>\n",
       "      <td>TAD. Trámites finalizados. Personas físicas.</td>\n",
       "    </tr>\n",
       "    <tr>\n",
       "      <td>6</td>\n",
       "      <td>tad_tramites_finalizados_pj</td>\n",
       "      <td>tad_tramites_fin_pj</td>\n",
       "      <td>TAD. Trámites finalizados. Personas jurídicas.</td>\n",
       "    </tr>\n",
       "    <tr>\n",
       "      <td>7</td>\n",
       "      <td>tad_tramites_iniciados_sexo_masculino</td>\n",
       "      <td>tad_tramites_ini_m</td>\n",
       "      <td>TAD. Trámites iniciados. Sexo masculino.</td>\n",
       "    </tr>\n",
       "    <tr>\n",
       "      <td>8</td>\n",
       "      <td>tad_tramites_iniciados_sexo_femenino</td>\n",
       "      <td>tad_tramites_ini_f</td>\n",
       "      <td>TAD. Trámites iniciados. Sexo femenino.</td>\n",
       "    </tr>\n",
       "    <tr>\n",
       "      <td>9</td>\n",
       "      <td>tad_tramites_iniciados_sexo_no_declara</td>\n",
       "      <td>tad_tramites_ini_nd</td>\n",
       "      <td>TAD. Trámites iniciados. Sexo no declarado.</td>\n",
       "    </tr>\n",
       "    <tr>\n",
       "      <td>10</td>\n",
       "      <td>tad_tramites_iniciados_sexo_no_aplica</td>\n",
       "      <td>tad_tramites_ini_na</td>\n",
       "      <td>TAD. Trámites iniciados. Sexo no aplica.</td>\n",
       "    </tr>\n",
       "    <tr>\n",
       "      <td>11</td>\n",
       "      <td>tad_tramites_finalizados_sexo_masculino</td>\n",
       "      <td>tad_tramites_fin_m</td>\n",
       "      <td>TAD. Trámites finalizados. Sexo masculino.</td>\n",
       "    </tr>\n",
       "    <tr>\n",
       "      <td>12</td>\n",
       "      <td>tad_tramites_finalizados_sexo_femenino</td>\n",
       "      <td>tad_tramites_fin_f</td>\n",
       "      <td>TAD. Trámites finalizados. Sexo femenino.</td>\n",
       "    </tr>\n",
       "    <tr>\n",
       "      <td>13</td>\n",
       "      <td>tad_tramites_finalizados_sexo_no_declara</td>\n",
       "      <td>tad_tramites_fin_nd</td>\n",
       "      <td>TAD. Trámites finalizados. Sexo no declarado.</td>\n",
       "    </tr>\n",
       "    <tr>\n",
       "      <td>14</td>\n",
       "      <td>tad_tramites_finalizados_sexo_no_aplica</td>\n",
       "      <td>tad_tramites_fin_na</td>\n",
       "      <td>TAD. Trámites finalizados. Sexo no aplica.</td>\n",
       "    </tr>\n",
       "    <tr>\n",
       "      <td>15</td>\n",
       "      <td>tad_usuarios_inician</td>\n",
       "      <td>tad_usuarios_ini</td>\n",
       "      <td>TAD. Usuarios iniciando trámites.</td>\n",
       "    </tr>\n",
       "    <tr>\n",
       "      <td>16</td>\n",
       "      <td>tad_usuarios_finalizan</td>\n",
       "      <td>tad_usuarios_fin</td>\n",
       "      <td>TAD. Usuarios finalizando trámites.</td>\n",
       "    </tr>\n",
       "    <tr>\n",
       "      <td>17</td>\n",
       "      <td>tad_usuarios_inician_pf</td>\n",
       "      <td>tad_usuarios_ini_pf</td>\n",
       "      <td>TAD. Usuarios iniciando trámites. Personas fís...</td>\n",
       "    </tr>\n",
       "    <tr>\n",
       "      <td>18</td>\n",
       "      <td>tad_usuarios_inician_pj</td>\n",
       "      <td>tad_usuarios_ini_pj</td>\n",
       "      <td>TAD. Usuarios iniciando trámites. Personas jur...</td>\n",
       "    </tr>\n",
       "    <tr>\n",
       "      <td>19</td>\n",
       "      <td>tad_usuarios_finalizan_pf</td>\n",
       "      <td>tad_usuarios_fin_pf</td>\n",
       "      <td>TAD. Usuarios finalizando trámites. Personas f...</td>\n",
       "    </tr>\n",
       "    <tr>\n",
       "      <td>20</td>\n",
       "      <td>tad_usuarios_finalizan_pj</td>\n",
       "      <td>tad_usuarios_fin_pj</td>\n",
       "      <td>TAD. Usuarios finalizando trámites. Personas j...</td>\n",
       "    </tr>\n",
       "    <tr>\n",
       "      <td>21</td>\n",
       "      <td>tad_usuarios_inician_sexo_masculino</td>\n",
       "      <td>tad_usuarios_ini_m</td>\n",
       "      <td>TAD. Usuarios iniciando trámites. Sexo masculino.</td>\n",
       "    </tr>\n",
       "    <tr>\n",
       "      <td>22</td>\n",
       "      <td>tad_usuarios_inician_sexo_femenino</td>\n",
       "      <td>tad_usuarios_ini_f</td>\n",
       "      <td>TAD. Usuarios iniciando trámites. Sexo femenino.</td>\n",
       "    </tr>\n",
       "    <tr>\n",
       "      <td>23</td>\n",
       "      <td>tad_usuarios_inician_sexo_no_declara</td>\n",
       "      <td>tad_usuarios_ini_nd</td>\n",
       "      <td>TAD. Usuarios iniciando trámites. Sexo no decl...</td>\n",
       "    </tr>\n",
       "    <tr>\n",
       "      <td>24</td>\n",
       "      <td>tad_usuarios_inician_sexo_no_aplica</td>\n",
       "      <td>tad_usuarios_ini_na</td>\n",
       "      <td>TAD. Usuarios iniciando trámites. Sexo no aplica.</td>\n",
       "    </tr>\n",
       "    <tr>\n",
       "      <td>25</td>\n",
       "      <td>tad_usuarios_finalizan_sexo_masculino</td>\n",
       "      <td>tad_usuarios_fin_m</td>\n",
       "      <td>TAD. Usuarios finalizando trámites. Sexo mascu...</td>\n",
       "    </tr>\n",
       "    <tr>\n",
       "      <td>26</td>\n",
       "      <td>tad_usuarios_finalizan_sexo_femenino</td>\n",
       "      <td>tad_usuarios_fin_f</td>\n",
       "      <td>TAD. Usuarios finalizando trámites. Sexo femen...</td>\n",
       "    </tr>\n",
       "    <tr>\n",
       "      <td>27</td>\n",
       "      <td>tad_usuarios_finalizan_sexo_no_declara</td>\n",
       "      <td>tad_usuarios_fin_nd</td>\n",
       "      <td>TAD. Usuarios finalizando trámites. Sexo no de...</td>\n",
       "    </tr>\n",
       "    <tr>\n",
       "      <td>28</td>\n",
       "      <td>tad_usuarios_finalizan_sexo_no_aplica</td>\n",
       "      <td>tad_usuarios_fin_na</td>\n",
       "      <td>TAD. Usuarios finalizando trámites. Sexo no ap...</td>\n",
       "    </tr>\n",
       "  </tbody>\n",
       "</table>\n",
       "</div>"
      ],
      "text/plain": [
       "                                 field_title             field_id  \\\n",
       "0                              indice_tiempo                 None   \n",
       "1                     tad_tramites_iniciados     tad_tramites_ini   \n",
       "2                   tad_tramites_finalizados     tad_tramites_fin   \n",
       "3                  tad_tramites_iniciados_pf  tad_tramites_ini_pf   \n",
       "4                  tad_tramites_iniciados_pj  tad_tramites_ini_pj   \n",
       "5                tad_tramites_finalizados_pf  tad_tramites_fin_pf   \n",
       "6                tad_tramites_finalizados_pj  tad_tramites_fin_pj   \n",
       "7      tad_tramites_iniciados_sexo_masculino   tad_tramites_ini_m   \n",
       "8       tad_tramites_iniciados_sexo_femenino   tad_tramites_ini_f   \n",
       "9     tad_tramites_iniciados_sexo_no_declara  tad_tramites_ini_nd   \n",
       "10     tad_tramites_iniciados_sexo_no_aplica  tad_tramites_ini_na   \n",
       "11   tad_tramites_finalizados_sexo_masculino   tad_tramites_fin_m   \n",
       "12    tad_tramites_finalizados_sexo_femenino   tad_tramites_fin_f   \n",
       "13  tad_tramites_finalizados_sexo_no_declara  tad_tramites_fin_nd   \n",
       "14   tad_tramites_finalizados_sexo_no_aplica  tad_tramites_fin_na   \n",
       "15                      tad_usuarios_inician     tad_usuarios_ini   \n",
       "16                    tad_usuarios_finalizan     tad_usuarios_fin   \n",
       "17                   tad_usuarios_inician_pf  tad_usuarios_ini_pf   \n",
       "18                   tad_usuarios_inician_pj  tad_usuarios_ini_pj   \n",
       "19                 tad_usuarios_finalizan_pf  tad_usuarios_fin_pf   \n",
       "20                 tad_usuarios_finalizan_pj  tad_usuarios_fin_pj   \n",
       "21       tad_usuarios_inician_sexo_masculino   tad_usuarios_ini_m   \n",
       "22        tad_usuarios_inician_sexo_femenino   tad_usuarios_ini_f   \n",
       "23      tad_usuarios_inician_sexo_no_declara  tad_usuarios_ini_nd   \n",
       "24       tad_usuarios_inician_sexo_no_aplica  tad_usuarios_ini_na   \n",
       "25     tad_usuarios_finalizan_sexo_masculino   tad_usuarios_fin_m   \n",
       "26      tad_usuarios_finalizan_sexo_femenino   tad_usuarios_fin_f   \n",
       "27    tad_usuarios_finalizan_sexo_no_declara  tad_usuarios_fin_nd   \n",
       "28     tad_usuarios_finalizan_sexo_no_aplica  tad_usuarios_fin_na   \n",
       "\n",
       "                                    field_description  \n",
       "0                                                None  \n",
       "1                            TAD. Trámites iniciados.  \n",
       "2                          TAD. Trámites finalizados.  \n",
       "3          TAD. Trámites iniciados. Personas físicas.  \n",
       "4        TAD. Trámites iniciados. Personas jurídicas.  \n",
       "5        TAD. Trámites finalizados. Personas físicas.  \n",
       "6      TAD. Trámites finalizados. Personas jurídicas.  \n",
       "7            TAD. Trámites iniciados. Sexo masculino.  \n",
       "8             TAD. Trámites iniciados. Sexo femenino.  \n",
       "9         TAD. Trámites iniciados. Sexo no declarado.  \n",
       "10           TAD. Trámites iniciados. Sexo no aplica.  \n",
       "11         TAD. Trámites finalizados. Sexo masculino.  \n",
       "12          TAD. Trámites finalizados. Sexo femenino.  \n",
       "13      TAD. Trámites finalizados. Sexo no declarado.  \n",
       "14         TAD. Trámites finalizados. Sexo no aplica.  \n",
       "15                  TAD. Usuarios iniciando trámites.  \n",
       "16                TAD. Usuarios finalizando trámites.  \n",
       "17  TAD. Usuarios iniciando trámites. Personas fís...  \n",
       "18  TAD. Usuarios iniciando trámites. Personas jur...  \n",
       "19  TAD. Usuarios finalizando trámites. Personas f...  \n",
       "20  TAD. Usuarios finalizando trámites. Personas j...  \n",
       "21  TAD. Usuarios iniciando trámites. Sexo masculino.  \n",
       "22   TAD. Usuarios iniciando trámites. Sexo femenino.  \n",
       "23  TAD. Usuarios iniciando trámites. Sexo no decl...  \n",
       "24  TAD. Usuarios iniciando trámites. Sexo no aplica.  \n",
       "25  TAD. Usuarios finalizando trámites. Sexo mascu...  \n",
       "26  TAD. Usuarios finalizando trámites. Sexo femen...  \n",
       "27  TAD. Usuarios finalizando trámites. Sexo no de...  \n",
       "28  TAD. Usuarios finalizando trámites. Sexo no ap...  "
      ]
     },
     "execution_count": 243,
     "metadata": {},
     "output_type": "execute_result"
    }
   ],
   "source": [
    "# produce metadatos de las series a documentar en el catálogo de \"modernizacion\"\n",
    "df_series_nacion_metadatos = pd.DataFrame({\n",
    "    \"field_title\": list(df_nacion.columns),\n",
    "    \"field_id\": df_nacion.columns.map(lambda x: TITLE_DOCS.get(x, {}).get(\"id\")),\n",
    "    \"field_description\": df_nacion.columns.map(lambda x: TITLE_DOCS.get(x, {}).get(\"description\"))\n",
    "})\n",
    "df_series_nacion_metadatos.to_csv(FILENAME_OUTPUT_SERIES_NACION_METADATOS, index=False, encoding=\"utf8\", sep=\",\")\n",
    "df_series_nacion_metadatos.to_clipboard()\n",
    "df_series_nacion_metadatos"
   ]
  },
  {
   "cell_type": "markdown",
   "metadata": {},
   "source": [
    "### Agrega y calcula series a nivel provincial"
   ]
  },
  {
   "cell_type": "code",
   "execution_count": 244,
   "metadata": {},
   "outputs": [],
   "source": [
    "# SERIES POR PROVINCIAS: se crean todas las series nacionales, con apertura provincial\n",
    "\n",
    "## SERIES POR TRAMITES\n",
    "## tramites-estado\n",
    "df_prov_tad_tramites_iniciados = df_ini.pivot_table(index=\"fecha_inicio\", columns=\"provincia_id\", values=\"tramite_id\", aggfunc=\"count\")\n",
    "df_prov_tad_tramites_finalizados = df_fin.pivot_table(index=\"fecha_finalizacion\", columns=\"provincia_id\", values=\"tramite_id\", aggfunc=\"count\")\n",
    "\n",
    "## tramites-estado-persona_tipo\n",
    "df_prov_tad_tramites_iniciados_pf = df_ini[df_ini.persona_tipo == \"PF\"].pivot_table(index=\"fecha_inicio\", columns=\"provincia_id\", values=\"tramite_id\", aggfunc=\"count\")\n",
    "df_prov_tad_tramites_iniciados_pj = df_ini[df_ini.persona_tipo == \"PJ\"].pivot_table(index=\"fecha_inicio\", columns=\"provincia_id\", values=\"tramite_id\", aggfunc=\"count\")\n",
    "df_prov_tad_tramites_finalizados_pf = df_fin[df_fin.persona_tipo == \"PF\"].pivot_table(index=\"fecha_finalizacion\", columns=\"provincia_id\", values=\"tramite_id\", aggfunc=\"count\")\n",
    "df_prov_tad_tramites_finalizados_pj = df_fin[df_fin.persona_tipo == \"PJ\"].pivot_table(index=\"fecha_finalizacion\", columns=\"provincia_id\", values=\"tramite_id\", aggfunc=\"count\")\n",
    "\n",
    "## tramites-estado-persona_sexo\n",
    "df_prov_tad_tramites_iniciados_sexo_masculino = df_ini[df_ini.persona_sexo == \"M\"].pivot_table(index=\"fecha_inicio\", columns=\"provincia_id\", values=\"tramite_id\", aggfunc=\"count\")\n",
    "df_prov_tad_tramites_iniciados_sexo_femenino = df_ini[df_ini.persona_sexo == \"F\"].pivot_table(index=\"fecha_inicio\", columns=\"provincia_id\", values=\"tramite_id\", aggfunc=\"count\")\n",
    "df_prov_tad_tramites_iniciados_sexo_no_declara = df_ini[df_ini.persona_sexo == \"No declara\"].pivot_table(index=\"fecha_inicio\", columns=\"provincia_id\", values=\"tramite_id\", aggfunc=\"count\")\n",
    "df_prov_tad_tramites_iniciados_sexo_no_aplica = df_ini[df_ini.persona_sexo == \"No aplica\"].pivot_table(index=\"fecha_inicio\", columns=\"provincia_id\", values=\"tramite_id\", aggfunc=\"count\")\n",
    "\n",
    "df_prov_tad_tramites_finalizados_sexo_masculino = df_fin[df_fin.persona_sexo == \"M\"].pivot_table(index=\"fecha_finalizacion\", columns=\"provincia_id\", values=\"tramite_id\", aggfunc=\"count\")\n",
    "df_prov_tad_tramites_finalizados_sexo_femenino = df_fin[df_fin.persona_sexo == \"F\"].pivot_table(index=\"fecha_finalizacion\", columns=\"provincia_id\", values=\"tramite_id\", aggfunc=\"count\")\n",
    "df_prov_tad_tramites_finalizados_sexo_no_declara = df_fin[df_fin.persona_sexo == \"No declara\"].pivot_table(index=\"fecha_finalizacion\", columns=\"provincia_id\", values=\"tramite_id\", aggfunc=\"count\")\n",
    "df_prov_tad_tramites_finalizados_sexo_no_aplica = df_fin[df_fin.persona_sexo == \"No aplica\"].pivot_table(index=\"fecha_finalizacion\", columns=\"provincia_id\", values=\"tramite_id\", aggfunc=\"count\")\n",
    "\n",
    "\n",
    "## SERIES POR USUARIOS\n",
    "## usuarios-estado\n",
    "df_prov_tad_usuarios_inician = df_ini.pivot_table(index=\"fecha_inicio\", columns=\"provincia_id\", values=\"usuario_id\", aggfunc=pd.Series.nunique)\n",
    "df_prov_tad_usuarios_finalizan = df_fin.pivot_table(index=\"fecha_finalizacion\", columns=\"provincia_id\", values=\"usuario_id\", aggfunc=pd.Series.nunique)\n",
    "\n",
    "## usuarios-estado-persona_tipo\n",
    "df_prov_tad_usuarios_inician_pf = df_ini[df_ini.persona_tipo == \"PF\"].pivot_table(index=\"fecha_inicio\", columns=\"provincia_id\", values=\"usuario_id\", aggfunc=pd.Series.nunique)\n",
    "df_prov_tad_usuarios_inician_pj = df_ini[df_ini.persona_tipo == \"PJ\"].pivot_table(index=\"fecha_inicio\", columns=\"provincia_id\", values=\"usuario_id\", aggfunc=pd.Series.nunique)\n",
    "df_prov_tad_usuarios_finalizan_pf = df_fin[df_fin.persona_tipo == \"PF\"].pivot_table(index=\"fecha_finalizacion\", columns=\"provincia_id\", values=\"usuario_id\", aggfunc=pd.Series.nunique)\n",
    "df_prov_tad_usuarios_finalizan_pj = df_fin[df_fin.persona_tipo == \"PJ\"].pivot_table(index=\"fecha_finalizacion\", columns=\"provincia_id\", values=\"usuario_id\", aggfunc=pd.Series.nunique)\n",
    "\n",
    "## usuarios-estado-persona_sexo\n",
    "df_prov_tad_usuarios_inician_sexo_masculino = df_ini[df_ini.persona_sexo == \"M\"].pivot_table(index=\"fecha_inicio\", columns=\"provincia_id\", values=\"usuario_id\", aggfunc=pd.Series.nunique)\n",
    "df_prov_tad_usuarios_inician_sexo_femenino = df_ini[df_ini.persona_sexo == \"F\"].pivot_table(index=\"fecha_inicio\", columns=\"provincia_id\", values=\"usuario_id\", aggfunc=pd.Series.nunique)\n",
    "df_prov_tad_usuarios_inician_sexo_no_declara = df_ini[df_ini.persona_sexo == \"No declara\"].pivot_table(index=\"fecha_inicio\", columns=\"provincia_id\", values=\"usuario_id\", aggfunc=pd.Series.nunique)\n",
    "df_prov_tad_usuarios_inician_sexo_no_aplica = df_ini[df_ini.persona_sexo == \"No aplica\"].pivot_table(index=\"fecha_inicio\", columns=\"provincia_id\", values=\"usuario_id\", aggfunc=pd.Series.nunique)\n",
    "\n",
    "df_prov_tad_usuarios_finalizan_sexo_masculino = df_fin[df_fin.persona_sexo == \"M\"].pivot_table(index=\"fecha_finalizacion\", columns=\"provincia_id\", values=\"usuario_id\", aggfunc=pd.Series.nunique)\n",
    "df_prov_tad_usuarios_finalizan_sexo_femenino = df_fin[df_fin.persona_sexo == \"F\"].pivot_table(index=\"fecha_finalizacion\", columns=\"provincia_id\", values=\"usuario_id\", aggfunc=pd.Series.nunique)\n",
    "df_prov_tad_usuarios_finalizan_sexo_no_declara = df_fin[df_fin.persona_sexo == \"No declara\"].pivot_table(index=\"fecha_finalizacion\", columns=\"provincia_id\", values=\"usuario_id\", aggfunc=pd.Series.nunique)\n",
    "df_prov_tad_usuarios_finalizan_sexo_no_aplica = df_fin[df_fin.persona_sexo == \"No aplica\"].pivot_table(index=\"fecha_finalizacion\", columns=\"provincia_id\", values=\"usuario_id\", aggfunc=pd.Series.nunique)"
   ]
  },
  {
   "cell_type": "markdown",
   "metadata": {},
   "source": [
    "### Genera y guarda tabla de series a nivel provincial"
   ]
  },
  {
   "cell_type": "code",
   "execution_count": 245,
   "metadata": {},
   "outputs": [],
   "source": [
    "# las líneas comentadas son de cruces que parece excesivo agregar a la base a\n",
    "# la base de series de tiempo a nivel de provincia\n",
    "\n",
    "DFS_PROV = {\n",
    "    \"tad_tramites_iniciados\": df_prov_tad_tramites_iniciados,\n",
    "    \"tad_tramites_finalizados\": df_prov_tad_tramites_finalizados,\n",
    "    #\"tad_tramites_iniciados_pf\": df_prov_tad_tramites_iniciados_pf,\n",
    "    #\"tad_tramites_iniciados_pj\": df_prov_tad_tramites_iniciados_pj,\n",
    "    #\"tad_tramites_finalizados_pf\": df_prov_tad_tramites_finalizados_pf,\n",
    "    #\"tad_tramites_finalizados_pj\": df_prov_tad_tramites_finalizados_pj,\n",
    "    #\"tad_tramites_iniciados_sexo_masculino\": df_prov_tad_tramites_iniciados_sexo_masculino,\n",
    "    #\"tad_tramites_iniciados_sexo_femenino\": df_prov_tad_tramites_iniciados_sexo_femenino,\n",
    "    #\"tad_tramites_iniciados_sexo_no_declara\": df_prov_tad_tramites_iniciados_sexo_no_declara,\n",
    "    #\"tad_tramites_finalizados_sexo_masculino\": df_prov_tad_tramites_finalizados_sexo_masculino,\n",
    "    #\"tad_tramites_finalizados_sexo_femenino\": df_prov_tad_tramites_finalizados_sexo_femenino,\n",
    "    #\"tad_tramites_finalizados_sexo_no_declara\": df_prov_tad_tramites_finalizados_sexo_no_declara,\n",
    "    #\"tad_tramites_finalizados_sexo_no_aplica\": df_prov_tad_tramites_finalizados_sexo_no_aplica,\n",
    "    \"tad_usuarios_inician\": df_prov_tad_usuarios_inician,\n",
    "    \"tad_usuarios_finalizan\": df_prov_tad_usuarios_finalizan,\n",
    "    #\"tad_usuarios_inician_pf\": df_prov_tad_usuarios_inician_pf,\n",
    "    #\"tad_usuarios_inician_pj\": df_prov_tad_usuarios_inician_pj,\n",
    "    #\"tad_usuarios_finalizan_pf\": df_prov_tad_usuarios_finalizan_pf,\n",
    "    #\"tad_usuarios_finalizan_pj\": df_prov_tad_usuarios_finalizan_pj,\n",
    "    #\"tad_usuarios_inician_sexo_masculino\": df_prov_tad_usuarios_inician_sexo_masculino,\n",
    "    #\"tad_usuarios_inician_sexo_femenino\": df_prov_tad_usuarios_inician_sexo_femenino,\n",
    "    #\"tad_usuarios_inician_sexo_no_declara\": df_prov_tad_usuarios_inician_sexo_no_declara,\n",
    "    #\"tad_usuarios_finalizan_sexo_masculino\": df_prov_tad_usuarios_finalizan_sexo_masculino,\n",
    "    #\"tad_usuarios_finalizan_sexo_femenino\": df_prov_tad_usuarios_finalizan_sexo_femenino,\n",
    "    #\"tad_usuarios_finalizan_sexo_no_declara\": df_prov_tad_usuarios_finalizan_sexo_no_declara,\n",
    "    #\"tad_usuarios_finalizan_sexo_no_aplica\": df_prov_tad_usuarios_finalizan_sexo_no_aplica\n",
    "}"
   ]
  },
  {
   "cell_type": "markdown",
   "metadata": {},
   "source": [
    "Renombra las columnas (que son códigos de provincias) prefijando el nombre de la variable."
   ]
  },
  {
   "cell_type": "code",
   "execution_count": 246,
   "metadata": {},
   "outputs": [],
   "source": [
    "def rename_columns_df_prov(df_prov, variable_name):\n",
    "    df_prov.columns = df_prov.columns.map(lambda x: \"{}_{}\".format(variable_name, x))"
   ]
  },
  {
   "cell_type": "code",
   "execution_count": 247,
   "metadata": {},
   "outputs": [],
   "source": [
    "for variable_name, df_prov in DFS_PROV.items():\n",
    "    rename_columns_df_prov(df_prov, variable_name)"
   ]
  },
  {
   "cell_type": "markdown",
   "metadata": {},
   "source": [
    "Merge en una sola tabla de c/u de las tablas con apertura provincial de cada variable."
   ]
  },
  {
   "cell_type": "code",
   "execution_count": 248,
   "metadata": {},
   "outputs": [],
   "source": [
    "dfs_prov_merged = pd.concat([df_prov for df_prov in DFS_PROV.values()], axis=1).rename(columns={\"fecha_inicio\": \"indice_tiempo\"})\n",
    "dfs_prov_merged = dfs_prov_merged.reset_index().rename(columns={\"index\": \"indice_tiempo\"})"
   ]
  },
  {
   "cell_type": "markdown",
   "metadata": {},
   "source": [
    "Guarda la tabla de indicadores provinciales mergeada."
   ]
  },
  {
   "cell_type": "code",
   "execution_count": 249,
   "metadata": {},
   "outputs": [],
   "source": [
    "dfs_prov_merged.to_csv(FILENAME_OUTPUT_SERIES_PROVINCIAS, index=False, encoding=\"utf8\", sep=\",\")"
   ]
  },
  {
   "cell_type": "markdown",
   "metadata": {},
   "source": [
    "### Genera y guarda tabla de metadatos de indicadores provinciales"
   ]
  },
  {
   "cell_type": "code",
   "execution_count": 250,
   "metadata": {},
   "outputs": [],
   "source": [
    "def get_prov_nombre_oficial(prov_id):\n",
    "    \"\"\"Devuelve nombre de provincia, pasando su id.\"\"\"\n",
    "    return provincias_georef.set_index(\"provincia_id\").loc[prov_id][0]"
   ]
  },
  {
   "cell_type": "code",
   "execution_count": 251,
   "metadata": {},
   "outputs": [],
   "source": [
    "def get_prov_nombre_completo(prov_id):\n",
    "    \"\"\"Devuelve frase o nombre completo de provincia, pasando su id.\"\"\"\n",
    "\n",
    "    # CABA no es una provincia\n",
    "    if prov_id == \"02\":\n",
    "        return get_prov_nombre_oficial(prov_id)\n",
    "    else:\n",
    "        try:\n",
    "            return \"Provincia de \" + get_prov_nombre_oficial(prov_id)\n",
    "        except KeyError:\n",
    "            print(prov_id, \"no es un código de provincia\")"
   ]
  },
  {
   "cell_type": "code",
   "execution_count": 252,
   "metadata": {},
   "outputs": [
    {
     "name": "stdout",
     "output_type": "stream",
     "text": [
      "po no es un código de provincia\n"
     ]
    },
    {
     "data": {
      "text/html": [
       "<div>\n",
       "<style scoped>\n",
       "    .dataframe tbody tr th:only-of-type {\n",
       "        vertical-align: middle;\n",
       "    }\n",
       "\n",
       "    .dataframe tbody tr th {\n",
       "        vertical-align: top;\n",
       "    }\n",
       "\n",
       "    .dataframe thead th {\n",
       "        text-align: right;\n",
       "    }\n",
       "</style>\n",
       "<table border=\"1\" class=\"dataframe\">\n",
       "  <thead>\n",
       "    <tr style=\"text-align: right;\">\n",
       "      <th></th>\n",
       "      <th>field_title</th>\n",
       "      <th>field_id</th>\n",
       "      <th>field_description</th>\n",
       "    </tr>\n",
       "  </thead>\n",
       "  <tbody>\n",
       "    <tr>\n",
       "      <td>0</td>\n",
       "      <td>indice_tiempo</td>\n",
       "      <td>None_po</td>\n",
       "      <td>None None.</td>\n",
       "    </tr>\n",
       "    <tr>\n",
       "      <td>1</td>\n",
       "      <td>tad_tramites_iniciados_02</td>\n",
       "      <td>tad_tramites_ini_02</td>\n",
       "      <td>TAD. Trámites iniciados. Ciudad Autónoma de Bu...</td>\n",
       "    </tr>\n",
       "    <tr>\n",
       "      <td>2</td>\n",
       "      <td>tad_tramites_iniciados_06</td>\n",
       "      <td>tad_tramites_ini_06</td>\n",
       "      <td>TAD. Trámites iniciados. Provincia de Buenos A...</td>\n",
       "    </tr>\n",
       "    <tr>\n",
       "      <td>3</td>\n",
       "      <td>tad_tramites_iniciados_10</td>\n",
       "      <td>tad_tramites_ini_10</td>\n",
       "      <td>TAD. Trámites iniciados. Provincia de Catamarca.</td>\n",
       "    </tr>\n",
       "    <tr>\n",
       "      <td>4</td>\n",
       "      <td>tad_tramites_iniciados_14</td>\n",
       "      <td>tad_tramites_ini_14</td>\n",
       "      <td>TAD. Trámites iniciados. Provincia de Córdoba.</td>\n",
       "    </tr>\n",
       "    <tr>\n",
       "      <td>...</td>\n",
       "      <td>...</td>\n",
       "      <td>...</td>\n",
       "      <td>...</td>\n",
       "    </tr>\n",
       "    <tr>\n",
       "      <td>92</td>\n",
       "      <td>tad_usuarios_finalizan_78</td>\n",
       "      <td>tad_usuarios_fin_78</td>\n",
       "      <td>TAD. Usuarios finalizando trámites. Provincia ...</td>\n",
       "    </tr>\n",
       "    <tr>\n",
       "      <td>93</td>\n",
       "      <td>tad_usuarios_finalizan_82</td>\n",
       "      <td>tad_usuarios_fin_82</td>\n",
       "      <td>TAD. Usuarios finalizando trámites. Provincia ...</td>\n",
       "    </tr>\n",
       "    <tr>\n",
       "      <td>94</td>\n",
       "      <td>tad_usuarios_finalizan_86</td>\n",
       "      <td>tad_usuarios_fin_86</td>\n",
       "      <td>TAD. Usuarios finalizando trámites. Provincia ...</td>\n",
       "    </tr>\n",
       "    <tr>\n",
       "      <td>95</td>\n",
       "      <td>tad_usuarios_finalizan_90</td>\n",
       "      <td>tad_usuarios_fin_90</td>\n",
       "      <td>TAD. Usuarios finalizando trámites. Provincia ...</td>\n",
       "    </tr>\n",
       "    <tr>\n",
       "      <td>96</td>\n",
       "      <td>tad_usuarios_finalizan_94</td>\n",
       "      <td>tad_usuarios_fin_94</td>\n",
       "      <td>TAD. Usuarios finalizando trámites. Provincia ...</td>\n",
       "    </tr>\n",
       "  </tbody>\n",
       "</table>\n",
       "<p>97 rows × 3 columns</p>\n",
       "</div>"
      ],
      "text/plain": [
       "                  field_title             field_id  \\\n",
       "0               indice_tiempo              None_po   \n",
       "1   tad_tramites_iniciados_02  tad_tramites_ini_02   \n",
       "2   tad_tramites_iniciados_06  tad_tramites_ini_06   \n",
       "3   tad_tramites_iniciados_10  tad_tramites_ini_10   \n",
       "4   tad_tramites_iniciados_14  tad_tramites_ini_14   \n",
       "..                        ...                  ...   \n",
       "92  tad_usuarios_finalizan_78  tad_usuarios_fin_78   \n",
       "93  tad_usuarios_finalizan_82  tad_usuarios_fin_82   \n",
       "94  tad_usuarios_finalizan_86  tad_usuarios_fin_86   \n",
       "95  tad_usuarios_finalizan_90  tad_usuarios_fin_90   \n",
       "96  tad_usuarios_finalizan_94  tad_usuarios_fin_94   \n",
       "\n",
       "                                    field_description  \n",
       "0                                          None None.  \n",
       "1   TAD. Trámites iniciados. Ciudad Autónoma de Bu...  \n",
       "2   TAD. Trámites iniciados. Provincia de Buenos A...  \n",
       "3    TAD. Trámites iniciados. Provincia de Catamarca.  \n",
       "4      TAD. Trámites iniciados. Provincia de Córdoba.  \n",
       "..                                                ...  \n",
       "92  TAD. Usuarios finalizando trámites. Provincia ...  \n",
       "93  TAD. Usuarios finalizando trámites. Provincia ...  \n",
       "94  TAD. Usuarios finalizando trámites. Provincia ...  \n",
       "95  TAD. Usuarios finalizando trámites. Provincia ...  \n",
       "96  TAD. Usuarios finalizando trámites. Provincia ...  \n",
       "\n",
       "[97 rows x 3 columns]"
      ]
     },
     "execution_count": 252,
     "metadata": {},
     "output_type": "execute_result"
    }
   ],
   "source": [
    "# series a documentar en el catálogo\n",
    "df_series_provincias_metadatos = pd.DataFrame({\n",
    "    \"field_title\": list(dfs_prov_merged.columns),\n",
    "    \"field_id\": dfs_prov_merged.columns.map(\n",
    "        lambda x: \"{}_{}\".format(TITLE_DOCS.get(x[:-3], {}).get(\"id\"), x[-2:])),\n",
    "    \"field_description\": dfs_prov_merged.columns.map(\n",
    "        lambda x: \"{} {}.\".format(TITLE_DOCS.get(x[:-3], {}).get(\"description\"), get_prov_nombre_completo(x[-2:])))\n",
    "})\n",
    "df_series_provincias_metadatos.to_csv(FILENAME_OUTPUT_SERIES_PROVINCIAS_METADATOS, index=False, encoding=\"utf8\", sep=\",\")\n",
    "df_series_provincias_metadatos.to_clipboard()\n",
    "df_series_provincias_metadatos"
   ]
  },
  {
   "cell_type": "markdown",
   "metadata": {},
   "source": [
    "## Hace chequeos de consistencia básicos de las series"
   ]
  },
  {
   "cell_type": "markdown",
   "metadata": {},
   "source": [
    "Tal como se toma en este momento el universo aplicable de trámites para agregar en series, la cantidad de trámites iniciados y finalizados tiene que ser siempre idéntica (se toman los trámites iniciados y finalizados, dentro de los meses que están completos -ie. se excluye el mes actual-)."
   ]
  },
  {
   "cell_type": "code",
   "execution_count": 253,
   "metadata": {},
   "outputs": [
    {
     "name": "stdout",
     "output_type": "stream",
     "text": [
      "Filas: 3212529 Sum iniciados: 3212529 Sum finalizados 3212529\n"
     ]
    }
   ],
   "source": [
    "print(\"Filas:\", len(df_ini), \"Sum iniciados:\", df_nacion.tad_tramites_iniciados.sum(), \"Sum finalizados\", df_nacion.tad_tramites_finalizados.sum())"
   ]
  },
  {
   "cell_type": "markdown",
   "metadata": {},
   "source": [
    "El corte por género comprehende todo el universo, así que también tiene sumar el total tanto en iniciados como en finalizados."
   ]
  },
  {
   "cell_type": "code",
   "execution_count": 254,
   "metadata": {},
   "outputs": [
    {
     "name": "stdout",
     "output_type": "stream",
     "text": [
      "Sum por sexo 3212529\n"
     ]
    }
   ],
   "source": [
    "ini_m = df_nacion.tad_tramites_iniciados_sexo_masculino.sum()\n",
    "ini_f = df_nacion.tad_tramites_iniciados_sexo_femenino.sum()\n",
    "ini_nd = df_nacion.tad_tramites_iniciados_sexo_no_declara.sum()\n",
    "ini_na = df_nacion.tad_tramites_iniciados_sexo_no_aplica.sum()\n",
    "\n",
    "print(\"Sum por sexo\", sum([ini_m, ini_f, ini_nd, ini_na]))"
   ]
  },
  {
   "cell_type": "code",
   "execution_count": 255,
   "metadata": {},
   "outputs": [
    {
     "name": "stdout",
     "output_type": "stream",
     "text": [
      "Sum por sexo 3212529\n"
     ]
    }
   ],
   "source": [
    "fin_m = df_nacion.tad_tramites_finalizados_sexo_masculino.sum()\n",
    "fin_f = df_nacion.tad_tramites_finalizados_sexo_femenino.sum()\n",
    "fin_nd = df_nacion.tad_tramites_finalizados_sexo_no_declara.sum()\n",
    "fin_na = df_nacion.tad_tramites_finalizados_sexo_no_aplica.sum()\n",
    "\n",
    "print(\"Sum por sexo\", sum([fin_m, fin_f, fin_nd, fin_na]))"
   ]
  },
  {
   "cell_type": "code",
   "execution_count": 256,
   "metadata": {},
   "outputs": [
    {
     "data": {
      "text/plain": [
       "No aplica     1441477\n",
       "M             1330440\n",
       "F              430317\n",
       "No declara      10295\n",
       "Name: persona_sexo, dtype: int64"
      ]
     },
     "execution_count": 256,
     "metadata": {},
     "output_type": "execute_result"
    }
   ],
   "source": [
    "df_ini.persona_sexo.value_counts()"
   ]
  },
  {
   "cell_type": "code",
   "execution_count": 257,
   "metadata": {},
   "outputs": [
    {
     "data": {
      "text/plain": [
       "(1441477, 1330440, 430317, 10295)"
      ]
     },
     "execution_count": 257,
     "metadata": {},
     "output_type": "execute_result"
    }
   ],
   "source": [
    "ini_na, ini_m, ini_f, ini_nd"
   ]
  },
  {
   "cell_type": "code",
   "execution_count": null,
   "metadata": {},
   "outputs": [],
   "source": []
  }
 ],
 "metadata": {
  "kernelspec": {
   "display_name": "Python 3",
   "language": "python",
   "name": "python3"
  },
  "language_info": {
   "codemirror_mode": {
    "name": "ipython",
    "version": 3
   },
   "file_extension": ".py",
   "mimetype": "text/x-python",
   "name": "python",
   "nbconvert_exporter": "python",
   "pygments_lexer": "ipython3",
   "version": "3.7.1"
  },
  "toc": {
   "colors": {
    "hover_highlight": "#DAA520",
    "running_highlight": "#FF0000",
    "selected_highlight": "#FFD700"
   },
   "moveMenuLeft": true,
   "nav_menu": {
    "height": "120px",
    "width": "252px"
   },
   "navigate_menu": true,
   "number_sections": true,
   "sideBar": true,
   "threshold": 4,
   "toc_cell": false,
   "toc_section_display": "block",
   "toc_window_display": false
  }
 },
 "nbformat": 4,
 "nbformat_minor": 2
}
