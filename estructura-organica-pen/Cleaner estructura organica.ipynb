{
 "cells": [
  {
   "cell_type": "markdown",
   "metadata": {},
   "source": [
    "# Limpieza de Estructura Organica del PEN"
   ]
  },
  {
   "cell_type": "markdown",
   "metadata": {},
   "source": [
    "Se utilizan **data-cleaner** y **pandas** para codificar la limpieza de los datos de un archivo CSV. Primero se realiza una exploración de la tabla aplicando algunas reglas de limpieza y comprobando el resultado generado. Cuando este resultado es satisfactorio, se agrega la regla de limpieza a la lista codificada que luego se utilizará para generar la versión limpia del archivo."
   ]
  },
  {
   "cell_type": "markdown",
   "metadata": {},
   "source": [
    "## Inicio"
   ]
  },
  {
   "cell_type": "code",
   "execution_count": 36,
   "metadata": {
    "collapsed": false
   },
   "outputs": [],
   "source": [
    "from data_cleaner import DataCleaner"
   ]
  },
  {
   "cell_type": "code",
   "execution_count": 37,
   "metadata": {
    "collapsed": true
   },
   "outputs": [],
   "source": [
    "input_path = \"estructura-organica-raw.csv\"\n",
    "output_path = \"estructura-organica-clean.csv\""
   ]
  },
  {
   "cell_type": "code",
   "execution_count": 38,
   "metadata": {
    "collapsed": false
   },
   "outputs": [],
   "source": [
    "dc = DataCleaner(input_path)"
   ]
  },
  {
   "cell_type": "markdown",
   "metadata": {},
   "source": [
    "## Exploración y descubrimiento"
   ]
  },
  {
   "cell_type": "code",
   "execution_count": 39,
   "metadata": {
    "collapsed": false
   },
   "outputs": [
    {
     "name": "stdout",
     "output_type": "stream",
     "text": [
      "unnamed_0\n",
      "jurisdiccion\n",
      "unidad\n",
      "reporta_a\n",
      "unidad_tipo\n",
      "norma_competenciasobjetivos\n",
      "aut_cargo\n",
      "aut_tratamiento\n",
      "aut_apellido\n",
      "aut_nombre\n",
      "aut_dni\n",
      "aut_cuit_cuil\n",
      "aut_norma_designacion\n",
      "web\n",
      "domicilio\n",
      "piso_oficina\n",
      "localidad\n",
      "cordigo_postal\n",
      "provincia\n",
      "telefono\n",
      "mail\n"
     ]
    }
   ],
   "source": [
    "for c in dc.df.columns:\n",
    "    print(c)"
   ]
  },
  {
   "cell_type": "code",
   "execution_count": 33,
   "metadata": {
    "collapsed": false
   },
   "outputs": [
    {
     "data": {
      "text/plain": [
       "array([u'Piso 1', u'Piso 2', nan, u'Planta Baja',\n",
       "       u'Piso 1 Secretar\\xeda Presidencial', u'Piso 7',\n",
       "       u'Piso 1 Sobre Balcarce', u'Piso 8', u'Piso 9 Ochava', u'Piso6',\n",
       "       u'Piso 7 Ochava', u'Piso 4 Oficina 409', u'Piso 4 Oficina 415',\n",
       "       u'Piso 5', u'Piso 5 Oficina 509', u'Piso 10 Ochava',\n",
       "       u'PISO 10 OCHAVA', u'Piso 3', u'Piso 11', u'Piso 11 Oficina 1108',\n",
       "       u'Piso 8 Oficina 801', u'Piso 8 Oficina  801', u'Piso 6 Oficina 2',\n",
       "       u'Piso 6 Oficina 21 bis', u'Piso 2 Oficina 204',\n",
       "       u'Piso 1 Oficina 13', u'Entrepiso Oficina 3', u'Piso 3 Oficina 346',\n",
       "       u'Entrepiso Oficina 2', u'Piso 1 Oficina 9', u'Piso 4 Oficina 402',\n",
       "       u'Piso 3 Oficina 312', u'Piso 11. Of.icina 1121',\n",
       "       u'Piso 11. Oficina 1107', u'Piso 11 Oficina 1129', u'Piso 10',\n",
       "       u'Piso 9', u'Piso 6', u'Piso 14', u'Piso 12',\n",
       "       u'Piso 11 Ala Frente ', u'Piso 11 Contrafrente',\n",
       "       u'Piso 11 Ala Norte', u'Piso 10 Contrafrente Ala Norte',\n",
       "       u'Piso 12 Contrafrente Ala Norte', u'Piso 10 Contrafrente Ala Sur',\n",
       "       u'Piso 11 Frente Ala Sur', u'Piso 13 Frente Ala Sur',\n",
       "       u'Piso 11 Frente Ala Norte', u'Piso 10 Frente Ala Norte',\n",
       "       u'Piso 10 Frente Ala Central', u'Piso 4 Frente Ala Sur',\n",
       "       u'Piso 11 Oficina 1114', u'Piso 5 Oficina 504',\n",
       "       u'Piso 2 Oficina 225', u'Piso 2 Oficina 224', u'Piso 2 Oficina 229',\n",
       "       u'Piso 2 Oficina 248', u'Piso 2 Oficina 244', u'Piso 2 Oficina 213',\n",
       "       u'Piso 2 Oficina 233', u'Piso 2 Oficina 235',\n",
       "       u'Piso 10 Oficina S/N', u'Piso 2 Oficina 204/206',\n",
       "       u'Piso 2 Oficina 220', u'Piso 2 Oficina 221', u'Piso 8 Oficina 819',\n",
       "       u'Piso 6 Oficina 611', u'Piso 8 Oficina 833', u'Piso 8 Oficina 828',\n",
       "       u'Piso 1 Oficina 97', u'Piso 1 Oficina 95', u'Piso 2 Oficina 239',\n",
       "       u'Piso 1 Oficina 74', u'Piso 1 Oficina 87', u'Piso 1 Oficina 80',\n",
       "       u'Piso 1 Oficina 79', u'Piso 1 Oficina 68', u'Piso 1 Oficina 147',\n",
       "       u'Piso 3 Oficina 302', u'Piso 1 Oficina 100', u'Piso 1 Oficina 86',\n",
       "       u'Piso 1 Oficina 114', u'Piso 3 Oficina 138', u'Piso 1 Oficina 84',\n",
       "       u'Piso 1 Oficina 101', u'Piso 1 Oficina 102', u'Piso 2 Oficina 226',\n",
       "       u'Piso 20', u'Piso 22', u'Piso 4', u'Piso 6 Oficina 608',\n",
       "       u'Piso 10 Oficina 1004', u'Piso 6 Oficina 606',\n",
       "       u'Piso 8 Oficina 803', u'Piso 8 Oficina 812', u'Piso 7 Oficina 702',\n",
       "       u'Piso 8 Oficina 805', u'Piso 3 Oficina 1', u'Piso 3 Oficina 4',\n",
       "       u'Piso 6 Oficina 603', u'Piso 6 Oficina 616', u'Piso 6 Oficina 601',\n",
       "       u'Piso 4 Oficina 404', u'Piso 3 Oficina 301', u'Piso 4 Oficina 401'], dtype=object)"
      ]
     },
     "execution_count": 33,
     "metadata": {},
     "output_type": "execute_result"
    }
   ],
   "source": [
    "dc.df.piso_oficina.unique()"
   ]
  },
  {
   "cell_type": "code",
   "execution_count": 40,
   "metadata": {
    "collapsed": false
   },
   "outputs": [
    {
     "data": {
      "text/plain": [
       "[u'Planta 1',\n",
       " u'Planta 1',\n",
       " u'Planta 1',\n",
       " u'Planta 1',\n",
       " u'Planta 1',\n",
       " u'Planta 1',\n",
       " u'Planta 2',\n",
       " u'nan',\n",
       " u'Planta Baja',\n",
       " u'Planta Baja',\n",
       " u'Planta Baja',\n",
       " u'nan',\n",
       " u'nan',\n",
       " u'nan',\n",
       " u'nan',\n",
       " u'nan',\n",
       " u'Planta 1',\n",
       " u'Planta 1 Secretar\\xeda Presidencial',\n",
       " u'Planta 2',\n",
       " u'Planta 2',\n",
       " u'nan',\n",
       " u'Planta 7',\n",
       " u'Planta Baja',\n",
       " u'Planta Baja',\n",
       " u'Planta 1 Sobre Balcarce',\n",
       " u'Planta 2',\n",
       " u'nan',\n",
       " u'Planta 1',\n",
       " u'Planta 8',\n",
       " u'Planta 9 Ochava',\n",
       " u'Planta6',\n",
       " u'Planta 7 Ochava',\n",
       " u'Planta 4 Oficina 409',\n",
       " u'Planta 4 Oficina 415',\n",
       " u'Planta 5',\n",
       " u'Planta 5 Oficina 509',\n",
       " u'Planta 10 Ochava',\n",
       " u'PISO 10 OCHAVA',\n",
       " u'Planta 3',\n",
       " u'Planta 3',\n",
       " u'Planta 3',\n",
       " u'nan',\n",
       " u'Planta 1',\n",
       " u'Planta 11',\n",
       " u'Planta 11 Oficina 1108',\n",
       " u'nan',\n",
       " u'Planta 8 Oficina 801',\n",
       " u'Planta 8 Oficina  801',\n",
       " u'Planta 6 Oficina 2',\n",
       " u'Planta 6 Oficina 21 bis',\n",
       " u'nan',\n",
       " u'Planta 2 Oficina 204',\n",
       " u'Planta 1 Oficina 13',\n",
       " u'Entrepiso Oficina 3',\n",
       " u'Planta 3 Oficina 346',\n",
       " u'Entrepiso Oficina 2',\n",
       " u'Planta 1 Oficina 9',\n",
       " u'Planta 4 Oficina 402',\n",
       " u'Planta 3 Oficina 312',\n",
       " u'Planta 11. Of.icina 1121',\n",
       " u'Planta 11. Oficina 1107',\n",
       " u'Planta 11 Oficina 1129',\n",
       " u'nan',\n",
       " u'Planta 10',\n",
       " u'Planta 5',\n",
       " u'Planta 5',\n",
       " u'Planta 8',\n",
       " u'Planta 9',\n",
       " u'Planta 7',\n",
       " u'Planta 6',\n",
       " u'Planta 14',\n",
       " u'Planta 11',\n",
       " u'Planta 12',\n",
       " u'Planta 10',\n",
       " u'Planta 9',\n",
       " u'Planta 9',\n",
       " u'Planta 11 Ala Frente ',\n",
       " u'Planta 11 Contrafrente',\n",
       " u'Planta 11 Ala Norte',\n",
       " u'Planta 10 Contrafrente Ala Norte',\n",
       " u'Planta 12 Contrafrente Ala Norte',\n",
       " u'Planta 10 Contrafrente Ala Sur',\n",
       " u'Planta 11 Frente Ala Sur',\n",
       " u'Planta 13 Frente Ala Sur',\n",
       " u'Planta 11 Frente Ala Sur',\n",
       " u'nan',\n",
       " u'Planta 11 Frente Ala Norte',\n",
       " u'Planta 10 Frente Ala Norte',\n",
       " u'Planta 10 Frente Ala Central',\n",
       " u'Planta 4 Frente Ala Sur',\n",
       " u'nan',\n",
       " u'nan',\n",
       " u'nan',\n",
       " u'nan',\n",
       " u'nan',\n",
       " u'nan',\n",
       " u'nan',\n",
       " u'nan',\n",
       " u'nan',\n",
       " u'nan',\n",
       " u'nan',\n",
       " u'nan',\n",
       " u'nan',\n",
       " u'nan',\n",
       " u'nan',\n",
       " u'Planta 11 Oficina 1114',\n",
       " u'Planta 5 Oficina 504',\n",
       " u'Planta 2 Oficina 225',\n",
       " u'Planta 2 Oficina 224',\n",
       " u'Planta 2 Oficina 229',\n",
       " u'Planta 2 Oficina 248',\n",
       " u'Planta 2 Oficina 244',\n",
       " u'Planta 2 Oficina 213',\n",
       " u'Planta 2 Oficina 233',\n",
       " u'Planta 2 Oficina 235',\n",
       " u'Planta 10 Oficina S/N',\n",
       " u'Planta 10 Oficina S/N',\n",
       " u'Planta 2 Oficina 204/206',\n",
       " u'Planta 2 Oficina 220',\n",
       " u'nan',\n",
       " u'Planta 2 Oficina 221',\n",
       " u'Planta 8 Oficina 819',\n",
       " u'Planta 6 Oficina 611',\n",
       " u'Planta 8 Oficina 833',\n",
       " u'Planta 8 Oficina 828',\n",
       " u'Planta 1 Oficina 97',\n",
       " u'Planta 1 Oficina 95',\n",
       " u'Planta 2 Oficina 239',\n",
       " u'Planta 1 Oficina 74',\n",
       " u'Planta 1 Oficina 87',\n",
       " u'Planta 1 Oficina 80',\n",
       " u'Planta 1 Oficina 79',\n",
       " u'Planta 1 Oficina 68',\n",
       " u'Planta 1 Oficina 147',\n",
       " u'Planta 3 Oficina 302',\n",
       " u'Planta 2 Oficina 204',\n",
       " u'Planta 14',\n",
       " u'Planta 1 Oficina 100',\n",
       " u'Planta 1 Oficina 86',\n",
       " u'Planta 1 Oficina 114',\n",
       " u'Planta 3 Oficina 138',\n",
       " u'Planta 1 Oficina 84',\n",
       " u'Planta 1 Oficina 101',\n",
       " u'Planta 1 Oficina 102',\n",
       " u'Planta 2 Oficina 226',\n",
       " u'Planta 2 Oficina 226',\n",
       " u'Planta 20',\n",
       " u'Planta 22',\n",
       " u'Planta 20',\n",
       " u'Planta 20',\n",
       " u'Planta 20',\n",
       " u'Planta 20',\n",
       " u'Planta 20',\n",
       " u'Planta 20',\n",
       " u'Planta 20',\n",
       " u'Planta 12',\n",
       " u'Planta 12',\n",
       " u'Planta 12',\n",
       " u'Planta 12',\n",
       " u'Planta 12',\n",
       " u'Planta 12',\n",
       " u'Planta 12',\n",
       " u'Planta 12',\n",
       " u'Planta 12',\n",
       " u'Planta 4',\n",
       " u'Planta 12',\n",
       " u'Planta 12',\n",
       " u'Planta 12',\n",
       " u'Planta 12',\n",
       " u'Planta 12',\n",
       " u'nan',\n",
       " u'nan',\n",
       " u'nan',\n",
       " u'nan',\n",
       " u'nan',\n",
       " u'nan',\n",
       " u'nan',\n",
       " u'nan',\n",
       " u'nan',\n",
       " u'nan',\n",
       " u'nan',\n",
       " u'nan',\n",
       " u'nan',\n",
       " u'nan',\n",
       " u'nan',\n",
       " u'nan',\n",
       " u'nan',\n",
       " u'nan',\n",
       " u'nan',\n",
       " u'nan',\n",
       " u'nan',\n",
       " u'nan',\n",
       " u'nan',\n",
       " u'nan',\n",
       " u'nan',\n",
       " u'nan',\n",
       " u'nan',\n",
       " u'nan',\n",
       " u'nan',\n",
       " u'nan',\n",
       " u'nan',\n",
       " u'nan',\n",
       " u'nan',\n",
       " u'nan',\n",
       " u'nan',\n",
       " u'nan',\n",
       " u'nan',\n",
       " u'nan',\n",
       " u'nan',\n",
       " u'nan',\n",
       " u'nan',\n",
       " u'nan',\n",
       " u'nan',\n",
       " u'nan',\n",
       " u'nan',\n",
       " u'nan',\n",
       " u'nan',\n",
       " u'nan',\n",
       " u'nan',\n",
       " u'nan',\n",
       " u'nan',\n",
       " u'nan',\n",
       " u'nan',\n",
       " u'nan',\n",
       " u'nan',\n",
       " u'nan',\n",
       " u'nan',\n",
       " u'nan',\n",
       " u'nan',\n",
       " u'nan',\n",
       " u'nan',\n",
       " u'nan',\n",
       " u'nan',\n",
       " u'nan',\n",
       " u'nan',\n",
       " u'nan',\n",
       " u'nan',\n",
       " u'nan',\n",
       " u'nan',\n",
       " u'nan',\n",
       " u'nan',\n",
       " u'nan',\n",
       " u'nan',\n",
       " u'nan',\n",
       " u'nan',\n",
       " u'nan',\n",
       " u'nan',\n",
       " u'nan',\n",
       " u'nan',\n",
       " u'nan',\n",
       " u'nan',\n",
       " u'nan',\n",
       " u'nan',\n",
       " u'nan',\n",
       " u'nan',\n",
       " u'nan',\n",
       " u'nan',\n",
       " u'nan',\n",
       " u'nan',\n",
       " u'nan',\n",
       " u'nan',\n",
       " u'nan',\n",
       " u'Planta 4',\n",
       " u'Planta 1',\n",
       " u'Planta 4',\n",
       " u'Planta 3',\n",
       " u'Planta 3',\n",
       " u'Planta 4',\n",
       " u'Planta 2',\n",
       " u'Planta 2',\n",
       " u'Planta Baja',\n",
       " u'Planta 1',\n",
       " u'Planta 1',\n",
       " u'Planta 5',\n",
       " u'Planta 1',\n",
       " u'Planta 3',\n",
       " u'Planta 6',\n",
       " u'Planta 1',\n",
       " u'Planta 1',\n",
       " u'nan',\n",
       " u'nan',\n",
       " u'nan',\n",
       " u'nan',\n",
       " u'nan',\n",
       " u'nan',\n",
       " u'nan',\n",
       " u'nan',\n",
       " u'nan',\n",
       " u'nan',\n",
       " u'nan',\n",
       " u'nan',\n",
       " u'nan',\n",
       " u'nan',\n",
       " u'nan',\n",
       " u'nan',\n",
       " u'nan',\n",
       " u'nan',\n",
       " u'nan',\n",
       " u'nan',\n",
       " u'nan',\n",
       " u'nan',\n",
       " u'Planta 6 Oficina 608',\n",
       " u'Planta 10 Oficina 1004',\n",
       " u'Planta 6 Oficina 606',\n",
       " u'Planta 8 Oficina 803',\n",
       " u'Planta 8 Oficina 812',\n",
       " u'Planta 7 Oficina 702',\n",
       " u'Planta 8 Oficina 805',\n",
       " u'Planta 7 Oficina 702',\n",
       " u'Planta 3 Oficina 1',\n",
       " u'Planta 3 Oficina 4',\n",
       " u'Planta 3 Oficina 4',\n",
       " u'Planta 6 Oficina 603',\n",
       " u'Planta 6 Oficina 616',\n",
       " u'Planta 6 Oficina 601',\n",
       " u'Planta 4 Oficina 404',\n",
       " u'Planta 3 Oficina 301',\n",
       " u'Planta 4 Oficina 401',\n",
       " u'Planta 3 Oficina 301',\n",
       " u'nan',\n",
       " u'nan',\n",
       " u'nan',\n",
       " u'nan',\n",
       " u'nan',\n",
       " u'nan']"
      ]
     },
     "execution_count": 40,
     "metadata": {},
     "output_type": "execute_result"
    }
   ],
   "source": [
    "dc.reemplazar_string(\"piso_oficina\", {\"Planta\": [\"Piso\"]})"
   ]
  },
  {
   "cell_type": "code",
   "execution_count": 35,
   "metadata": {
    "collapsed": false
   },
   "outputs": [
    {
     "data": {
      "text/plain": [
       "array([u'Piso 1', u'Piso 2', nan, u'Planta Baja',\n",
       "       u'Piso 1 Secretar\\xeda Presidencial', u'Piso 7',\n",
       "       u'Piso 1 Sobre Balcarce', u'Piso 8', u'Piso 9 Ochava', u'Piso6',\n",
       "       u'Piso 7 Ochava', u'Piso 4 Oficina 409', u'Piso 4 Oficina 415',\n",
       "       u'Piso 5', u'Piso 5 Oficina 509', u'Piso 10 Ochava', u'Piso 3',\n",
       "       u'Piso 11', u'Piso 11 Oficina 1108', u'Piso 8 Oficina 801',\n",
       "       u'Piso 6 Oficina 2', u'Piso 6 Oficina 21 bis',\n",
       "       u'Piso 2 Oficina 204', u'Piso 1 Oficina 13', u'Entrepiso Oficina 3',\n",
       "       u'Piso 3 Oficina 346', u'Entrepiso Oficina 2', u'Piso 1 Oficina 9',\n",
       "       u'Piso 4 Oficina 402', u'Piso 3 Oficina 312',\n",
       "       u'Piso 11. Of.icina 1121', u'Piso 11. Oficina 1107',\n",
       "       u'Piso 11 Oficina 1129', u'Piso 10', u'Piso 9', u'Piso 6',\n",
       "       u'Piso 14', u'Piso 12', u'Piso 11 Ala Frente',\n",
       "       u'Piso 11 Contrafrente', u'Piso 11 Ala Norte',\n",
       "       u'Piso 10 Contrafrente Ala Norte',\n",
       "       u'Piso 12 Contrafrente Ala Norte', u'Piso 10 Contrafrente Ala Sur',\n",
       "       u'Piso 11 Frente Ala Sur', u'Piso 13 Frente Ala Sur',\n",
       "       u'Piso 11 Frente Ala Norte', u'Piso 10 Frente Ala Norte',\n",
       "       u'Piso 10 Frente Ala Central', u'Piso 4 Frente Ala Sur',\n",
       "       u'Piso 11 Oficina 1114', u'Piso 5 Oficina 504',\n",
       "       u'Piso 2 Oficina 225', u'Piso 2 Oficina 224', u'Piso 2 Oficina 229',\n",
       "       u'Piso 2 Oficina 248', u'Piso 2 Oficina 244', u'Piso 2 Oficina 213',\n",
       "       u'Piso 2 Oficina 233', u'Piso 2 Oficina 235',\n",
       "       u'Piso 10 Oficina S/N', u'Piso 2 Oficina 204/206',\n",
       "       u'Piso 2 Oficina 220', u'Piso 2 Oficina 221', u'Piso 8 Oficina 819',\n",
       "       u'Piso 6 Oficina 611', u'Piso 8 Oficina 833', u'Piso 8 Oficina 828',\n",
       "       u'Piso 1 Oficina 97', u'Piso 1 Oficina 95', u'Piso 2 Oficina 239',\n",
       "       u'Piso 1 Oficina 74', u'Piso 1 Oficina 87', u'Piso 1 Oficina 80',\n",
       "       u'Piso 1 Oficina 79', u'Piso 1 Oficina 68', u'Piso 1 Oficina 147',\n",
       "       u'Piso 3 Oficina 302', u'Piso 1 Oficina 100', u'Piso 1 Oficina 86',\n",
       "       u'Piso 1 Oficina 114', u'Piso 3 Oficina 138', u'Piso 1 Oficina 84',\n",
       "       u'Piso 1 Oficina 101', u'Piso 1 Oficina 102', u'Piso 2 Oficina 226',\n",
       "       u'Piso 20', u'Piso 22', u'Piso 4', u'Piso 6 Oficina 608',\n",
       "       u'Piso 10 Oficina 1004', u'Piso 6 Oficina 606',\n",
       "       u'Piso 8 Oficina 803', u'Piso 8 Oficina 812', u'Piso 7 Oficina 702',\n",
       "       u'Piso 8 Oficina 805', u'Piso 3 Oficina 1', u'Piso 3 Oficina 4',\n",
       "       u'Piso 6 Oficina 603', u'Piso 6 Oficina 616', u'Piso 6 Oficina 601',\n",
       "       u'Piso 4 Oficina 404', u'Piso 3 Oficina 301', u'Piso 4 Oficina 401'], dtype=object)"
      ]
     },
     "execution_count": 35,
     "metadata": {},
     "output_type": "execute_result"
    }
   ],
   "source": [
    "dc.df.piso_oficina.unique()"
   ]
  },
  {
   "cell_type": "markdown",
   "metadata": {},
   "source": [
    "## Reglas de limpieza codificadas"
   ]
  },
  {
   "cell_type": "code",
   "execution_count": 21,
   "metadata": {
    "collapsed": true
   },
   "outputs": [],
   "source": [
    "rules = [\n",
    "    {\n",
    "        \"remover_columnas\": [\n",
    "            {\"field\": \"unnamed_0\"}\n",
    "        ]\n",
    "    },\n",
    "    {\n",
    "        \"renombrar_columnas\": [\n",
    "            {\"field\": \"aut_dni\", \"new_field\": \"autoridad_dni\"},\n",
    "            {\"field\": \"aut_cuit_cuil\", \"new_field\": \"autoridad_cuil_cuit\"},\n",
    "            {\"field\": \"aut_cargo\", \"new_field\": \"autoridad_cargo\"},\n",
    "            {\"field\": \"aut_tratamiento\", \"new_field\": \"autoridad_tratamiento\"},\n",
    "            {\"field\": \"aut_apellido\", \"new_field\": \"autoridad_apellido\"},\n",
    "            {\"field\": \"aut_nombre\", \"new_field\": \"autoridad_nombre\"},\n",
    "            {\"field\": \"aut_norma_designacion\", \"new_field\": \"autoridad_norma_designacion\"},\n",
    "            {\"field\": \"norma_competenciasobjetivos\", \"new_field\": \"norma_competencias_objetivos\"},\n",
    "            {\"field\": \"cordigo_postal\", \"new_field\": \"codigo_postal\"}\n",
    "        ]\n",
    "    },\n",
    "    {\n",
    "        \"string\": [\n",
    "            {\"field\": \"jurisdiccion\", \"keep_original\": False},\n",
    "            {\"field\": \"unidad\", \"keep_original\": False},\n",
    "            {\"field\": \"reporta_a\", \"keep_original\": False},\n",
    "            {\"field\": \"unidad_tipo\", \"keep_original\": False},\n",
    "            {\"field\": \"autoridad_cargo\", \"keep_original\": False},\n",
    "            {\"field\": \"autoridad_tratamiento\", \"keep_original\": False},\n",
    "            {\"field\": \"autoridad_apellido\", \"keep_original\": False},\n",
    "            {\"field\": \"autoridad_nombre\", \"keep_original\": False},\n",
    "            {\"field\": \"autoridad_cuil_cuit\", \"keep_original\": False},\n",
    "            {\"field\": \"piso_oficina\", \"keep_original\": False},\n",
    "            {\"field\": \"codigo_postal\", \"keep_original\": False},\n",
    "            {\"field\": \"domicilio\", \"keep_original\": False},\n",
    "            {\"field\": \"localidad\", \"keep_original\": False},\n",
    "            {\"field\": \"provincia\", \"keep_original\": False},\n",
    "        ]\n",
    "    },\n",
    "    {\n",
    "        \"string_regex_substitute\": [\n",
    "            {\"field\": \"norma_competencias_objetivos\", \"regex_str_match\": \";\", \"regex_str_sub\": \",\",\n",
    "             \"keep_original\": False},\n",
    "            {\"field\": \"unidad\", \"regex_str_match\": \"\\(.*\\)\", \"regex_str_sub\": \"\",\n",
    "            \"keep_original\": False},\n",
    "            {\"field\": \"provincia\", \"regex_str_match\": \"Bs\\. As\\.\", \"regex_str_sub\": \"Buenos Aires\",\n",
    "            \"keep_original\": False},\n",
    "            {\"field\": \"autoridad_tratamiento\", \"regex_str_match\": \"\\s+$\", \"regex_str_sub\": \"\", \n",
    "             \"keep_original\": False},\n",
    "            {\"field\": \"autoridad_tratamiento\", \"regex_str_match\": \"(.+{^\\.})$\", \"regex_str_sub\": \"\\g<1>.\", \n",
    "             \"keep_original\": False},\n",
    "            {\"field\": \"autoridad_norma_designacion\", \"regex_str_match\": \"Dto\\D*\", \"regex_str_sub\": \"Decreto \",\n",
    "             \"keep_original\": False},\n",
    "            {\"field\": \"web\", \"regex_str_match\": \"^.+www\\.\", \"regex_str_sub\": \"http://www.\",\n",
    "            \"keep_original\": False},\n",
    "        ]\n",
    "    },\n",
    "    {\n",
    "        \"mail_format\": [\n",
    "            {\"field\": \"mail\"}\n",
    "        ]\n",
    "    },\n",
    "    {\n",
    "        \"reemplazar_string\": [\n",
    "            {\"field\": \"piso_oficina\", \"replacements\": {\"Oficina\": [\"Of.icina\"]}}\n",
    "        ]\n",
    "    }\n",
    "]"
   ]
  },
  {
   "cell_type": "markdown",
   "metadata": {},
   "source": [
    "## Limpieza"
   ]
  },
  {
   "cell_type": "code",
   "execution_count": 22,
   "metadata": {
    "collapsed": false
   },
   "outputs": [],
   "source": [
    "dc.clean(rules)"
   ]
  },
  {
   "cell_type": "code",
   "execution_count": 23,
   "metadata": {
    "collapsed": false
   },
   "outputs": [
    {
     "name": "stdout",
     "output_type": "stream",
     "text": [
      "jurisdiccion\n",
      "unidad\n",
      "reporta_a\n",
      "unidad_tipo\n",
      "norma_competencias_objetivos\n",
      "autoridad_cargo\n",
      "autoridad_tratamiento\n",
      "autoridad_apellido\n",
      "autoridad_nombre\n",
      "autoridad_dni\n",
      "autoridad_cuil_cuit\n",
      "autoridad_norma_designacion\n",
      "web\n",
      "domicilio\n",
      "piso_oficina\n",
      "localidad\n",
      "codigo_postal\n",
      "provincia\n",
      "telefono\n",
      "mail\n"
     ]
    }
   ],
   "source": [
    "for c in dc.df.columns:\n",
    "    print(c)"
   ]
  },
  {
   "cell_type": "code",
   "execution_count": 24,
   "metadata": {
    "collapsed": false
   },
   "outputs": [
    {
     "data": {
      "text/plain": [
       "20"
      ]
     },
     "execution_count": 24,
     "metadata": {},
     "output_type": "execute_result"
    }
   ],
   "source": [
    "len(dc.df.columns)"
   ]
  },
  {
   "cell_type": "code",
   "execution_count": 25,
   "metadata": {
    "collapsed": false
   },
   "outputs": [
    {
     "data": {
      "text/plain": [
       "array([u'Piso 1', u'Piso 2', u'nan', u'Planta Baja',\n",
       "       u'Piso 1 Secretar\\xeda Presidencial', u'Piso 7',\n",
       "       u'Piso 1 Sobre Balcarce', u'Piso 8', u'Piso 9 Ochava', u'Piso6',\n",
       "       u'Piso 7 Ochava', u'Piso 4 Oficina 409', u'Piso 4 Oficina 415',\n",
       "       u'Piso 5', u'Piso 5 Oficina 509', u'Piso 10 Ochava', u'Piso 3',\n",
       "       u'Piso 11', u'Piso 11 Oficina 1108', u'Piso 8 Oficina 801',\n",
       "       u'Piso 6 Oficina 2', u'Piso 6 Oficina 21 bis',\n",
       "       u'Piso 2 Oficina 204', u'Piso 1 Oficina 13', u'Entrepiso Oficina 3',\n",
       "       u'Piso 3 Oficina 346', u'Entrepiso Oficina 2', u'Piso 1 Oficina 9',\n",
       "       u'Piso 4 Oficina 402', u'Piso 3 Oficina 312',\n",
       "       u'Piso 11. Oficina 1121', u'Piso 11. Oficina 1107',\n",
       "       u'Piso 11 Oficina 1129', u'Piso 10', u'Piso 9', u'Piso 6',\n",
       "       u'Piso 14', u'Piso 12', u'Piso 11 Ala Frente',\n",
       "       u'Piso 11 Contrafrente', u'Piso 11 Ala Norte',\n",
       "       u'Piso 10 Contrafrente Ala Norte',\n",
       "       u'Piso 12 Contrafrente Ala Norte', u'Piso 10 Contrafrente Ala Sur',\n",
       "       u'Piso 11 Frente Ala Sur', u'Piso 13 Frente Ala Sur',\n",
       "       u'Piso 11 Frente Ala Norte', u'Piso 10 Frente Ala Norte',\n",
       "       u'Piso 10 Frente Ala Central', u'Piso 4 Frente Ala Sur',\n",
       "       u'Piso 11 Oficina 1114', u'Piso 5 Oficina 504',\n",
       "       u'Piso 2 Oficina 225', u'Piso 2 Oficina 224', u'Piso 2 Oficina 229',\n",
       "       u'Piso 2 Oficina 248', u'Piso 2 Oficina 244', u'Piso 2 Oficina 213',\n",
       "       u'Piso 2 Oficina 233', u'Piso 2 Oficina 235',\n",
       "       u'Piso 10 Oficina S/N', u'Piso 2 Oficina 204/206',\n",
       "       u'Piso 2 Oficina 220', u'Piso 2 Oficina 221', u'Piso 8 Oficina 819',\n",
       "       u'Piso 6 Oficina 611', u'Piso 8 Oficina 833', u'Piso 8 Oficina 828',\n",
       "       u'Piso 1 Oficina 97', u'Piso 1 Oficina 95', u'Piso 2 Oficina 239',\n",
       "       u'Piso 1 Oficina 74', u'Piso 1 Oficina 87', u'Piso 1 Oficina 80',\n",
       "       u'Piso 1 Oficina 79', u'Piso 1 Oficina 68', u'Piso 1 Oficina 147',\n",
       "       u'Piso 3 Oficina 302', u'Piso 1 Oficina 100', u'Piso 1 Oficina 86',\n",
       "       u'Piso 1 Oficina 114', u'Piso 3 Oficina 138', u'Piso 1 Oficina 84',\n",
       "       u'Piso 1 Oficina 101', u'Piso 1 Oficina 102', u'Piso 2 Oficina 226',\n",
       "       u'Piso 20', u'Piso 22', u'Piso 4', u'Piso 6 Oficina 608',\n",
       "       u'Piso 10 Oficina 1004', u'Piso 6 Oficina 606',\n",
       "       u'Piso 8 Oficina 803', u'Piso 8 Oficina 812', u'Piso 7 Oficina 702',\n",
       "       u'Piso 8 Oficina 805', u'Piso 3 Oficina 1', u'Piso 3 Oficina 4',\n",
       "       u'Piso 6 Oficina 603', u'Piso 6 Oficina 616', u'Piso 6 Oficina 601',\n",
       "       u'Piso 4 Oficina 404', u'Piso 3 Oficina 301', u'Piso 4 Oficina 401'], dtype=object)"
      ]
     },
     "execution_count": 25,
     "metadata": {},
     "output_type": "execute_result"
    }
   ],
   "source": [
    "dc.df.piso_oficina.unique()"
   ]
  },
  {
   "cell_type": "code",
   "execution_count": 26,
   "metadata": {
    "collapsed": false
   },
   "outputs": [
    {
     "data": {
      "text/plain": [
       "' Juan Jose Perez. (presidente)'"
      ]
     },
     "execution_count": 26,
     "metadata": {},
     "output_type": "execute_result"
    }
   ],
   "source": [
    "import re\n",
    "re.sub(\"(?P<cargo>\\(.+\\))(?P<nombre>.+)\",\"\\g<nombre> \\g<cargo>\",\"(presidente) Juan Jose Perez.\")"
   ]
  },
  {
   "cell_type": "code",
   "execution_count": 27,
   "metadata": {
    "collapsed": false
   },
   "outputs": [
    {
     "data": {
      "text/plain": [
       "0                               PRESIDENCIA DE LA NACIÓN\n",
       "1                                        VICEPRESIDENCIA\n",
       "2                                     Secretaría General\n",
       "3                          Subsecretaría de Coordinación\n",
       "4          Coordinador General de Asuntos lesPresidencia\n",
       "5                                  Subsecretaría General\n",
       "6      Subsecretaría de Relaciones con la Sociedad Civil\n",
       "7                                           Casa Militar\n",
       "8                             Secretaría Legal y Técnica\n",
       "9                       Subsecretaría de Asuntos Legales\n",
       "10                                 Subsecretaría Técnica\n",
       "11                       Agencia Federal de Inteligencia\n",
       "12     Secretaría de Programación para la Prevención ...\n",
       "13     Subsecretaría de Diseño, Monitoreo y Evaluació...\n",
       "14     Subsecretaría de Prevención, Capacitación y As...\n",
       "15          Subsecretaría de Coordinación Administrativa\n",
       "16                     Jefatura de Gabinete de Ministros\n",
       "17                    Secretaría de Asuntos Estrátegicos\n",
       "18                     Subsecretaría de Asuntos Globales\n",
       "19              Subsecretaría de Asuntos Institucionales\n",
       "20      Secretaría de Coordinación de Políticas Públicas\n",
       "21     Subsecretaría de Evaluación del Presupuesto Na...\n",
       "22                    Secretaría de Comunicación Pública\n",
       "23                 Subsecretaría de Comunicación Pública\n",
       "24     Subsecretaría de Comunicación y Contenidos de ...\n",
       "25                    Subsecretaría de Vínculo Ciudadano\n",
       "26      Estado Argentino en la Nueva Televisión del Sur \n",
       "27           Secretaría de Coordinación Interministerial\n",
       "28     Subsecretaría de Evaluación de Proyectos con F...\n",
       "29     Secretaria de Relaciones Parlamentarias y Admi...\n",
       "                             ...                        \n",
       "295             Subsecretaría Desarrollo de País Digital\n",
       "296           Secretaría de Gestión e Innovación Pública\n",
       "297                    Subsecretaría de Gobierno Digital\n",
       "298    Subsecretaría de Innovación Pública y Gobierno...\n",
       "299           Secretaría de Modernización Administrativa\n",
       "300              Subsecretaría de Gestión Administrativa\n",
       "301                      MINISTERIO DE ENERGÍA Y MINERÍA\n",
       "302    Subsecretaría de Coordinación de Política Tari...\n",
       "303         Subsecretaría de Coordinación Administrativa\n",
       "304                      Secretaría de Energía Eléctrica\n",
       "305                 Subsecretaría de Energías Renovables\n",
       "306              Subsecretaría de Energía Hidroeléctrica\n",
       "307                     Subsecretaría de Energía Nuclear\n",
       "308    Subsecretaría de Energía Térmica, Transporte y...\n",
       "309                                Secretaría de Minería\n",
       "310                   Subsecretaría de Desarrollo Minero\n",
       "311                     Subsecretaría de Política Minera\n",
       "312             Secretaría de Recursos Hidrocarburíferos\n",
       "313            Subsecretaría de Exploración y Producción\n",
       "314       Subsecretaría de Refinación y Comercialización\n",
       "315    Secretaría de Planeamiento Energético Estratégico\n",
       "316    Subsecretaría de Escenarios y Evaluación de Pr...\n",
       "317      Subsecretaría de Ahorro y Eficiencia Energética\n",
       "318          Subsecretaría de Infraestructura Energética\n",
       "319                         MINISTERIO DE COMUNICACIONES\n",
       "320                        Subsecretaría de Coordinación\n",
       "321    Secretaría de Tecnologías de la Información y ...\n",
       "322                          Subsecretaría de Regulación\n",
       "323                        Subsecretaría de Planeamiento\n",
       "324               Secretaría de Promoción de Inversiones\n",
       "Name: unidad, dtype: object"
      ]
     },
     "execution_count": 27,
     "metadata": {},
     "output_type": "execute_result"
    }
   ],
   "source": [
    "dc.df.unidad.replace('(Presidencia)(.+)','\\g<2>\\g<1>',regex=True)"
   ]
  },
  {
   "cell_type": "code",
   "execution_count": null,
   "metadata": {
    "collapsed": true
   },
   "outputs": [],
   "source": []
  },
  {
   "cell_type": "code",
   "execution_count": 28,
   "metadata": {
    "collapsed": true
   },
   "outputs": [],
   "source": [
    "# dc.save(output_path)"
   ]
  },
  {
   "cell_type": "code",
   "execution_count": null,
   "metadata": {
    "collapsed": true
   },
   "outputs": [],
   "source": []
  }
 ],
 "metadata": {
  "hide_input": false,
  "kernelspec": {
   "display_name": "Python 2",
   "language": "python",
   "name": "python2"
  },
  "language_info": {
   "codemirror_mode": {
    "name": "ipython",
    "version": 2
   },
   "file_extension": ".py",
   "mimetype": "text/x-python",
   "name": "python",
   "nbconvert_exporter": "python",
   "pygments_lexer": "ipython2",
   "version": "2.7.11"
  }
 },
 "nbformat": 4,
 "nbformat_minor": 0
}
