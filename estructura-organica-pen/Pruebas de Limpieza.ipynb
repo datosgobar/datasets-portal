{
 "cells": [
  {
   "cell_type": "code",
   "execution_count": 4,
   "metadata": {
    "collapsed": false
   },
   "outputs": [],
   "source": [
    "from data_cleaner import DataCleaner\n",
    "\n",
    "input_path = \"./estructuraPrueba.csv\"\n",
    "output_path = \"./clean_estructuraPrueba.csv\"\n",
    "\n",
    "rules = [\n",
    "    {\n",
    "        \"renombrar_columnas\":\n",
    "            [\n",
    "                {\"field\": \"aut_cargo\", \"new_field\": \"autoridad_cargo\"},\n",
    "                {\"field\": \"aut_tratamiento\", \"new_field\": \"autoridad_tratamiento\"},\n",
    "                {\"field\": \"aut_apellido\", \"new_field\": \"autoridad_apellido\"},\n",
    "                {\"field\": \"aut_nombre\", \"new_field\": \"autoridad_nombre\"},\n",
    "                {\"field\": \"aut_norma_designacion\", \"new_field\": \"autoridad_norma_designacion\"},\n",
    "            ]\n",
    "    },\n",
    "    {\n",
    "        \"nombre_propio\": [\n",
    "                      {\"field\": \"jurisdiccion\"},\n",
    "                      {\"field\": \"unidad\"},\n",
    "                      {\"field\": \"reporta_a\"},\n",
    "                      {\"field\": \"autoridad_cargo\"},\n",
    "                      {\"field\": \"autoridad_tratamiento\"},\n",
    "                      {\"field\": \"autoridad_apellido\"},\n",
    "                      {\"field\": \"autoridad_nombre\"},\n",
    "                      {\"field\": \"domicilio\"},\n",
    "                      {\"field\": \"localidad\"},\n",
    "                      {\"field\": \"provincia\"},\n",
    "                      ]\n",
    "    },\n",
    "    {\n",
    "        \"string\": [{\"field\": \"jurisdiccion\"},\n",
    "                   {\"field\": \"unidad\"},\n",
    "                   {\"field\": \"reporta_a\"},\n",
    "                   {\"field\": \"unidad_tipo\"},\n",
    "                   {\"field\": \"autoridad_cargo\"},\n",
    "                   {\"field\": \"autoridad_tratamiento\"},\n",
    "                   {\"field\": \"autoridad_apellido\"},\n",
    "                   {\"field\": \"autoridad_nombre\"},\n",
    "                   {\"field\": \"domicilio\"},\n",
    "                   {\"field\": \"localidad\"},\n",
    "                   {\"field\": \"provincia\"},\n",
    "                   ]\n",
    "    },\n",
    "    {\n",
    "        \"string_regex_substitute\":\n",
    "            [\n",
    "                {\"field\": \"norma_competenciasobjetivos\", \"regex_str_match\": \";\", \"regex_str_sub\": \",\"},\n",
    "                {\"field\": \"unidad\", \"regex_str_match\": \"\\(.*\\)\", \"regex_str_sub\": \"\"},\n",
    "                {\"field\": \"provincia\", \"regex_str_match\": \"Bs\\. As\\.\", \"regex_str_sub\": \"Buenos Aires\"},\n",
    "                {\"field\": \"autoridad_tratamiento\", \"regex_str_match\": \"\\s+$\", \"regex_str_sub\": \"\"},\n",
    "                {\"field\": \"autoridad_tratamiento\", \"regex_str_match\": \"(.+{^\\.})$\", \"regex_str_sub\": \"\\g<1>.\"},\n",
    "                {\"field\": \"autoridad_norma_designacion\", \"regex_str_match\": \"Dto\\D*\", \"regex_str_sub\": \"Decreto \"},\n",
    "                {\"field\": \"web\", \"regex_str_match\": \"^.+www\\.\", \"regex_str_sub\": \"http://www.\"},\n",
    "            ]\n",
    "    },\n",
    "]\n",
    "\n",
    "\n",
    "dc = DataCleaner(input_path)\n",
    "dc.clean(rules)\n"
   ]
  },
  {
   "cell_type": "code",
   "execution_count": 64,
   "metadata": {
    "collapsed": false
   },
   "outputs": [
    {
     "data": {
      "text/plain": [
       "0      presidencia@presidencia.gob.ar, pepepe@com.ar\n",
       "1                                                NaN\n",
       "2               secretariageneral@presidencia.gov.ar\n",
       "3                                                NaN\n",
       "4                                                NaN\n",
       "5                                                NaN\n",
       "6                                                NaN\n",
       "7                         jcasmil@presidencia.gov.ar\n",
       "8                                                NaN\n",
       "9                                                NaN\n",
       "10                         legalytecnica@slyt.gov.ar\n",
       "11                                               NaN\n",
       "12                                               NaN\n",
       "13                                               NaN\n",
       "14                                               NaN\n",
       "15                                               NaN\n",
       "16                                               NaN\n",
       "17                                               NaN\n",
       "18                 contacto@politicassociales.gov.ar\n",
       "19                 contacto@politicassociales.gov.ar\n",
       "20                          consultas@conadis.gob.ar\n",
       "21                 contacto@politicassociales.gov.ar\n",
       "22                           comunicacion@cnm.gob.ar\n",
       "23                             contacto@ondaf.gob.ar\n",
       "24                                   info@ptn.gov.ar\n",
       "25                                   info@ptn.gov.ar\n",
       "26                                   info@ptn.gov.ar\n",
       "27                                               NaN\n",
       "28                                               NaN\n",
       "29                                               NaN\n",
       "                           ...                      \n",
       "504                                              NaN\n",
       "505                                              NaN\n",
       "506                                              NaN\n",
       "507                                              NaN\n",
       "508                                              NaN\n",
       "509                                              NaN\n",
       "510                                              NaN\n",
       "511                                              NaN\n",
       "512                                              NaN\n",
       "513                                              NaN\n",
       "514                                              NaN\n",
       "515                                              NaN\n",
       "516                                              NaN\n",
       "517                                              NaN\n",
       "518                                              NaN\n",
       "519                                              NaN\n",
       "520                                              NaN\n",
       "521                                              NaN\n",
       "522                                              NaN\n",
       "523                                              NaN\n",
       "524                                              NaN\n",
       "525                                              NaN\n",
       "526                                              NaN\n",
       "527                                              NaN\n",
       "528                                              NaN\n",
       "529                                              NaN\n",
       "530                                              NaN\n",
       "531                                              NaN\n",
       "532                                              NaN\n",
       "533                                              NaN\n",
       "Name: mail, dtype: object"
      ]
     },
     "execution_count": 64,
     "metadata": {},
     "output_type": "execute_result"
    }
   ],
   "source": [
    "dc.df.mail"
   ]
  },
  {
   "cell_type": "code",
   "execution_count": 21,
   "metadata": {
    "collapsed": false
   },
   "outputs": [
    {
     "data": {
      "text/plain": [
       "'nan'"
      ]
     },
     "execution_count": 21,
     "metadata": {},
     "output_type": "execute_result"
    }
   ],
   "source": [
    "t = float('nan')\n",
    "str(t)"
   ]
  },
  {
   "cell_type": "code",
   "execution_count": 22,
   "metadata": {
    "collapsed": true
   },
   "outputs": [],
   "source": [
    "%qtconsole"
   ]
  },
  {
   "cell_type": "code",
   "execution_count": 15,
   "metadata": {
    "collapsed": false
   },
   "outputs": [
    {
     "data": {
      "text/plain": [
       "'Juan Jose Perez. (presidente)'"
      ]
     },
     "execution_count": 15,
     "metadata": {},
     "output_type": "execute_result"
    }
   ],
   "source": [
    "import re\n",
    "re.sub(\"(?P<cargo>\\(.+\\))(?P<nombre>.+)\",\"\\g<nombre> \\g<cargo>\",\"(presidente) Juan Jose Perez.\")"
   ]
  },
  {
   "cell_type": "code",
   "execution_count": 15,
   "metadata": {
    "collapsed": false
   },
   "outputs": [
    {
     "data": {
      "text/plain": [
       "0                                De La NaciónPresidencia\n",
       "1                                        Vicepresidencia\n",
       "2                                     Secretaría General\n",
       "3                          Subsecretaría De Coordinación\n",
       "4          Coordinador General De Asuntos lesPresidencia\n",
       "5                                  Subsecretaría General\n",
       "6      Subsecretaría De Relaciones Con La Sociedad Civil\n",
       "7                                           Casa Militar\n",
       "8                             Programa Fútbol Para Todos\n",
       "9                      Programa Automovilismo Para Todos\n",
       "10                            Secretaría Legal Y Técnica\n",
       "11                      Subsecretaría De Asuntos Legales\n",
       "12                                 Subsecretaría Técnica\n",
       "13                       Agencia Federal De Inteligencia\n",
       "14     Secretaría De Programación Para La Prevención ...\n",
       "15     Subsecretaría De Diseño, Monitoreo Y Evaluació...\n",
       "16     Subsecretaría De Prevención, Capacitación Y As...\n",
       "17          Subsecretaría De Coordinación Administrativa\n",
       "18     Consejo Nacional De Coordinación De Políticas ...\n",
       "19                                  Secretaría Ejecutiva\n",
       "20     Comisión Nacional Asesora Para La Integración ...\n",
       "21                        Unidad De Coordinación Técnica\n",
       "22                      Consejo Nacional De Las Mujeres \n",
       "23     Observatorio Nacional Del Deporte Y Actividad ...\n",
       "24                   Procuración Del Tesoro De La Nación\n",
       "25                   Procuración Del Tesoro De La Nación\n",
       "26                   Procuración Del Tesoro De La Nación\n",
       "27          Sindicatura General De La Nación (Sigen) (D)\n",
       "28          Sindicatura General De La Nación (Sigen) (D)\n",
       "29          Sindicatura General De La Nación (Sigen) (D)\n",
       "                             ...                        \n",
       "510        Ente Nacional Regulador Del Gas (Enargas) (D)\n",
       "511             Comisión Nacional De Energía Atómica (D)\n",
       "512    Unidad Especial Sistema De Transmisión Yacyret...\n",
       "513                         Ente Binacional Yacyretá (D)\n",
       "514                         Ente Binacional Yacyretá (D)\n",
       "515                         Ente Binacional Yacyretá (D)\n",
       "516                         Ente Binacional Yacyretá (D)\n",
       "517              Servicio Geológico Minero Argentino (D)\n",
       "518                                     Dioxitek Sa (Se)\n",
       "519                                          Ypf Sa (Se)\n",
       "520                                      Ypf Gas Sa (Se)\n",
       "521    Compañía Administradora Del Mercado Eléctrico ...\n",
       "522                         Ministerio De Comunicaciones\n",
       "523                        Subsecretaria De Coordinación\n",
       "524    Secretaría De Tecnologías De La Información Y ...\n",
       "525                          Subsecretaría De Regulación\n",
       "526                        Subsecretaría De Planeamiento\n",
       "527               Secretaría De Promoción De Inversiones\n",
       "528    Empresa Argentina De Soluciones Satelitales (A...\n",
       "529         Ente Nacional De Comunicaciones (Enacom) (D)\n",
       "530         Ente Nacional De Comunicaciones (Enacom) (D)\n",
       "531         Ente Nacional De Comunicaciones (Enacom) (D)\n",
       "532         Ente Nacional De Comunicaciones (Enacom) (D)\n",
       "533     Correo Oficial De La República Argentina Sa (Se)\n",
       "534                                                  NaN\n",
       "535                                                  NaN\n",
       "536                                                  NaN\n",
       "537                                                  NaN\n",
       "538                                                  NaN\n",
       "539                                                  NaN\n",
       "Name: unidad, dtype: object"
      ]
     },
     "execution_count": 15,
     "metadata": {},
     "output_type": "execute_result"
    }
   ],
   "source": [
    "dc.df.unidad.replace('(Presidencia)(.+)','\\g<2>\\g<1>',regex=True)"
   ]
  },
  {
   "cell_type": "code",
   "execution_count": null,
   "metadata": {
    "collapsed": true
   },
   "outputs": [],
   "source": []
  }
 ],
 "metadata": {
  "kernelspec": {
   "display_name": "Python 2",
   "language": "python",
   "name": "python2"
  },
  "language_info": {
   "codemirror_mode": {
    "name": "ipython",
    "version": 2
   },
   "file_extension": ".py",
   "mimetype": "text/x-python",
   "name": "python",
   "nbconvert_exporter": "python",
   "pygments_lexer": "ipython2",
   "version": "2.7.6"
  }
 },
 "nbformat": 4,
 "nbformat_minor": 0
}
