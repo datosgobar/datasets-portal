{
 "cells": [
  {
   "cell_type": "markdown",
   "metadata": {},
   "source": [
    "# Correcciones de Unidades Territoriales de IGN"
   ]
  },
  {
   "cell_type": "code",
   "execution_count": 1,
   "metadata": {},
   "outputs": [],
   "source": [
    "import pandas as pd\n",
    "from simpledbf import Dbf5\n",
    "import geopandas as gpd\n",
    "import requests\n",
    "import zipfile\n",
    "import io\n",
    "import os\n",
    "%matplotlib inline"
   ]
  },
  {
   "cell_type": "code",
   "execution_count": 2,
   "metadata": {},
   "outputs": [],
   "source": [
    "PROVINCIAS_URL = \"http://www.ign.gob.ar/descargas/geodatos/SHAPES/ign_provincia.zip\"\n",
    "DEPARTAMENTOS_URL = \"http://www.ign.gob.ar/descargas/geodatos/SHAPES/ign_departamento.zip\"\n",
    "MUNICIPIOS_URL = \"http://www.ign.gob.ar/descargas/geodatos/SHAPES/ign_municipio.zip\"\n",
    "\n",
    "PROVINCIAS_OUTPUT = \"provincias\"\n",
    "DEPARTAMENTOS_OUTPUT = \"departamentos\"\n",
    "MUNICIPIOS_OUTPUT = \"municipios\""
   ]
  },
  {
   "cell_type": "code",
   "execution_count": 3,
   "metadata": {},
   "outputs": [],
   "source": [
    "def download_and_unzip(url):\n",
    "    print('Downloading shapefile...')\n",
    "    r = requests.get(url)\n",
    "    z = zipfile.ZipFile(io.BytesIO(r.content))\n",
    "    print(\"Done\")\n",
    "    \n",
    "    z.extractall(path=\".\") # extract to folder\n",
    "    filenames = [y for y in sorted(z.namelist()) for ending in ['dbf', 'prj', 'shp', 'shx'] if y.endswith(ending)] \n",
    "    print(filenames)"
   ]
  },
  {
   "cell_type": "markdown",
   "metadata": {},
   "source": [
    "## Provincias"
   ]
  },
  {
   "cell_type": "code",
   "execution_count": 5,
   "metadata": {},
   "outputs": [
    {
     "name": "stdout",
     "output_type": "stream",
     "text": [
      "Downloading shapefile...\n",
      "Done\n",
      "['Provincia/ign_provincia.dbf', 'Provincia/ign_provincia.prj', 'Provincia/ign_provincia.shp', 'Provincia/ign_provincia.shx']\n"
     ]
    }
   ],
   "source": [
    "download_and_unzip(PROVINCIAS_URL)"
   ]
  },
  {
   "cell_type": "code",
   "execution_count": 6,
   "metadata": {},
   "outputs": [
    {
     "data": {
      "text/html": [
       "<div>\n",
       "<style scoped>\n",
       "    .dataframe tbody tr th:only-of-type {\n",
       "        vertical-align: middle;\n",
       "    }\n",
       "\n",
       "    .dataframe tbody tr th {\n",
       "        vertical-align: top;\n",
       "    }\n",
       "\n",
       "    .dataframe thead th {\n",
       "        text-align: right;\n",
       "    }\n",
       "</style>\n",
       "<table border=\"1\" class=\"dataframe\">\n",
       "  <thead>\n",
       "    <tr style=\"text-align: right;\">\n",
       "      <th></th>\n",
       "      <th>OBJECTID</th>\n",
       "      <th>Entidad</th>\n",
       "      <th>Objeto</th>\n",
       "      <th>FNA</th>\n",
       "      <th>GNA</th>\n",
       "      <th>NAM</th>\n",
       "      <th>SAG</th>\n",
       "      <th>FDC</th>\n",
       "      <th>IN1</th>\n",
       "      <th>SHAPE_STAr</th>\n",
       "      <th>SHAPE_STLe</th>\n",
       "      <th>geometry</th>\n",
       "    </tr>\n",
       "  </thead>\n",
       "  <tbody>\n",
       "    <tr>\n",
       "      <td>0</td>\n",
       "      <td>427</td>\n",
       "      <td>0</td>\n",
       "      <td>Provincia</td>\n",
       "      <td>Ciudad Autónoma de Buenos Aires</td>\n",
       "      <td>Ciudad Autónoma</td>\n",
       "      <td>Ciudad Autónoma de Buenos Aires</td>\n",
       "      <td>IGN</td>\n",
       "      <td>Geografía</td>\n",
       "      <td>02</td>\n",
       "      <td>0.020242</td>\n",
       "      <td>0.743806</td>\n",
       "      <td>POLYGON Z ((-58.34188739699994 -34.63109671699...</td>\n",
       "    </tr>\n",
       "    <tr>\n",
       "      <td>1</td>\n",
       "      <td>428</td>\n",
       "      <td>0</td>\n",
       "      <td>Provincia</td>\n",
       "      <td>Provincia del Neuquén</td>\n",
       "      <td>Provincia</td>\n",
       "      <td>Neuquén</td>\n",
       "      <td>IGN</td>\n",
       "      <td>Geografía</td>\n",
       "      <td>58</td>\n",
       "      <td>9.771811</td>\n",
       "      <td>21.515985</td>\n",
       "      <td>POLYGON Z ((-70.39345041599995 -36.15525721499...</td>\n",
       "    </tr>\n",
       "    <tr>\n",
       "      <td>2</td>\n",
       "      <td>429</td>\n",
       "      <td>0</td>\n",
       "      <td>Provincia</td>\n",
       "      <td>Provincia de La Pampa</td>\n",
       "      <td>Provincia</td>\n",
       "      <td>La Pampa</td>\n",
       "      <td>IGN</td>\n",
       "      <td>Geografía</td>\n",
       "      <td>42</td>\n",
       "      <td>14.553019</td>\n",
       "      <td>19.665614</td>\n",
       "      <td>(POLYGON Z ((-64.76547241199995 -40.7835121149...</td>\n",
       "    </tr>\n",
       "    <tr>\n",
       "      <td>3</td>\n",
       "      <td>430</td>\n",
       "      <td>0</td>\n",
       "      <td>Provincia</td>\n",
       "      <td>Provincia de Mendoza</td>\n",
       "      <td>Provincia</td>\n",
       "      <td>Mendoza</td>\n",
       "      <td>IGN</td>\n",
       "      <td>Geografía</td>\n",
       "      <td>50</td>\n",
       "      <td>14.658388</td>\n",
       "      <td>23.259986</td>\n",
       "      <td>POLYGON Z ((-69.12569695099995 -32.00283498499...</td>\n",
       "    </tr>\n",
       "    <tr>\n",
       "      <td>4</td>\n",
       "      <td>431</td>\n",
       "      <td>0</td>\n",
       "      <td>Provincia</td>\n",
       "      <td>Provincia de San Luis</td>\n",
       "      <td>Provincia</td>\n",
       "      <td>San Luis</td>\n",
       "      <td>IGN</td>\n",
       "      <td>Geografía</td>\n",
       "      <td>74</td>\n",
       "      <td>7.333771</td>\n",
       "      <td>14.490196</td>\n",
       "      <td>POLYGON Z ((-67.05547011299996 -31.85605263599...</td>\n",
       "    </tr>\n",
       "  </tbody>\n",
       "</table>\n",
       "</div>"
      ],
      "text/plain": [
       "   OBJECTID  Entidad     Objeto                              FNA  \\\n",
       "0       427        0  Provincia  Ciudad Autónoma de Buenos Aires   \n",
       "1       428        0  Provincia            Provincia del Neuquén   \n",
       "2       429        0  Provincia            Provincia de La Pampa   \n",
       "3       430        0  Provincia             Provincia de Mendoza   \n",
       "4       431        0  Provincia            Provincia de San Luis   \n",
       "\n",
       "               GNA                              NAM  SAG        FDC IN1  \\\n",
       "0  Ciudad Autónoma  Ciudad Autónoma de Buenos Aires  IGN  Geografía  02   \n",
       "1        Provincia                          Neuquén  IGN  Geografía  58   \n",
       "2        Provincia                         La Pampa  IGN  Geografía  42   \n",
       "3        Provincia                          Mendoza  IGN  Geografía  50   \n",
       "4        Provincia                         San Luis  IGN  Geografía  74   \n",
       "\n",
       "   SHAPE_STAr  SHAPE_STLe                                           geometry  \n",
       "0    0.020242    0.743806  POLYGON Z ((-58.34188739699994 -34.63109671699...  \n",
       "1    9.771811   21.515985  POLYGON Z ((-70.39345041599995 -36.15525721499...  \n",
       "2   14.553019   19.665614  (POLYGON Z ((-64.76547241199995 -40.7835121149...  \n",
       "3   14.658388   23.259986  POLYGON Z ((-69.12569695099995 -32.00283498499...  \n",
       "4    7.333771   14.490196  POLYGON Z ((-67.05547011299996 -31.85605263599...  "
      ]
     },
     "execution_count": 6,
     "metadata": {},
     "output_type": "execute_result"
    }
   ],
   "source": [
    "provincias = gpd.read_file(\"Provincia\")\n",
    "provincias.head()"
   ]
  },
  {
   "cell_type": "code",
   "execution_count": 8,
   "metadata": {},
   "outputs": [],
   "source": [
    "provincias.to_file(os.path.join(PROVINCIAS_OUTPUT, PROVINCIAS_OUTPUT) + \".shp\")"
   ]
  },
  {
   "cell_type": "markdown",
   "metadata": {},
   "source": [
    "## Departamentos"
   ]
  },
  {
   "cell_type": "code",
   "execution_count": 4,
   "metadata": {},
   "outputs": [
    {
     "name": "stdout",
     "output_type": "stream",
     "text": [
      "Downloading shapefile...\n",
      "Done\n",
      "['Departamento/igndepartamento.dbf', 'Departamento/igndepartamento.prj', 'Departamento/igndepartamento.shp', 'Departamento/igndepartamento.shx']\n"
     ]
    }
   ],
   "source": [
    "download_and_unzip(DEPARTAMENTOS_URL)"
   ]
  },
  {
   "cell_type": "code",
   "execution_count": 107,
   "metadata": {},
   "outputs": [
    {
     "data": {
      "text/html": [
       "<div>\n",
       "<style scoped>\n",
       "    .dataframe tbody tr th:only-of-type {\n",
       "        vertical-align: middle;\n",
       "    }\n",
       "\n",
       "    .dataframe tbody tr th {\n",
       "        vertical-align: top;\n",
       "    }\n",
       "\n",
       "    .dataframe thead th {\n",
       "        text-align: right;\n",
       "    }\n",
       "</style>\n",
       "<table border=\"1\" class=\"dataframe\">\n",
       "  <thead>\n",
       "    <tr style=\"text-align: right;\">\n",
       "      <th></th>\n",
       "      <th>Entidad</th>\n",
       "      <th>Objeto</th>\n",
       "      <th>FNA</th>\n",
       "      <th>GNA</th>\n",
       "      <th>NAM</th>\n",
       "      <th>SAG</th>\n",
       "      <th>FDC</th>\n",
       "      <th>IN1</th>\n",
       "      <th>SHAPE_STAr</th>\n",
       "      <th>SHAPE_STLe</th>\n",
       "      <th>geometry</th>\n",
       "    </tr>\n",
       "  </thead>\n",
       "  <tbody>\n",
       "    <tr>\n",
       "      <td>0</td>\n",
       "      <td>0</td>\n",
       "      <td>Departamento</td>\n",
       "      <td>Departamento Islas del Atlántico Sur</td>\n",
       "      <td>Departamento</td>\n",
       "      <td>Islas del Atlántico Sur</td>\n",
       "      <td>IGN</td>\n",
       "      <td>None</td>\n",
       "      <td>094021</td>\n",
       "      <td>2.200323</td>\n",
       "      <td>113.414744</td>\n",
       "      <td>(POLYGON Z ((-58.96740100699998 -51.2338223019...</td>\n",
       "    </tr>\n",
       "    <tr>\n",
       "      <td>1</td>\n",
       "      <td>0</td>\n",
       "      <td>Departamento</td>\n",
       "      <td>Departamento Concordia</td>\n",
       "      <td>Departamento</td>\n",
       "      <td>Concordia</td>\n",
       "      <td>ATER - Direc. de Catastro</td>\n",
       "      <td>None</td>\n",
       "      <td>030015</td>\n",
       "      <td>0.310471</td>\n",
       "      <td>4.031163</td>\n",
       "      <td>POLYGON Z ((-58.38760625899994 -30.82888817099...</td>\n",
       "    </tr>\n",
       "    <tr>\n",
       "      <td>2</td>\n",
       "      <td>0</td>\n",
       "      <td>Departamento</td>\n",
       "      <td>Departamento Federal</td>\n",
       "      <td>Departamento</td>\n",
       "      <td>Federal</td>\n",
       "      <td>ATER - Direc. de Catastro</td>\n",
       "      <td>None</td>\n",
       "      <td>030035</td>\n",
       "      <td>0.492214</td>\n",
       "      <td>5.517325</td>\n",
       "      <td>POLYGON Z ((-58.96264851599994 -30.60344399399...</td>\n",
       "    </tr>\n",
       "    <tr>\n",
       "      <td>3</td>\n",
       "      <td>0</td>\n",
       "      <td>Departamento</td>\n",
       "      <td>Departamento Gualeguaychú</td>\n",
       "      <td>Departamento</td>\n",
       "      <td>Gualeguaychú</td>\n",
       "      <td>ATER - Direc. de Catastro</td>\n",
       "      <td>None</td>\n",
       "      <td>030056</td>\n",
       "      <td>0.726821</td>\n",
       "      <td>5.318422</td>\n",
       "      <td>POLYGON Z ((-59.06579033399998 -32.48615000999...</td>\n",
       "    </tr>\n",
       "    <tr>\n",
       "      <td>4</td>\n",
       "      <td>0</td>\n",
       "      <td>Departamento</td>\n",
       "      <td>Departamento Islas del Ibicuy</td>\n",
       "      <td>Departamento</td>\n",
       "      <td>Islas del Ibicuy</td>\n",
       "      <td>ATER - Direc. de Catastro</td>\n",
       "      <td>None</td>\n",
       "      <td>030063</td>\n",
       "      <td>0.479076</td>\n",
       "      <td>4.213641</td>\n",
       "      <td>POLYGON Z ((-58.43840745399996 -33.51761382999...</td>\n",
       "    </tr>\n",
       "  </tbody>\n",
       "</table>\n",
       "</div>"
      ],
      "text/plain": [
       "   Entidad        Objeto                                   FNA           GNA  \\\n",
       "0        0  Departamento  Departamento Islas del Atlántico Sur  Departamento   \n",
       "1        0  Departamento                Departamento Concordia  Departamento   \n",
       "2        0  Departamento                  Departamento Federal  Departamento   \n",
       "3        0  Departamento             Departamento Gualeguaychú  Departamento   \n",
       "4        0  Departamento         Departamento Islas del Ibicuy  Departamento   \n",
       "\n",
       "                       NAM                        SAG   FDC     IN1  \\\n",
       "0  Islas del Atlántico Sur                        IGN  None  094021   \n",
       "1                Concordia  ATER - Direc. de Catastro  None  030015   \n",
       "2                  Federal  ATER - Direc. de Catastro  None  030035   \n",
       "3             Gualeguaychú  ATER - Direc. de Catastro  None  030056   \n",
       "4         Islas del Ibicuy  ATER - Direc. de Catastro  None  030063   \n",
       "\n",
       "   SHAPE_STAr  SHAPE_STLe                                           geometry  \n",
       "0    2.200323  113.414744  (POLYGON Z ((-58.96740100699998 -51.2338223019...  \n",
       "1    0.310471    4.031163  POLYGON Z ((-58.38760625899994 -30.82888817099...  \n",
       "2    0.492214    5.517325  POLYGON Z ((-58.96264851599994 -30.60344399399...  \n",
       "3    0.726821    5.318422  POLYGON Z ((-59.06579033399998 -32.48615000999...  \n",
       "4    0.479076    4.213641  POLYGON Z ((-58.43840745399996 -33.51761382999...  "
      ]
     },
     "execution_count": 107,
     "metadata": {},
     "output_type": "execute_result"
    }
   ],
   "source": [
    "departamentos = gpd.read_file(\"Departamento\")\n",
    "departamentos.head()"
   ]
  },
  {
   "cell_type": "code",
   "execution_count": 108,
   "metadata": {},
   "outputs": [],
   "source": [
    "# se corrige el id de departamentos, sacando el dígito inicial\n",
    "departamentos[\"IN1\"] = departamentos[\"IN1\"].str[1:]"
   ]
  },
  {
   "cell_type": "code",
   "execution_count": 109,
   "metadata": {},
   "outputs": [],
   "source": [
    "departamentos.to_file(os.path.join(DEPARTAMENTOS_OUTPUT, DEPARTAMENTOS_OUTPUT) + \".shp\")"
   ]
  },
  {
   "cell_type": "markdown",
   "metadata": {},
   "source": [
    "## Municipios"
   ]
  },
  {
   "cell_type": "code",
   "execution_count": 110,
   "metadata": {},
   "outputs": [
    {
     "name": "stdout",
     "output_type": "stream",
     "text": [
      "Downloading shapefile...\n",
      "Done\n",
      "['Municipio/ign_municipio.dbf', 'Municipio/ign_municipio.prj', 'Municipio/ign_municipio.shp', 'Municipio/ign_municipio.shx']\n"
     ]
    }
   ],
   "source": [
    "download_and_unzip(MUNICIPIOS_URL)"
   ]
  },
  {
   "cell_type": "code",
   "execution_count": 111,
   "metadata": {},
   "outputs": [
    {
     "data": {
      "text/html": [
       "<div>\n",
       "<style scoped>\n",
       "    .dataframe tbody tr th:only-of-type {\n",
       "        vertical-align: middle;\n",
       "    }\n",
       "\n",
       "    .dataframe tbody tr th {\n",
       "        vertical-align: top;\n",
       "    }\n",
       "\n",
       "    .dataframe thead th {\n",
       "        text-align: right;\n",
       "    }\n",
       "</style>\n",
       "<table border=\"1\" class=\"dataframe\">\n",
       "  <thead>\n",
       "    <tr style=\"text-align: right;\">\n",
       "      <th></th>\n",
       "      <th>OBJECTID</th>\n",
       "      <th>Entidad</th>\n",
       "      <th>Objeto</th>\n",
       "      <th>FNA</th>\n",
       "      <th>GNA</th>\n",
       "      <th>NAM</th>\n",
       "      <th>SAG</th>\n",
       "      <th>FDC</th>\n",
       "      <th>IN1</th>\n",
       "      <th>SHAPE_STAr</th>\n",
       "      <th>SHAPE_STLe</th>\n",
       "      <th>geometry</th>\n",
       "    </tr>\n",
       "  </thead>\n",
       "  <tbody>\n",
       "    <tr>\n",
       "      <td>0</td>\n",
       "      <td>11245</td>\n",
       "      <td>0</td>\n",
       "      <td>Municipio</td>\n",
       "      <td>Municipio General Paz</td>\n",
       "      <td>Municipio</td>\n",
       "      <td>General Paz</td>\n",
       "      <td>ARBA - Gerencia de Servicios Catastrales</td>\n",
       "      <td>ARBA - Gerencia de Servicios Catastrales</td>\n",
       "      <td>060343</td>\n",
       "      <td>0.118916</td>\n",
       "      <td>1.746722</td>\n",
       "      <td>POLYGON Z ((-58.15494155899995 -35.40827560399...</td>\n",
       "    </tr>\n",
       "    <tr>\n",
       "      <td>1</td>\n",
       "      <td>11246</td>\n",
       "      <td>0</td>\n",
       "      <td>Municipio</td>\n",
       "      <td>Municipio General Guido</td>\n",
       "      <td>Municipio</td>\n",
       "      <td>General Guido</td>\n",
       "      <td>ARBA - Gerencia de Servicios Catastrales</td>\n",
       "      <td>ARBA - Gerencia de Servicios Catastrales</td>\n",
       "      <td>060308</td>\n",
       "      <td>0.234481</td>\n",
       "      <td>2.694395</td>\n",
       "      <td>POLYGON Z ((-57.66096498999997 -36.72321702099...</td>\n",
       "    </tr>\n",
       "    <tr>\n",
       "      <td>2</td>\n",
       "      <td>11247</td>\n",
       "      <td>0</td>\n",
       "      <td>Municipio</td>\n",
       "      <td>Municipio General Juan Madariaga</td>\n",
       "      <td>Municipio</td>\n",
       "      <td>General Juan Madariaga</td>\n",
       "      <td>ARBA - Gerencia de Servicios Catastrales</td>\n",
       "      <td>ARBA - Gerencia de Servicios Catastrales</td>\n",
       "      <td>060315</td>\n",
       "      <td>0.302717</td>\n",
       "      <td>2.781763</td>\n",
       "      <td>POLYGON Z ((-56.82128529899995 -37.02416229699...</td>\n",
       "    </tr>\n",
       "    <tr>\n",
       "      <td>3</td>\n",
       "      <td>11248</td>\n",
       "      <td>0</td>\n",
       "      <td>Municipio</td>\n",
       "      <td>Municipio Tandil</td>\n",
       "      <td>Municipio</td>\n",
       "      <td>Tandil</td>\n",
       "      <td>ARBA - Gerencia de Servicios Catastrales</td>\n",
       "      <td>ARBA - Gerencia de Servicios Catastrales</td>\n",
       "      <td>060791</td>\n",
       "      <td>0.492759</td>\n",
       "      <td>3.341668</td>\n",
       "      <td>POLYGON Z ((-59.08983612099996 -37.06261444099...</td>\n",
       "    </tr>\n",
       "    <tr>\n",
       "      <td>4</td>\n",
       "      <td>11249</td>\n",
       "      <td>0</td>\n",
       "      <td>Municipio</td>\n",
       "      <td>Municipio Coronel Suárez</td>\n",
       "      <td>Municipio</td>\n",
       "      <td>Coronel Suárez</td>\n",
       "      <td>ARBA - Gerencia de Servicios Catastrales</td>\n",
       "      <td>ARBA - Gerencia de Servicios Catastrales</td>\n",
       "      <td>060203</td>\n",
       "      <td>0.608732</td>\n",
       "      <td>4.253503</td>\n",
       "      <td>POLYGON Z ((-61.60341644299996 -36.99325180099...</td>\n",
       "    </tr>\n",
       "  </tbody>\n",
       "</table>\n",
       "</div>"
      ],
      "text/plain": [
       "   OBJECTID  Entidad     Objeto                               FNA        GNA  \\\n",
       "0     11245        0  Municipio             Municipio General Paz  Municipio   \n",
       "1     11246        0  Municipio           Municipio General Guido  Municipio   \n",
       "2     11247        0  Municipio  Municipio General Juan Madariaga  Municipio   \n",
       "3     11248        0  Municipio                  Municipio Tandil  Municipio   \n",
       "4     11249        0  Municipio          Municipio Coronel Suárez  Municipio   \n",
       "\n",
       "                      NAM                                       SAG  \\\n",
       "0             General Paz  ARBA - Gerencia de Servicios Catastrales   \n",
       "1           General Guido  ARBA - Gerencia de Servicios Catastrales   \n",
       "2  General Juan Madariaga  ARBA - Gerencia de Servicios Catastrales   \n",
       "3                  Tandil  ARBA - Gerencia de Servicios Catastrales   \n",
       "4          Coronel Suárez  ARBA - Gerencia de Servicios Catastrales   \n",
       "\n",
       "                                        FDC     IN1  SHAPE_STAr  SHAPE_STLe  \\\n",
       "0  ARBA - Gerencia de Servicios Catastrales  060343    0.118916    1.746722   \n",
       "1  ARBA - Gerencia de Servicios Catastrales  060308    0.234481    2.694395   \n",
       "2  ARBA - Gerencia de Servicios Catastrales  060315    0.302717    2.781763   \n",
       "3  ARBA - Gerencia de Servicios Catastrales  060791    0.492759    3.341668   \n",
       "4  ARBA - Gerencia de Servicios Catastrales  060203    0.608732    4.253503   \n",
       "\n",
       "                                            geometry  \n",
       "0  POLYGON Z ((-58.15494155899995 -35.40827560399...  \n",
       "1  POLYGON Z ((-57.66096498999997 -36.72321702099...  \n",
       "2  POLYGON Z ((-56.82128529899995 -37.02416229699...  \n",
       "3  POLYGON Z ((-59.08983612099996 -37.06261444099...  \n",
       "4  POLYGON Z ((-61.60341644299996 -36.99325180099...  "
      ]
     },
     "execution_count": 111,
     "metadata": {},
     "output_type": "execute_result"
    }
   ],
   "source": [
    "municipios = gpd.read_file(\"Municipio\")\n",
    "municipios.head()"
   ]
  },
  {
   "cell_type": "markdown",
   "metadata": {},
   "source": [
    "Los polígonos de algunos municipios están separados. Se juntan para solucionar la duplicidad de municipios."
   ]
  },
  {
   "cell_type": "code",
   "execution_count": 112,
   "metadata": {},
   "outputs": [
    {
     "name": "stdout",
     "output_type": "stream",
     "text": [
      "Existen 47 municipios con id duplicado, tienen geometrías POLYGON separadas\n"
     ]
    },
    {
     "data": {
      "text/plain": [
       "(1806, 1759)"
      ]
     },
     "execution_count": 112,
     "metadata": {},
     "output_type": "execute_result"
    }
   ],
   "source": [
    "print(\"Existen {} municipios con id duplicado, tienen geometrías POLYGON separadas\".format(\n",
    "    len(municipios) - len(municipios.drop_duplicates(\"IN1\"))\n",
    "))\n",
    "\n",
    "len(municipios), len(municipios.drop_duplicates(\"IN1\"))"
   ]
  },
  {
   "cell_type": "markdown",
   "metadata": {},
   "source": [
    "Ejemplo: municipio de San Pedro de Jujuy tiene su geometría dividida en 2 polígonos."
   ]
  },
  {
   "cell_type": "code",
   "execution_count": 113,
   "metadata": {},
   "outputs": [
    {
     "data": {
      "text/html": [
       "<div>\n",
       "<style scoped>\n",
       "    .dataframe tbody tr th:only-of-type {\n",
       "        vertical-align: middle;\n",
       "    }\n",
       "\n",
       "    .dataframe tbody tr th {\n",
       "        vertical-align: top;\n",
       "    }\n",
       "\n",
       "    .dataframe thead th {\n",
       "        text-align: right;\n",
       "    }\n",
       "</style>\n",
       "<table border=\"1\" class=\"dataframe\">\n",
       "  <thead>\n",
       "    <tr style=\"text-align: right;\">\n",
       "      <th></th>\n",
       "      <th>OBJECTID</th>\n",
       "      <th>Entidad</th>\n",
       "      <th>Objeto</th>\n",
       "      <th>FNA</th>\n",
       "      <th>GNA</th>\n",
       "      <th>NAM</th>\n",
       "      <th>SAG</th>\n",
       "      <th>FDC</th>\n",
       "      <th>IN1</th>\n",
       "      <th>SHAPE_STAr</th>\n",
       "      <th>SHAPE_STLe</th>\n",
       "      <th>geometry</th>\n",
       "    </tr>\n",
       "  </thead>\n",
       "  <tbody>\n",
       "    <tr>\n",
       "      <td>38</td>\n",
       "      <td>11283</td>\n",
       "      <td>0</td>\n",
       "      <td>Municipio</td>\n",
       "      <td>Municipio San Pedro de Jujuy</td>\n",
       "      <td>Municipio</td>\n",
       "      <td>San Pedro de Jujuy</td>\n",
       "      <td>Direc. Grl. de Inmuebles</td>\n",
       "      <td>Direc. Grl. de Catastro</td>\n",
       "      <td>380224</td>\n",
       "      <td>0.064076</td>\n",
       "      <td>1.424198</td>\n",
       "      <td>POLYGON Z ((-64.49840913399998 -24.30698289499...</td>\n",
       "    </tr>\n",
       "    <tr>\n",
       "      <td>39</td>\n",
       "      <td>11284</td>\n",
       "      <td>0</td>\n",
       "      <td>Municipio</td>\n",
       "      <td>Municipio San Pedro de Jujuy</td>\n",
       "      <td>Municipio</td>\n",
       "      <td>San Pedro de Jujuy</td>\n",
       "      <td>Direc. Grl. de Inmuebles</td>\n",
       "      <td>Direc. Grl. de Catastro</td>\n",
       "      <td>380224</td>\n",
       "      <td>0.051219</td>\n",
       "      <td>1.006599</td>\n",
       "      <td>POLYGON Z ((-64.81677994099994 -24.08563480899...</td>\n",
       "    </tr>\n",
       "  </tbody>\n",
       "</table>\n",
       "</div>"
      ],
      "text/plain": [
       "    OBJECTID  Entidad     Objeto                           FNA        GNA  \\\n",
       "38     11283        0  Municipio  Municipio San Pedro de Jujuy  Municipio   \n",
       "39     11284        0  Municipio  Municipio San Pedro de Jujuy  Municipio   \n",
       "\n",
       "                   NAM                       SAG                      FDC  \\\n",
       "38  San Pedro de Jujuy  Direc. Grl. de Inmuebles  Direc. Grl. de Catastro   \n",
       "39  San Pedro de Jujuy  Direc. Grl. de Inmuebles  Direc. Grl. de Catastro   \n",
       "\n",
       "       IN1  SHAPE_STAr  SHAPE_STLe  \\\n",
       "38  380224    0.064076    1.424198   \n",
       "39  380224    0.051219    1.006599   \n",
       "\n",
       "                                             geometry  \n",
       "38  POLYGON Z ((-64.49840913399998 -24.30698289499...  \n",
       "39  POLYGON Z ((-64.81677994099994 -24.08563480899...  "
      ]
     },
     "execution_count": 113,
     "metadata": {},
     "output_type": "execute_result"
    }
   ],
   "source": [
    "municipios[municipios[\"IN1\"] == \"380224\"]"
   ]
  },
  {
   "cell_type": "code",
   "execution_count": 114,
   "metadata": {},
   "outputs": [
    {
     "data": {
      "text/plain": [
       "<matplotlib.axes._subplots.AxesSubplot at 0x138aed8d0>"
      ]
     },
     "execution_count": 114,
     "metadata": {},
     "output_type": "execute_result"
    },
    {
     "data": {
      "image/png": "[encoded data removed]",
      "text/plain": [
       "<Figure size 432x288 with 1 Axes>"
      ]
     },
     "metadata": {
      "needs_background": "light"
     },
     "output_type": "display_data"
    }
   ],
   "source": [
    "municipios[municipios[\"IN1\"] == \"380224\"].plot()"
   ]
  },
  {
   "cell_type": "markdown",
   "metadata": {},
   "source": [
    "Se aplica el método \"dissolve\" para unir los polígonos de los municipios, generando una sola fila por id sin afectar la forma de los polígonos."
   ]
  },
  {
   "cell_type": "code",
   "execution_count": 115,
   "metadata": {},
   "outputs": [],
   "source": [
    "municipios_dissolved = municipios.dissolve(by='IN1').reset_index()"
   ]
  },
  {
   "cell_type": "code",
   "execution_count": 116,
   "metadata": {},
   "outputs": [
    {
     "data": {
      "text/html": [
       "<div>\n",
       "<style scoped>\n",
       "    .dataframe tbody tr th:only-of-type {\n",
       "        vertical-align: middle;\n",
       "    }\n",
       "\n",
       "    .dataframe tbody tr th {\n",
       "        vertical-align: top;\n",
       "    }\n",
       "\n",
       "    .dataframe thead th {\n",
       "        text-align: right;\n",
       "    }\n",
       "</style>\n",
       "<table border=\"1\" class=\"dataframe\">\n",
       "  <thead>\n",
       "    <tr style=\"text-align: right;\">\n",
       "      <th></th>\n",
       "      <th>IN1</th>\n",
       "      <th>geometry</th>\n",
       "      <th>OBJECTID</th>\n",
       "      <th>Entidad</th>\n",
       "      <th>Objeto</th>\n",
       "      <th>FNA</th>\n",
       "      <th>GNA</th>\n",
       "      <th>NAM</th>\n",
       "      <th>SAG</th>\n",
       "      <th>FDC</th>\n",
       "      <th>SHAPE_STAr</th>\n",
       "      <th>SHAPE_STLe</th>\n",
       "    </tr>\n",
       "  </thead>\n",
       "  <tbody>\n",
       "    <tr>\n",
       "      <td>830</td>\n",
       "      <td>380224</td>\n",
       "      <td>(POLYGON Z ((-64.49840913399998 -24.3069828949...</td>\n",
       "      <td>11283</td>\n",
       "      <td>0</td>\n",
       "      <td>Municipio</td>\n",
       "      <td>Municipio San Pedro de Jujuy</td>\n",
       "      <td>Municipio</td>\n",
       "      <td>San Pedro de Jujuy</td>\n",
       "      <td>Direc. Grl. de Inmuebles</td>\n",
       "      <td>Direc. Grl. de Catastro</td>\n",
       "      <td>0.064076</td>\n",
       "      <td>1.424198</td>\n",
       "    </tr>\n",
       "  </tbody>\n",
       "</table>\n",
       "</div>"
      ],
      "text/plain": [
       "        IN1                                           geometry  OBJECTID  \\\n",
       "830  380224  (POLYGON Z ((-64.49840913399998 -24.3069828949...     11283   \n",
       "\n",
       "     Entidad     Objeto                           FNA        GNA  \\\n",
       "830        0  Municipio  Municipio San Pedro de Jujuy  Municipio   \n",
       "\n",
       "                    NAM                       SAG                      FDC  \\\n",
       "830  San Pedro de Jujuy  Direc. Grl. de Inmuebles  Direc. Grl. de Catastro   \n",
       "\n",
       "     SHAPE_STAr  SHAPE_STLe  \n",
       "830    0.064076    1.424198  "
      ]
     },
     "execution_count": 116,
     "metadata": {},
     "output_type": "execute_result"
    }
   ],
   "source": [
    "municipios_dissolved[municipios_dissolved[\"IN1\"] == \"380224\"]"
   ]
  },
  {
   "cell_type": "code",
   "execution_count": 117,
   "metadata": {},
   "outputs": [
    {
     "data": {
      "text/plain": [
       "<matplotlib.axes._subplots.AxesSubplot at 0x13b919710>"
      ]
     },
     "execution_count": 117,
     "metadata": {},
     "output_type": "execute_result"
    },
    {
     "data": {
      "image/png": "[encoded data removed]",
      "text/plain": [
       "<Figure size 432x288 with 1 Axes>"
      ]
     },
     "metadata": {
      "needs_background": "light"
     },
     "output_type": "display_data"
    }
   ],
   "source": [
    "municipios_dissolved[municipios_dissolved[\"IN1\"] == \"380224\"].plot()"
   ]
  },
  {
   "cell_type": "code",
   "execution_count": 118,
   "metadata": {},
   "outputs": [],
   "source": [
    "municipios_dissolved.to_file(os.path.join(MUNICIPIOS_OUTPUT, MUNICIPIOS_OUTPUT) + \".shp\")"
   ]
  },
  {
   "cell_type": "code",
   "execution_count": null,
   "metadata": {},
   "outputs": [],
   "source": []
  }
 ],
 "metadata": {
  "kernelspec": {
   "display_name": "Python 3",
   "language": "python",
   "name": "python3"
  },
  "language_info": {
   "codemirror_mode": {
    "name": "ipython",
    "version": 3
   },
   "file_extension": ".py",
   "mimetype": "text/x-python",
   "name": "python",
   "nbconvert_exporter": "python",
   "pygments_lexer": "ipython3",
   "version": "3.7.1"
  },
  "toc": {
   "colors": {
    "hover_highlight": "#DAA520",
    "running_highlight": "#FF0000",
    "selected_highlight": "#FFD700"
   },
   "moveMenuLeft": true,
   "nav_menu": {
    "height": "12px",
    "width": "252px"
   },
   "navigate_menu": true,
   "number_sections": true,
   "sideBar": true,
   "threshold": 4,
   "toc_cell": false,
   "toc_section_display": "block",
   "toc_window_display": false
  }
 },
 "nbformat": 4,
 "nbformat_minor": 2
}
