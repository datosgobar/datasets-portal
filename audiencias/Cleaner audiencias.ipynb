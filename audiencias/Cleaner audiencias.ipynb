{
 "cells": [
  {
   "cell_type": "markdown",
   "metadata": {},
   "source": [
    "# Limpieza de un CSV con data-cleaner"
   ]
  },
  {
   "cell_type": "markdown",
   "metadata": {},
   "source": [
    "Se utilizan **data-cleaner** y **pandas** para codificar la limpieza de los datos de un archivo CSV. Primero se realiza una exploración de la tabla aplicando algunas reglas de limpieza y comprobando el resultado generado. Cuando este resultado es satisfactorio, se agrega la regla de limpieza a la lista codificada que luego se utilizará para generar la versión limpia del archivo."
   ]
  },
  {
   "cell_type": "markdown",
   "metadata": {},
   "source": [
    "## Inicio"
   ]
  },
  {
   "cell_type": "code",
   "execution_count": 36,
   "metadata": {
    "collapsed": false
   },
   "outputs": [],
   "source": [
    "from data_cleaner import DataCleaner"
   ]
  },
  {
   "cell_type": "code",
   "execution_count": 37,
   "metadata": {
    "collapsed": true
   },
   "outputs": [],
   "source": [
    "input_path = \"audiencias-raw.csv\"\n",
    "output_path = \"audiencias-clean.csv\""
   ]
  },
  {
   "cell_type": "code",
   "execution_count": 38,
   "metadata": {
    "collapsed": false
   },
   "outputs": [],
   "source": [
    "dc = DataCleaner(input_path)"
   ]
  },
  {
   "cell_type": "markdown",
   "metadata": {},
   "source": [
    "## Exploración y descubrimiento"
   ]
  },
  {
   "cell_type": "code",
   "execution_count": 39,
   "metadata": {
    "collapsed": false
   },
   "outputs": [
    {
     "data": {
      "text/plain": [
       "Index([u'audienciaid', u'obligadodependenciaid', u'obligadoid',\n",
       "       u'obligado_cargo', u'obligado_posicion', u'obligado_apellido',\n",
       "       u'obligado_nombre', u'dependenciaid', u'dependencia_descripcion',\n",
       "       u'dependencia_depende', u'dependencia_posicion',\n",
       "       u'dependenciadescripcion', u'rootdependenciaid',\n",
       "       u'rootdependenciadescripcion', u'fechasolicitud', u'solicitanteid',\n",
       "       u'solic_personajuridica', u'solic_apellido', u'solic_nombre',\n",
       "       u'solic_cargo', u'tipointeresinvocadoid', u'interes_invocado',\n",
       "       u'tipocaracterid', u'desc_caracter', u'representadoid',\n",
       "       u'representado_cargo', u'representado_personajuridica',\n",
       "       u'representado_nombre', u'representado_apellido', u'fechaaudiencia',\n",
       "       u'lugar', u'objeto', u'participante', u'comentario', u'tipoestadoid',\n",
       "       u'desc_estado', u'tipoestadonorealizadaid', u'desc_estado_no_realizado',\n",
       "       u'sintesis', u'obligadoasesorid', u'obligadoasesorcargo',\n",
       "       u'asesor_apellido', u'asesor_nombre', u'asesor_cargo'],\n",
       "      dtype='object')"
      ]
     },
     "execution_count": 39,
     "metadata": {},
     "output_type": "execute_result"
    }
   ],
   "source": [
    "dc.df.columns"
   ]
  },
  {
   "cell_type": "markdown",
   "metadata": {},
   "source": [
    "## Reglas de limpieza codificadas"
   ]
  },
  {
   "cell_type": "code",
   "execution_count": 40,
   "metadata": {
    "collapsed": false
   },
   "outputs": [],
   "source": [
    "rules = [\n",
    "    {\n",
    "        \"remover_columnas\": [\n",
    "            {\"field\": \"obligadodependenciaid\"},\n",
    "            {\"field\": \"obligadoid\"},\n",
    "            {\"field\": \"obligado_posicion\"},\n",
    "            {\"field\": \"dependenciaid\"},\n",
    "            {\"field\": \"dependencia_depende\"},\n",
    "            {\"field\": \"dependencia_posicion\"},\n",
    "            {\"field\": \"rootdependenciaid\"},\n",
    "            {\"field\": \"solicitanteid\"},\n",
    "            {\"field\": \"solic_personajuridica\"},\n",
    "            {\"field\": \"tipointeresinvocadoid\"},\n",
    "            {\"field\": \"tipocaracterid\"},\n",
    "            {\"field\": \"representadoid\"},\n",
    "            {\"field\": \"tipoestadoid\"},\n",
    "            {\"field\": \"tipoestadonorealizadaid\"},\n",
    "            {\"field\": \"obligadoasesorid\"},\n",
    "            {\"field\": \"dependenciadescripcion\"},\n",
    "            \n",
    "        ]\n",
    "    },\n",
    "    {\n",
    "        \"nombre_propio\": [\n",
    "            {\"field\": \"obligado_cargo\", \"keep_original\": False},\n",
    "            {\"field\": \"obligado_apellido\", \"keep_original\": False},\n",
    "            {\"field\": \"obligado_nombre\", \"keep_original\": False},\n",
    "            {\"field\": \"dependencia_descripcion\", \"keep_original\": False},\n",
    "            {\"field\": \"rootdependenciadescripcion\", \"keep_original\": False},\n",
    "            {\"field\": \"solic_apellido\", \"keep_original\": False},\n",
    "            {\"field\": \"solic_nombre\", \"keep_original\": False},\n",
    "            {\"field\": \"solic_cargo\", \"keep_original\": False},\n",
    "            {\"field\": \"interes_invocado\", \"keep_original\": False},\n",
    "            {\"field\": \"desc_caracter\", \"keep_original\": False},\n",
    "            {\"field\": \"representado_apellido\", \"keep_original\": False},\n",
    "            {\"field\": \"desc_estado\", \"keep_original\": False},\n",
    "            {\"field\": \"obligadoasesorcargo\", \"keep_original\": False},\n",
    "            {\"field\": \"asesor_apellido\", \"keep_original\": False},\n",
    "            {\"field\": \"asesor_nombre\", \"keep_original\": False},\n",
    "            {\"field\": \"asesor_cargo\", \"keep_original\": False},\n",
    "        ]\n",
    "    },\n",
    "    {\n",
    "        \"string\": [\n",
    "            {\"field\": \"obligado_cargo\", \"keep_original\": False},\n",
    "            {\"field\": \"obligado_apellido\", \"keep_original\": False},\n",
    "            {\"field\": \"obligado_nombre\", \"keep_original\": False},\n",
    "            {\"field\": \"dependencia_descripcion\", \"keep_original\": False},\n",
    "            {\"field\": \"rootdependenciadescripcion\", \"keep_original\": False},\n",
    "            {\"field\": \"solic_apellido\", \"keep_original\": False},\n",
    "            {\"field\": \"solic_nombre\", \"keep_original\": False},\n",
    "            {\"field\": \"solic_cargo\", \"keep_original\": False},\n",
    "            {\"field\": \"interes_invocado\", \"keep_original\": False},\n",
    "            {\"field\": \"desc_caracter\", \"keep_original\": False},\n",
    "            {\"field\": \"representado_apellido\", \"keep_original\": False},\n",
    "            {\"field\": \"desc_estado\", \"keep_original\": False},\n",
    "            {\"field\": \"obligadoasesorcargo\", \"keep_original\": False},\n",
    "            {\"field\": \"asesor_apellido\", \"keep_original\": False},\n",
    "            {\"field\": \"asesor_nombre\", \"keep_original\": False},\n",
    "            {\"field\": \"asesor_cargo\", \"keep_original\": False},\n",
    "        ]\n",
    "    },\n",
    "    {\n",
    "        \"fecha_completa\": [\n",
    "            {\"field\": \"fechaaudiencia\", \"time_format\": \"YY-MM-DD HH:mm:ss\"},\n",
    "        ]\n",
    "    },\n",
    "    {\n",
    "        \"fecha_simple\": [\n",
    "            {\"field\": \"fechasolicitud\", \"time_format\": \"YY-MM-DD HH:mm:ss\"},\n",
    "        ]\n",
    "    },\n",
    "    {\n",
    "        \"renombrar_columnas\": [\n",
    "            {\"field\": \"audienciaid\", \"new_field\": \"audiencia_id\"},\n",
    "            {\"field\": \"rootdependenciadescripcion\", \"new_field\": \"root_dependencia_descripcion\"},\n",
    "            {\"field\": \"fechasolicitud\", \"new_field\": \"fecha_solicitud\"},\n",
    "            {\"field\": \"fechaaudiencia\", \"new_field\": \"fecha_audiencia\"},\n",
    "            {\"field\": \"representado_personajuridica\", \"new_field\": \"representado_persona_juridica\"},\n",
    "            {\"field\": \"obligadoasesorcargo\", \"new_field\": \"obligado_asesor_cargo\"}\n",
    "        ]\n",
    "    }\n",
    "]"
   ]
  },
  {
   "cell_type": "markdown",
   "metadata": {},
   "source": [
    "## Limpieza"
   ]
  },
  {
   "cell_type": "code",
   "execution_count": 41,
   "metadata": {
    "collapsed": false
   },
   "outputs": [],
   "source": [
    "dc.clean(rules)"
   ]
  },
  {
   "cell_type": "code",
   "execution_count": 42,
   "metadata": {
    "collapsed": false
   },
   "outputs": [
    {
     "name": "stdout",
     "output_type": "stream",
     "text": [
      "audiencia_id\n",
      "\r",
      "obligado_cargo\n",
      "\r",
      "obligado_apellido\n",
      "\r",
      "obligado_nombre\n",
      "\r",
      "dependencia_descripcion\n",
      "\r",
      "root_dependencia_descripcion\n",
      "\r",
      "fecha_solicitud\n",
      "\r",
      "solic_apellido\n",
      "\r",
      "solic_nombre\n",
      "\r",
      "solic_cargo\n",
      "\r",
      "interes_invocado\n",
      "\r",
      "desc_caracter\n",
      "\r",
      "representado_cargo\n",
      "\r",
      "representado_persona_juridica\n",
      "\r",
      "representado_nombre\n",
      "\r",
      "representado_apellido\n",
      "\r",
      "fecha_audiencia\n",
      "\r",
      "lugar\n",
      "\r",
      "objeto\n",
      "\r",
      "participante\n",
      "\r",
      "comentario\n",
      "\r",
      "desc_estado\n",
      "\r",
      "desc_estado_no_realizado\n",
      "\r",
      "sintesis\n",
      "\r",
      "obligado_asesor_cargo\n",
      "\r",
      "asesor_apellido\n",
      "\r",
      "asesor_nombre\n",
      "\r",
      "asesor_cargo\n",
      "\r"
     ]
    }
   ],
   "source": [
    "from __future__ import print_function\n",
    "for c in dc.df.columns:\n",
    "    print(\"%s\\n\\r\" % c, end=\"\")"
   ]
  },
  {
   "cell_type": "code",
   "execution_count": 44,
   "metadata": {
    "collapsed": false
   },
   "outputs": [
    {
     "data": {
      "text/plain": [
       "0        2004-11-02T12:00:00-03:00\n",
       "1        2004-11-03T11:00:00-03:00\n",
       "2        2004-11-01T14:30:00-03:00\n",
       "3        2004-11-01T11:30:00-03:00\n",
       "4        2004-11-01T13:00:00-03:00\n",
       "5        2004-11-02T15:30:00-03:00\n",
       "6        2004-11-01T15:30:00-03:00\n",
       "7        2004-11-01T17:00:00-03:00\n",
       "8        2004-11-09T16:00:00-03:00\n",
       "9        2004-11-02T05:00:00-03:00\n",
       "10       2004-10-27T17:00:00-03:00\n",
       "11       2004-11-02T16:00:00-03:00\n",
       "12       2004-11-05T15:30:00-03:00\n",
       "13       2004-11-04T16:00:00-03:00\n",
       "14       2004-11-10T00:00:00-03:00\n",
       "15       2004-11-10T15:00:00-03:00\n",
       "16       2004-11-11T13:00:00-03:00\n",
       "17       2004-11-11T00:00:00-03:00\n",
       "18       2004-11-11T00:00:00-03:00\n",
       "19       2004-11-11T00:00:00-03:00\n",
       "20       2004-11-11T00:00:00-03:00\n",
       "21       2004-11-09T16:30:00-03:00\n",
       "22       2004-11-12T15:30:00-03:00\n",
       "23       2004-11-02T16:00:00-03:00\n",
       "24       2004-11-01T17:00:00-03:00\n",
       "25       2004-11-03T17:00:00-03:00\n",
       "26       2004-11-09T10:00:00-03:00\n",
       "27       2004-11-09T15:00:00-03:00\n",
       "28       2004-11-12T10:30:00-03:00\n",
       "29       2004-11-12T14:00:00-03:00\n",
       "                   ...            \n",
       "66829    2016-01-08T12:30:00-03:00\n",
       "66830    2016-01-27T12:00:00-03:00\n",
       "66831    2016-01-06T11:00:00-03:00\n",
       "66832    2016-01-06T12:00:00-03:00\n",
       "66833    2016-01-06T15:00:00-03:00\n",
       "66834    2016-01-06T16:00:00-03:00\n",
       "66835    2016-02-10T17:00:00-03:00\n",
       "66836    2016-01-07T16:00:00-03:00\n",
       "66837    2016-01-14T11:00:00-03:00\n",
       "66838    2016-02-10T16:00:00-03:00\n",
       "66839    2016-02-16T10:00:00-03:00\n",
       "66840    2016-02-16T11:00:00-03:00\n",
       "66841    2015-12-16T16:00:00-03:00\n",
       "66842    2015-12-16T17:30:00-03:00\n",
       "66843    2015-12-16T19:00:00-03:00\n",
       "66844    2015-12-17T09:00:00-03:00\n",
       "66845    2016-02-18T10:00:00-03:00\n",
       "66846    2015-12-17T09:30:00-03:00\n",
       "66847    2015-12-17T10:00:00-03:00\n",
       "66848    2015-12-17T10:40:00-03:00\n",
       "66849    2015-12-17T11:15:00-03:00\n",
       "66850    2015-12-21T16:00:00-03:00\n",
       "66851    2015-12-30T17:00:00-03:00\n",
       "66852    2015-12-30T17:00:00-03:00\n",
       "66853    2016-01-05T10:00:00-03:00\n",
       "66854    2016-01-06T16:00:00-03:00\n",
       "66855    2016-01-07T11:00:00-03:00\n",
       "66856    2016-01-07T15:00:00-03:00\n",
       "66857    2016-01-07T15:30:00-03:00\n",
       "66858    2016-01-08T17:30:00-03:00\n",
       "Name: fecha_audiencia, dtype: object"
      ]
     },
     "execution_count": 44,
     "metadata": {},
     "output_type": "execute_result"
    }
   ],
   "source": [
    "dc.df.dato"
   ]
  },
  {
   "cell_type": "code",
   "execution_count": 23,
   "metadata": {
    "collapsed": true
   },
   "outputs": [],
   "source": [
    "dc.save(output_path)"
   ]
  },
  {
   "cell_type": "code",
   "execution_count": null,
   "metadata": {
    "collapsed": true
   },
   "outputs": [],
   "source": []
  }
 ],
 "metadata": {
  "hide_input": false,
  "kernelspec": {
   "display_name": "Python 2",
   "language": "python",
   "name": "python2"
  },
  "language_info": {
   "codemirror_mode": {
    "name": "ipython",
    "version": 2
   },
   "file_extension": ".py",
   "mimetype": "text/x-python",
   "name": "python",
   "nbconvert_exporter": "python",
   "pygments_lexer": "ipython2",
   "version": "2.7.11"
  }
 },
 "nbformat": 4,
 "nbformat_minor": 0
}
