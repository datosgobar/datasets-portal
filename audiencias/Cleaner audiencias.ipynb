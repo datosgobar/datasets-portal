{
 "cells": [
  {
   "cell_type": "markdown",
   "metadata": {},
   "source": [
    "# Limpieza de un CSV con data-cleaner"
   ]
  },
  {
   "cell_type": "markdown",
   "metadata": {},
   "source": [
    "Se utilizan **data-cleaner** y **pandas** para codificar la limpieza de los datos de un archivo CSV. Primero se realiza una exploración de la tabla aplicando algunas reglas de limpieza y comprobando el resultado generado. Cuando este resultado es satisfactorio, se agrega la regla de limpieza a la lista codificada que luego se utilizará para generar la versión limpia del archivo."
   ]
  },
  {
   "cell_type": "markdown",
   "metadata": {},
   "source": [
    "## Inicio"
   ]
  },
  {
   "cell_type": "code",
   "execution_count": null,
   "metadata": {
    "collapsed": false
   },
   "outputs": [],
   "source": [
    "from data_cleaner import DataCleaner"
   ]
  },
  {
   "cell_type": "code",
   "execution_count": null,
   "metadata": {
    "collapsed": true
   },
   "outputs": [],
   "source": [
    "input_path = \"audiencias-raw.csv\"\n",
    "output_path = \"audiencias-clean.csv\""
   ]
  },
  {
   "cell_type": "code",
   "execution_count": 25,
   "metadata": {
    "collapsed": false
   },
   "outputs": [],
   "source": [
    "dc = DataCleaner(input_path)"
   ]
  },
  {
   "cell_type": "markdown",
   "metadata": {},
   "source": [
    "## Exploración y descubrimiento"
   ]
  },
  {
   "cell_type": "code",
   "execution_count": null,
   "metadata": {
    "collapsed": false
   },
   "outputs": [],
   "source": [
    "dc.df"
   ]
  },
  {
   "cell_type": "code",
   "execution_count": null,
   "metadata": {
    "collapsed": false
   },
   "outputs": [],
   "source": [
    "dc.nombre_propio(\"dependencia\").tail()"
   ]
  },
  {
   "cell_type": "markdown",
   "metadata": {},
   "source": [
    "## Reglas de limpieza codificadas"
   ]
  },
  {
   "cell_type": "code",
   "execution_count": 26,
   "metadata": {
    "collapsed": false
   },
   "outputs": [],
   "source": [
    "rules = [\n",
    "    {\n",
    "        \"remover_columnas\": [\n",
    "            {\"field\": \"obligadodependenciaid\"},\n",
    "            {\"field\": \"obligadoid\"},\n",
    "            {\"field\": \"obligado_posicion\"},\n",
    "            {\"field\": \"dependenciaid\"},\n",
    "            {\"field\": \"dependencia_depende\"},\n",
    "            {\"field\": \"dependencia_posicion\"},\n",
    "            {\"field\": \"rootdependenciaid\"},\n",
    "            {\"field\": \"solicitanteid\"},\n",
    "            {\"field\": \"solic_personajuridica\"},\n",
    "            {\"field\": \"tipointeresinvocadoid\"},\n",
    "            {\"field\": \"tipocaracterid\"},\n",
    "            {\"field\": \"representadoid\"},\n",
    "            {\"field\": \"tipoestadoid\"},\n",
    "            {\"field\": \"tipoestadonorealizadaid\"},\n",
    "            {\"field\": \"obligadoasesorid\"},\n",
    "            {\"field\": \"dependenciadescripcion\"},\n",
    "            \n",
    "        ]\n",
    "    },\n",
    "    {\n",
    "        \"nombre_propio\": [\n",
    "            {\"field\": \"obligado_cargo\", \"keep_original\": False},\n",
    "            {\"field\": \"obligado_apellido\", \"keep_original\": False},\n",
    "            {\"field\": \"obligado_nombre\", \"keep_original\": False},\n",
    "            {\"field\": \"dependencia_descripcion\", \"keep_original\": False},\n",
    "            {\"field\": \"rootdependenciadescripcion\", \"keep_original\": False},\n",
    "            {\"field\": \"solic_apellido\", \"keep_original\": False},\n",
    "            {\"field\": \"solic_nombre\", \"keep_original\": False},\n",
    "            {\"field\": \"solic_cargo\", \"keep_original\": False},\n",
    "            {\"field\": \"interes_invocado\", \"keep_original\": False},\n",
    "            {\"field\": \"desc_caracter\", \"keep_original\": False},\n",
    "            {\"field\": \"representado_apellido\", \"keep_original\": False},\n",
    "            {\"field\": \"desc_estado\", \"keep_original\": False},\n",
    "            {\"field\": \"obligadoasesorcargo\", \"keep_original\": False},\n",
    "            {\"field\": \"asesor_apellido\", \"keep_original\": False},\n",
    "            {\"field\": \"asesor_nombre\", \"keep_original\": False},\n",
    "            {\"field\": \"asesor_cargo\", \"keep_original\": False},\n",
    "        ]\n",
    "    },\n",
    "    {\n",
    "        \"string\": [\n",
    "            {\"field\": \"obligado_cargo\", \"keep_original\": False},\n",
    "            {\"field\": \"obligado_apellido\", \"keep_original\": False},\n",
    "            {\"field\": \"obligado_nombre\", \"keep_original\": False},\n",
    "            {\"field\": \"dependencia_descripcion\", \"keep_original\": False},\n",
    "            {\"field\": \"rootdependenciadescripcion\", \"keep_original\": False},\n",
    "            {\"field\": \"solic_apellido\", \"keep_original\": False},\n",
    "            {\"field\": \"solic_nombre\", \"keep_original\": False},\n",
    "            {\"field\": \"solic_cargo\", \"keep_original\": False},\n",
    "            {\"field\": \"interes_invocado\", \"keep_original\": False},\n",
    "            {\"field\": \"desc_caracter\", \"keep_original\": False},\n",
    "            {\"field\": \"representado_apellido\", \"keep_original\": False},\n",
    "            {\"field\": \"desc_estado\", \"keep_original\": False},\n",
    "            {\"field\": \"obligadoasesorcargo\", \"keep_original\": False},\n",
    "            {\"field\": \"asesor_apellido\", \"keep_original\": False},\n",
    "            {\"field\": \"asesor_nombre\", \"keep_original\": False},\n",
    "            {\"field\": \"asesor_cargo\", \"keep_original\": False},\n",
    "        ]\n",
    "    },\n",
    "    {\"fecha_completa\": [\n",
    "        {\"field\": \"fechaaudiencia\", \"time_format\": \"YY-MM-DD HH:mm:ss\"},\n",
    "    ]},\n",
    "    {\"fecha_simple\": [\n",
    "        {\"field\": \"fechasolicitud\", \"time_format\": \"YY-MM-DD HH:mm:ss\"},\n",
    "    ]}\n",
    "]"
   ]
  },
  {
   "cell_type": "code",
   "execution_count": null,
   "metadata": {
    "collapsed": false
   },
   "outputs": [],
   "source": [
    "dc.clean(rules)"
   ]
  },
  {
   "cell_type": "code",
   "execution_count": 24,
   "metadata": {
    "collapsed": false
   },
   "outputs": [
    {
     "name": "stdout",
     "output_type": "stream",
     "text": [
      "audienciaid\n",
      "\r",
      "obligado_cargo\n",
      "\r",
      "obligado_posicion\n",
      "\r",
      "obligado_apellido\n",
      "\r",
      "obligado_nombre\n",
      "\r",
      "dependencia_descripcion\n",
      "\r",
      "rootdependenciadescripcion\n",
      "\r",
      "fechasolicitud\n",
      "\r",
      "solic_apellido\n",
      "\r",
      "solic_nombre\n",
      "\r",
      "solic_cargo\n",
      "\r",
      "interes_invocado\n",
      "\r",
      "desc_caracter\n",
      "\r",
      "representado_cargo\n",
      "\r",
      "representado_personajuridica\n",
      "\r",
      "representado_nombre\n",
      "\r",
      "representado_apellido\n",
      "\r",
      "fechaaudiencia\n",
      "\r",
      "lugar\n",
      "\r",
      "objeto\n",
      "\r",
      "participante\n",
      "\r",
      "comentario\n",
      "\r",
      "desc_estado\n",
      "\r",
      "desc_estado_no_realizado\n",
      "\r",
      "sintesis\n",
      "\r",
      "obligadoasesorcargo\n",
      "\r",
      "asesor_apellido\n",
      "\r",
      "asesor_nombre\n",
      "\r",
      "asesor_cargo\n",
      "\r"
     ]
    }
   ],
   "source": [
    "from __future__ import print_function\n",
    "for c in dc.df.columns:\n",
    "    print(\"%s\\n\\r\" % c, end=\"\")"
   ]
  },
  {
   "cell_type": "code",
   "execution_count": 23,
   "metadata": {
    "collapsed": true
   },
   "outputs": [],
   "source": [
    "dc.save(output_path)"
   ]
  },
  {
   "cell_type": "code",
   "execution_count": null,
   "metadata": {
    "collapsed": true
   },
   "outputs": [],
   "source": []
  }
 ],
 "metadata": {
  "hide_input": false,
  "kernelspec": {
   "display_name": "Python 2",
   "language": "python",
   "name": "python2"
  },
  "language_info": {
   "codemirror_mode": {
    "name": "ipython",
    "version": 2
   },
   "file_extension": ".py",
   "mimetype": "text/x-python",
   "name": "python",
   "nbconvert_exporter": "python",
   "pygments_lexer": "ipython2",
   "version": "2.7.6"
  }
 },
 "nbformat": 4,
 "nbformat_minor": 0
}
